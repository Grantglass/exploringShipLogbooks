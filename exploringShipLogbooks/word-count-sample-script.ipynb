{
 "cells": [
  {
   "cell_type": "code",
   "execution_count": 3,
   "metadata": {
    "collapsed": false
   },
   "outputs": [],
   "source": [
    "import pandas as pd\n",
    "import word_count as wc"
   ]
  },
  {
   "cell_type": "code",
   "execution_count": 4,
   "metadata": {
    "collapsed": false
   },
   "outputs": [
    {
     "name": "stderr",
     "output_type": "stream",
     "text": [
      "C:\\Users\\Emma\\Anaconda3\\lib\\site-packages\\IPython\\core\\interactiveshell.py:2902: DtypeWarning: Columns (5,6,7,8,11,13,18,19,23,24,25,26,28,29,30,34,35,38,43,44,46,73,77,81,82,84,85,87,88,94,96,97,98,99,111,114,116,119,120,122,124,125,127,129,131,133,135,137,140) have mixed types. Specify dtype option on import or set low_memory=False.\n",
      "  interactivity=interactivity, compiler=compiler, result=result)\n"
     ]
    }
   ],
   "source": [
    "# load data\n",
    "file = '../data/CLIWOC15.csv'\n",
    "data = pd.read_csv(file)\n"
   ]
  },
  {
   "cell_type": "code",
   "execution_count": 32,
   "metadata": {
    "collapsed": false,
    "scrolled": true
   },
   "outputs": [],
   "source": [
    "columns = ['CargoMemo', 'LifeOnBoardMemo', 'OtherRem', 'EncRem']\n",
    "key_words = ['slave',  'slaves', 'slaaf', 'slaven', 'meisjesslaaf', 'manslaaf', 'manslaven', \n",
    "            'slavenjong','jongensslaaf', 'meidslaaf', 'servant',\n",
    "            'slavenmeid', 'vrouwslaaf', 'vrouwslaven', 'slavenhandel', 'slaaf',\n",
    "            'esclavo', 'esclavos', 'esclave', 'esclaves']\n",
    "\n",
    "mentions_key_words = wc.count_key_words(data, columns, key_words)"
   ]
  },
  {
   "cell_type": "code",
   "execution_count": 26,
   "metadata": {
    "collapsed": true
   },
   "outputs": [],
   "source": [
    "# store data in csv file\n",
    "mentions_key_words.to_csv('logs-with-slave-mentions.csv')"
   ]
  },
  {
   "cell_type": "code",
   "execution_count": 33,
   "metadata": {
    "collapsed": false,
    "scrolled": true
   },
   "outputs": [],
   "source": [
    "slave_logs = mentions_key_words[mentions_key_words['ContainsKeyWord']!=0]"
   ]
  },
  {
   "cell_type": "code",
   "execution_count": 60,
   "metadata": {
    "collapsed": true
   },
   "outputs": [],
   "source": [
    "def unique_instances(data_to_count, columns):\n",
    "    \"\"\"\n",
    "    find number of unique instances of a combination of columns in a pandas dataframe.\n",
    "    \n",
    "    i.e. columns = ['VoyageFrom', 'VoyageTo'] will return the number of rows that have\n",
    "    a unique combination of VoyageFrom and VoyageTo values\"\"\"\n",
    "    \n",
    "    ID = pd.Series([' '] * len(data_to_count))\n",
    "    ID.index = data_to_count.index\n",
    "    \n",
    "    for column in columns:\n",
    "        ID += data_to_count[column]\n",
    "   \n",
    "    return len(ID.unique())"
   ]
  },
  {
   "cell_type": "code",
   "execution_count": 61,
   "metadata": {
    "collapsed": false
   },
   "outputs": [
    {
     "name": "stdout",
     "output_type": "stream",
     "text": [
      "Statistics for entire data set:\n",
      "Unique shipname: 949\n",
      "Unique Voyage start and end locations: 2702\n",
      "Unique ship name and start and end locations: 3967\n"
     ]
    }
   ],
   "source": [
    "# calculate statsitics for entire data set \n",
    "\n",
    "print('Statistics for entire data set:')\n",
    "print('Unique shipname:', unique_instances(data, ['ShipName']))\n",
    "print('Unique Voyage start and end locations:',\n",
    "      unique_instances(data, ['VoyageFrom', 'VoyageTo']))\n",
    "print('Unique ship name and start and end locations:', \n",
    "      unique_instances(data, ['ShipName', 'VoyageFrom', 'VoyageTo']))\n"
   ]
  },
  {
   "cell_type": "code",
   "execution_count": 62,
   "metadata": {
    "collapsed": false
   },
   "outputs": [
    {
     "name": "stdout",
     "output_type": "stream",
     "text": [
      "Statistics for slave logs:\n",
      "Unique shipname: 28\n",
      "Unique Voyage start and end locations: 44\n",
      "Unique ship name and start and end locations: 58\n"
     ]
    }
   ],
   "source": [
    "# calculate statstics for slave logs only \n",
    "print('Statistics for slave logs:')\n",
    "print('Unique shipname:', unique_instances(slave_logs, ['ShipName']))\n",
    "print('Unique Voyage start and end locations:',\n",
    "      unique_instances(slave_logs, ['VoyageFrom', 'VoyageTo']))\n",
    "print('Unique ship name and start and end locations:', \n",
    "      unique_instances(slave_logs, ['ShipName', 'VoyageFrom', 'VoyageTo']))"
   ]
  }
 ],
 "metadata": {
  "kernelspec": {
   "display_name": "Python 3",
   "language": "python",
   "name": "python3"
  },
  "language_info": {
   "codemirror_mode": {
    "name": "ipython",
    "version": 3
   },
   "file_extension": ".py",
   "mimetype": "text/x-python",
   "name": "python",
   "nbconvert_exporter": "python",
   "pygments_lexer": "ipython3",
   "version": "3.5.1"
  }
 },
 "nbformat": 4,
 "nbformat_minor": 0
}
