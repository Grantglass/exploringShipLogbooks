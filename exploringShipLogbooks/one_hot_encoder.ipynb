{
 "cells": [
  {
   "cell_type": "code",
   "execution_count": 3,
   "metadata": {
    "collapsed": false
   },
   "outputs": [],
   "source": [
    "import zipfile\n",
    "\n",
    "import ipywidgets as widgets\n",
    "import matplotlib.pyplot as plt\n",
    "import numpy as np\n",
    "import pandas as pd\n",
    "import word_count as wc\n",
    "\n",
    "from basic_utils import create_widget\n",
    "from basic_utils import extract_logbook_data\n",
    "from basic_utils import remove_undesired_columns\n",
    "from IPython.display import display\n",
    "from sklearn import preprocessing"
   ]
  },
  {
   "cell_type": "markdown",
   "metadata": {},
   "source": [
    "## Columns needed\n",
    "\n",
    "- time of year\n",
    "- year\n",
    "- ship name\n",
    "- start point\n",
    "- end point\n",
    "- nationality\n",
    "- wars and battles"
   ]
  },
  {
   "cell_type": "code",
   "execution_count": 4,
   "metadata": {
    "collapsed": false
   },
   "outputs": [
    {
     "name": "stderr",
     "output_type": "stream",
     "text": [
      "/Applications/miniconda3/lib/python3.5/site-packages/IPython/core/interactiveshell.py:2825: DtypeWarning: Columns (5,6,7,8,11,13,18,19,23,24,25,26,28,29,30,34,35,38,43,44,46,73,77,81,82,84,85,87,88,94,96,97,98,99,111,114,116,119,120,122,124,125,127,129,131,133,135,137,140) have mixed types. Specify dtype option on import or set low_memory=False.\n",
      "  if self.run_code(code, result):\n"
     ]
    }
   ],
   "source": [
    "logbook_data = extract_logbook_data('CLIWOC15.csv')"
   ]
  },
  {
   "cell_type": "code",
   "execution_count": 5,
   "metadata": {
    "collapsed": true
   },
   "outputs": [],
   "source": [
    "desired_columns_text=list(np.array(['VoyageFrom', 'VoyageTo', 'ShipName', 'ShipType', \n",
    "                                    'Company', 'Nationality', 'WarsAndFights', 'Year']))\n",
    "undesired_columns = remove_undesired_columns(logbook_data, desired_columns_text)\n",
    "data = logbook_data.drop(undesired_columns, axis=1)"
   ]
  },
  {
   "cell_type": "code",
   "execution_count": 12,
   "metadata": {
    "collapsed": true
   },
   "outputs": [],
   "source": [
    "columns = ['CargoMemo', 'LifeOnBoardMemo', 'OtherRem', 'EncRem']\n",
    "key_words = ['slave',  'slaves', 'slaaf', 'slaven', 'meisjesslaaf', 'manslaaf', 'manslaven', \n",
    "            'slavenjong','jongensslaaf', 'meidslaaf', 'servant',\n",
    "            'slavenmeid', 'vrouwslaaf', 'vrouwslaven', 'slavenhandel', 'slaaf',\n",
    "            'esclavo', 'esclavos', 'esclave', 'esclaves']\n",
    "\n",
    "mentions_key_words = wc.count_key_words(logbook_data, columns, key_words)\n",
    "slave_index = mentions_key_words[(mentions_key_words['ContainsKeyWord'] != 0)].index"
   ]
  },
  {
   "cell_type": "code",
   "execution_count": 14,
   "metadata": {
    "collapsed": false
   },
   "outputs": [],
   "source": [
    "data = data.loc[slave_index.values]"
   ]
  },
  {
   "cell_type": "code",
   "execution_count": 116,
   "metadata": {
    "collapsed": true
   },
   "outputs": [],
   "source": [
    "def preprocessing_data(df_input):\n",
    "    le = preprocessing.LabelEncoder()\n",
    "    le.fit(df_input)\n",
    "    print(list(le.classes_))\n",
    "    print(len(list(le.classes_)))\n",
    "    return le.transform(df_input) "
   ]
  },
  {
   "cell_type": "code",
   "execution_count": null,
   "metadata": {
    "collapsed": true
   },
   "outputs": [],
   "source": [
    "class MultiColumnLabelEncoder:\n",
    "    def __init__(self,columns = None):\n",
    "        self.columns = columns # array of column names to encode\n",
    "\n",
    "    def fit(self,X,y=None):\n",
    "        return self # not relevant here\n",
    "\n",
    "    def transform(self,X):\n",
    "        '''\n",
    "        Transforms columns of X specified in self.columns using\n",
    "        LabelEncoder(). If no columns specified, transforms all\n",
    "        columns in X.\n",
    "        '''\n",
    "        output = X.copy()\n",
    "        encoding = pd.DataFrame(index=X.index,columns=X.columns)\n",
    "        print(output)\n",
    "        print(self.columns)\n",
    "        if self.columns is not None:\n",
    "            for col in self.columns:\n",
    "                encoding[col][0:len(LabelEncoder().fit(output[col]).classes_)] = LabelEncoder().fit(output[col]).classes_\n",
    "                output[col] = LabelEncoder().fit_transform(output[col])\n",
    "        else:\n",
    "            for col in output.columns:\n",
    "                encoding[col][0:len(LabelEncoder().fit(output[col]).classes_)] = LabelEncoder().fit(output[col]).classes_\n",
    "                output[col] = LabelEncoder().fit_transform(output[col])\n",
    "        encoding = encoding.dropna(axis=0, how='all')\n",
    "        return output, encoding\n",
    "\n",
    "    def fit_transform(self,X,y=None): \n",
    "        return self.transform(X)\n"
   ]
  },
  {
   "cell_type": "code",
   "execution_count": 117,
   "metadata": {
    "collapsed": false
   },
   "outputs": [
    {
     "name": "stdout",
     "output_type": "stream",
     "text": [
      "[' rochefort', \"'t nieuwe diep\", '(gilolo) halmahira', 'acapulco', 'acara', 'accra', 'accrah', 'accraw', 'achean', 'achean head', 'achean head, sumatra', 'acheen', 'acheen (sumatra)', 'acheen head, sumatra', 'achin road', 'adelaide', 'aden', 'afrika', 'aguadilla', 'akijab', 'algeciras', 'algiers', 'algoa baai', 'alicante', 'allerheiligen baaij', 'allicanten', 'amboina', 'ambon', 'amboyna', 'amsterdam', 'anguilla', 'anjango', 'anjango road', 'anjengo', 'anjer', 'anna de chaces', 'anna maria', 'annabona', 'antigua', 'antigua ', 'antwerpen', 'arika', 'ascension', 'augustine bay, madagascar', 'avatscha', 'axim', 'azoren', 'azores', 'baai fals', 'baai falso', 'baai jacomel', 'baai van punto', 'baaij falso', 'baaij van algoa', 'back bay, trincomalee', 'bahamas', 'bahia', 'bahia de todos los santos', 'bahía de cádiz', 'bali', 'bali (java)', 'baltimore', 'banda', 'bangoewangie', 'bangowangie', 'banjoemangie', 'banjoewangi', 'banjoewangie', 'banjouwangie', 'bantam', 'barbados', 'barbados (cruising)', 'barcelona', 'barnpool, plymouth', 'barnstable bay', 'baroes', 'basse terre', 'basse terre road, st kitts', 'basse terre roads', 'batavia', 'batavia ', 'batavia road', 'bayonne', 'beachy head', 'belize', 'bembridge', 'bencoolen', 'bengal', 'bengalen', 'bengall', 'benkulen', 'benkuleu', 'bergen', 'bermuda', 'bezoeki', 'bilbao', 'bocht van guinee', 'bombay', 'bona vista', 'bordeaux', 'boston', 'boston  ', 'braamspunt', 'bramspunt', 'bremen', 'brest', 'bretts harbour', 'brissel', 'bristol', 'brouwershaven', 'brunswick', 'bucarely', 'bueno aires', 'buenos aires', 'caap de goede hoop', 'cabo de buena esperanza', 'cabo de gracias a dios', 'cadise', 'cadix', 'cadiz', 'caicos', 'calcuta', 'calcuta.', 'calcutta', 'calcutta ', 'callao', 'campeche', 'canaria', 'canton', 'canton ', 'canton river, china', 'cap', 'cap francaise', 'cap francis', 'cap francois', 'cape', 'cape ', 'cape agullas', 'cape blanco', 'cape caravella, martinique', 'cape clear', 'cape coast', 'cape comerin', 'cape delgada - east africa', 'cape fear', 'cape florida', 'cape francois harbour', 'cape francois harbour, hispanola', 'cape good hope', 'cape henlopen', 'cape laguallas', 'cape lagullas', 'cape lopez', 'cape lougan', 'cape moniferado', 'cape mount', 'cape nicholas', 'cape nicholas (santo domingo)', 'cape of florida', 'cape of good hope', 'cape of good hope ', 'cape pallisser new zealand', 'cape ray (newfoundland)', 'cape sambrough', 'cape serra lion', 'cape spear (newfoundland)', 'cape st maries', 'cape st mary (s america)', 'cape st nicholas', 'cape st vincent', 'cape verde', 'cape verde (dakar)', 'capetown', 'cardiff', 'caribe', 'caribean', 'carlisle bay', 'carlisle bay falkland islands', 'carlisle bay, barbados', 'carrick road', 'cartagena', 'cartagena?', 'casserijen', 'castries', 'cavité', 'cayenne', 'caymans bay (cape)', 'ceijlon', 'ceserijen', 'ceylon', 'charillo', 'charles town', 'charles town (charleston usa)', 'charles town (charleston)', 'charleston', 'charlestown', 'cherillos', 'chibucto harbour (halifax)', 'chiloé', 'chintsura', 'churchill', 'clarence cove', 'coal harbour', 'coastal', 'coastal caribean', 'coastal east india', 'coastal gulf of guinea', 'coastal gulf of guinee', 'coastal suriname', 'cochin', 'cochine', 'colombo', 'colombo (sri lanka)', 'concepción (chile)', 'connecticutt', 'cork', 'cork ', 'cork (western approaches)', 'cormantijn', 'coromandel', 'coruña', 'corvo', 'costa patagónica', 'coulon', 'cowes rd', 'cowes road', \"cox's island (bengal)\", 'cracatoa', 'crakatoa', 'crany island', 'crew setra', 'crooked island (bahamas)', 'croque, newfoundland', 'cruise off cape', 'cruising', 'cruising off port royal', 'cuba', 'cul de sac', 'cumbava', 'curacao', 'curaçao', 'cádiz', 'cádiz?', 'dauphin bay, madagascar', 'davilican baai', 'de la soledad (malvinas)', 'del fuego', 'delgada bay', 'dellago bay', 'demerary', 'demmerarij', 'den helder', 'deptford', 'desconocido', 'desconocido (creo que acapulco)', 'desconocido (mares de nicaragua)', 'diamond harbour, bengal', 'diego garcia', 'diego ray', 'diego rays', 'diego rays (rodriques)', 'dixcove', 'dordrecht', 'dover', 'downs', 'downs ', 'downs uk', 'downs uk ', 'dublin bay', 'duins', 'dungeness', 'dunnose', 'dunnoze', 'easter island', 'egg island', 'el callao', 'el callao (lima)', 'el callao (lima, perú)', 'el callao de lima', 'el ferrol', 'el mina', 'elmina', 'england', 'english bay, antigua', 'ensenada de montevideo', 'eppe', 'eppee', 'equator', 'estrecho de magallanes', 'estrecho de san bernardino', 'europa', 'falkland islands', 'falmouth', 'falmouth ', 'false baay', 'false bay', 'fayal', 'fayal, azores', 'fenshall road madeira', 'ferdinando loronho', 'fernando de noronha', 'fernando noronha', 'ferro', 'ferrol', 'ferrol harbour  ', 'filipinas', 'fishing grounds', 'flat island, mauritius', 'florida', 'florida blanca', 'florida keys', 'fonciaal', 'fontiaal', 'fort amsterdam', 'fort axim', 'fort dauphin', 'fort royal', 'fort royal, martinique', 'fort st david', 'fort st david road (madras)', 'fort st davids road', 'fort st francisco', 'fort st georges', 'fort william', 'fort zeelandia', 'frankrijk', 'freetown', 'fruxillo', 'funchal', 'funchal road', 'funchal road (madeira)', 'funchal roads', 'funchal towards azores and back', 'funchall road', 'fyall (azores)', 'fyall bay (azores)', 'galapagos', 'galle (ceylon)', 'gambia ', 'gambia river', 'gamron', 'gibraltar', 'gibralter', 'goa road', 'goede rheede', 'golf van guinee', 'gothenburg', 'grand canarien', 'gravesend', 'gravesend ', 'gravesend uk', 'guadeloupe', 'guayaquil', 'guernsey', 'guinea', 'guinee', 'guinnee (kaap axim)', 'gujana', 'gulf of aden', 'gulf of guinea', 'gulf of maine', 'guyana', 'halifax', 'halifax (chabukta harbour)', 'hammoze', 'hamoaze', 'hampton', 'hampton road', 'hampton road (virginia)', 'hampton road virginia', 'hampton road, virginia', 'hartlepool', 'havana', 'havana (cuba)', 'havanna', 'havannah', 'havannah (cuba)', 'havre', 'hawaiian islands', 'hellevoetsluis', 'helvoetsluis', 'het nieuwe diep', 'holland', 'honfleur', 'hong kong', 'hudson bay', 'hudson bay moose', 'i. del cuervo', 'iceland', \"ile d'aix\", 'ile de paque', 'ile mowée', 'indian archipelago', 'indische zee', 'ingelee', 'ingerlee', 'isla de albimor en las galapagos', 'isla de francia', 'isla de pascua', 'isla del principe', 'isla santa catalina (brasil)', 'island of bourbon', \"isle d'aix\", 'isle de rhé', 'isle d´aix', 'isle of bec (canada)', 'ivoorkust', 'jamaica', 'jamaica ', 'jamaica port royal', 'java', 'java head', 'java head ', 'java head via st helena', 'jersey', 'joanna', 'johanna', 'kaap de goede hoop', 'kaap de goede hoop via o. indie', 'kaap lahoe', 'kaap monte / kaap misurado', 'kaap noord', 'kaapstad', 'kauai', 'kedgeree', 'kegerree', 'kema', \"king george's sound\", 'kingsale', 'kingston', 'kinsale', 'kinsale ', 'kinsale (eire)', 'kinsale road', 'kust van guinea', \"l'ile d'aix\", \"l'isle d'aix\", 'la barbade', 'la carboniere', 'la coruña', 'la guadeloupe', 'la guaijra', 'la guayra', 'la habana', 'la habana.', 'la havane', 'la hou', 'la martinique', 'la rochelle', 'la valetta', 'lagos bay', 'laguaijra', 'laguayra', 'langle', 'le baye du croc', 'le habre', 'le havre', 'lerwich', 'lerwick', 'levante', 'liberia', 'lima', 'lima (pisco)', 'lisboa', 'lisbon', 'lisbon ', 'lissabon', 'liverpool', 'livorno', 'lizard', 'loango', 'lombock (nr bali)', 'londen', 'london', 'long bay jamaica', 'long island', 'lorient ', 'louisborough (halifax)', 'louisbourg', 'macao', 'macasser', 'madagascar', 'madagasgar', 'madas', 'madeira', 'madere', 'maderia', 'maderia road', 'madras', 'madras ', 'madras - balasore', 'mahe', 'mahon', 'mahón', 'makassar', 'malacca', 'malacca town', 'malaga', 'malagua', 'malakka', 'maldonado', 'malimba', 'mallaca town', 'malta', 'malvinas', 'maneter', 'mangalore', 'manila', 'manila.', 'manilla', 'manzanilla de cuba', 'mapulipatam', 'marañón', 'marie galante', 'marquesas', 'marseille', 'marseilles', 'martinique', 'marvile madagascar', 'matanzes (cuba)', 'mauritius', 'mayo cape verde islands', 'medemblik', 'medemblik/texel', 'meeuwebaai', 'melbourne', 'menado', 'mesurado', 'mew bay -java', 'middelburg', 'middellandse zee', 'minorca', 'mirabelle', 'moca moca sumatra', 'mocha', 'mocha (arabian peninsula)', 'mohilla island', 'mona island', 'monserrat', 'montague isle', 'monterey', 'monterrey', 'montevideo', 'montevideo ', 'montevideo.', 'montserat', 'moose', 'morandava (madagascar)', 'morao de copiapo', 'motherbank', 'motherwell', 'moubat', 'mountsbaai', \"murray's anchorage, bermuda\", 'murrays anchorage, bermuda', 'muscat', 'málaga', 'nagapatam', 'nagapatnam', 'nagasaki', 'nagepatnam', 'nan', 'nantasken', 'nantes', 'nantusket', 'narvick', 'nassau, bahamas', 'near equator', 'near madeira', 'nederland', 'nederlands indië', 'negrais burma', 'netherlands', 'nevis', 'new caledonia', 'new castle', 'new london', 'new london, connecticut', 'new port', 'new providence', 'new providence bahamas', 'new york', 'new zealand', 'newfoundland', 'newport', 'newport rhode island', 'nieuwe diep', 'nieuwediep', 'nieuwendiep', 'noahiwa', 'noka', 'nore ', 'norfolk', 'northerly fishing grounds', 'nova scotia', 'off cadiz', 'off grand banks', 'off newfoundland', 'omoa', 'oost indie', 'oudjong pancer', 'padang', 'paita', 'pal', 'palembang river', 'palliacatte', 'panama', 'panaroekan', 'papenberg', 'paramaribo', 'parimaribo', 'pasgeroeang', 'patjitan', 'penang', 'pensicola florida', \"peter's island (west indies)\", 'philadelphia', 'pinang', 'pisang (sumatra)', 'placentia harbour', 'placentia road', 'plymouth', 'plymouth ', 'plymouth (england)', 'plymouth sound', 'plymouth via lisbon', 'plymouth, gb', 'plymouth, monserrat', 'point de galle', 'point palmira', 'point palmiras', 'point posession', 'pollilo', 'pondicherry', 'popo', 'port antoio jamaica', 'port antonio', 'port au prince', 'port banks', 'port des francais', 'port desire', 'port egmont', 'port egmont, falkland islands', 'port jackson', 'port jackson australia', 'port louis', 'port louis, mauritius', 'port mahon', 'port philip', 'port praya', 'port royal', 'port royal (jamaica)', 'port royal jamaica', 'port royal jamica', 'port royal, jamaica', 'porta praya', 'porte cabello', 'porte praay', 'porte praijo', 'portendic', 'porthmouth', 'portland', 'porto cabello', 'porto crajo', 'porto kabello', 'porto praija', 'porto praijo', 'porto praya', 'porto prayo', 'porto rico', 'portsmouth', 'portsmouth ', 'portsmouth, via st helena', 'portugal', 'praya', 'prince of wales island (penang)', 'prince rupert bay', 'prince rupert bay, dominica', 'prince ruperts bay', 'prince ruperts bay dominica', \"prince william's sound\", 'princes  ', 'princes eiland', 'princes island', 'princess island (nr st thomas)', 'prinsies', 'prinsse eiland', 'puerto cabello', 'puerto de breste', 'puerto de montevideo', 'puerto de paita', 'puerto paita', 'puerto rico', 'pulo perra', 'pulo timoan ', 'punte gale', 'punto gale', 'pylstaert (nr tonga)', 'quebec', 'quiloa east africa', 'quilon', 'québec', 'ramekens', 'rammekens', 'rammekes', 'rhode island', 'richard', 'rio', 'rio berbice', 'rio de janeiro', 'rio de la plata', 'rio demerary', 'rio demmerary', 'rio dommeraaij', 'rio gabon', 'rio sester', 'riouw', 'river gambia', 'river of st lawrence', 'river plate', 'river serralione', 'river tagus (lisbon)', 'rivier kommewijne', 'road torn tortola', 'road town, tortola', 'rochefort', 'rodriguez', 'rodriques (diego ray)', 'rodriquez', 'roterdam', 'rotterdam', 'roxent', 'río de janeiro', 'saderass', 'saint pierre', 'saint pierre-terre neuve', 'sajor road', 'saldanha', 'saldanha bay', 'saldanne baaij', 'samarang', 'samaras', 'sambvangan', 'san blas', 'san francisco', 'san salvador', 'san sebastian', 'san thomé', 'sandy hook', 'sandy hook (new york)', 'sandy point (new york)', 'santa catalina', 'santa catalina (brasil)', 'santa catalina(brasil)', 'santa cathalina', 'santa croix', 'santa cruz', 'sao tome', 'sauger roads ', 'saugor  roads', 'saugor road', 'saugor roads', 'savannah', 'schapeneiland', 'schiedam', 'semarang', 'senegal', 'senegal river', 'senegal road', 'shanghai', 'siera leone', 'sierra leon', 'sierra leone', \"simon's bay\", 'simons bay', 'simons bay ', 'simonsbaai', 'simonsbaaij', 'singapore', 'singapore straight', 'sisirán', 'smeerenberg', 'smirna', 'smyrna', 'soerabaija', 'soerabaja', 'soerabaya', 'soincij baai', 'sourabaija', 'sourabaya', 'souratte', 'south africa', 'spectacle island (boston)', 'spithead', 'spithead ', 'spitsbergen', 'st annabaai', 'st augustin bay', 'st augustine', 'st augustine (florida)', 'st augustine bay', \"st augustine's bay, madagascar\", 'st augustines', 'st augustines (florida)', 'st augustins bay', 'st augustins bay, madagascar', 'st blas', 'st catherine', 'st christoffel', 'st christophers (basse terre)', 'st croix', 'st cruz', 'st domingo', 'st domingue', 'st eustacius', 'st eustatius', \"st george d'elmina\", \"st george d'elmina\\n.st george d'elmina\", \"st george d'elminar\", 'st helena', 'st helens', 'st helens road uk', 'st hellena', 'st hellens', 'st hellens road (england)', 'st jacobsbaai', 'st jago', 'st jago (sao tiago)', \"st john's antigua\", \"st john's harbour (newfoundland)\", \"st john's harbour newfoundland\", \"st john's newfoundland\", 'st johns', 'st johns    (newfoundland)', 'st johns (nf)', 'st johns antigua', 'st johns newfoundland', 'st johns newfoundland (cruise of grand banks)', 'st johns on a cruise to bermuda and back', 'st johns road (antigua)', 'st johns, antigua', 'st johns, newfoundland', 'st johns, nf', 'st juan de nicaragua', 'st kitts', 'st lucia', 'st maarten', 'st marie, isle de rhee', 'st martha', 'st martijn', 'st martin', 'st martins', \"st mary's \", 'st marys madagascar', 'st marys, madagascar', 'st michaels', 'st michaels, azores', 'st paulo', 'st pierre', 'st pierre bay martinico', 'st pierre martinque', 'st salvador', 'st thomas', 'st thomas (sao tome)', 'st thomas, gulf of guinea', 'st thomas, virgin islands', 'st vincent', 'st vincent ', 'st. augustine madagascar', 'st. eustacius', 'st. eustatius', 'st. helena', 'st. juan de porte rico', 'st. maarten', 'st. nazaire', 'st. thomee', 'sta catalina (brasil)', 'sta. catalina', 'sta. cathalina', 'start', 'start point', 'start point uk', 'straat bali', 'straat banka', 'straat sunda', 'straat van banka', 'suftren', 'sunda strait', 'surat', 'surgidero de san roque', 'suriname', 'sursogon', 'swansea', 'table bay', 'table bay ', 'table bay towards madagascar', 'tafelbaai', 'tafelbaai ', 'tafelbaaij', 'tagus', 'tagus lisbon', 'tahiti', 'talcaguana', 'talcahuano', 'tanger', 'tangier bay, chesapeake', 'tapanolie', 'tellicherry', 'tenerife', 'teneriffe', 'tennerife', 'ternal', 'ternate', 'ternatten', 'terneuzen', 'terre neuve', 'texel', 'the bananas', 'the downs', 'the island of barra (shetlands)', 'the mannan', 'the netherlands', 'the nore', 'the ramhead', 'tiburon baai', 'tierra del fuego', 'tillecherry road', 'tillicherry', 'tillicherry flag', 'timor', 'tjilatjap', 'torbay', 'torbay uk', 'tortola', 'tortola roads, st thomas', 'toulon', 'trincomale', 'trincomalee', 'trinidad (cuba)', 'trinidada', 'trinidade', \"tristan d'acunha\", 'trunillo', 'truxillo', 'uk', 'unknown', 'urk', 'ushant', 'valdivia (chile)', 'valparaiso', 'valparaíso', 'vera cruz', 'veracruz', 'veracruz.', 'virginia', 'vizagapatnam', 'vlissingen', 'wampoa', 'wampoe', 'waterford', 'west africa', 'west afrika', 'west indie', 'west indies', 'west-afrika', 'west-indie', 'westereilanden', 'westray head', 'whampoa', 'whitby bay uk', 'wijnkopers baai', 'willemsoord', 'winnebah', 'wydah', 'yarmouth', 'york factory', 'york harbour (newfoundland)', 'york in virginia', 'zanteme', 'ziam', 'zierikzee']\n",
      "981\n"
     ]
    }
   ],
   "source": [
    "VoyageFrom = preprocessing_data(data['VoyageFrom'].astype(str).map(lambda x: x.lower()))"
   ]
  },
  {
   "cell_type": "code",
   "execution_count": 118,
   "metadata": {
    "collapsed": false
   },
   "outputs": [
    {
     "name": "stdout",
     "output_type": "stream",
     "text": [
      "['a cruzar sobre huelva', 'a la mar ? cádiz?', 'acapulco', 'accraw', 'achean road', 'acheen', 'acheen road (sumatra)', 'achin road', 'adelaide', 'afrika', 'aguadilla', 'akijab', 'algeciras', 'algeciras y a cruzar la boca del estrecho', 'algiers', 'algoa baai', 'alic.?', 'alicante', 'alicante?', 'all saints bay', 'allerheiligen baaij', 'allicanten', \"almerie aux l'ille de terre neuve et retour a bres\", 'amboina', 'ambon', 'amsterdam', 'américa', 'américa meridional', 'américa septentrional(noka)', 'angola', 'anjango road', 'anjengo', 'anjer', 'anjer road java', 'anna maria', 'annabona', 'antigua', 'antigua to gibraltar', 'antwerpen', 'apolonia (africa)', 'appolonia', 'aquofort harbour, newfoundland', 'argel', 'arika', 'ascension', 'augustine bay, madagascar', 'australie', 'avatscha', 'axim', 'axim fort (coast of guinea)', 'azoren', 'azores', 'azores and back', 'baai fals', 'baai falso', 'baai jacomel', 'baai van punto', 'baaij falso', 'baaij van algoa', 'back bay, trincomalee', 'bahia', 'bahia de todos los santos', 'bahía de cádiz', 'bahía de matanzas (cuba) y la habana', 'baie de chibouctou-rochefort', 'ballisore (baleshwar) road', 'baltimore', 'baltimore harbour', 'banda', 'banjoewangie', 'barbadoes', 'barbados', 'barcelona', 'bardados', 'baroes', 'baros', 'basse terre', 'batavia', 'batavia (via st helena)', 'batavia-soerabaya', 'batowia road', 'batvia', 'bay of bengal', 'bay of biscay (cruising)', 'beachy head', 'belize', 'bellesoor', 'bencoolen', 'bengal', 'bengal via maderia', 'bengal via st helena', 'bengalen', 'bengall', 'benkulen', 'benkulen, sumatra', 'benkuleu', 'benkuleu via st helena', 'bergen', 'bergen (norway)', 'bergen/noorwegen', 'bermuda', 'bezoeki', 'bilbao', 'blackwall', 'blackwall uk', 'boca chica', 'bombay', 'bombay harbour', 'bombay via johanna', 'bombay via madeira and johanna', 'bombay, via false bay', 'bonaire', 'bordeaux', 'boston', 'braamspunt', 'bramspunt', 'brest', 'brest-martinique-guadeloupe-brest', 'bretts harbour', 'bridgetown', 'brissel', 'bristol', 'bristol channel', 'brouwershaven', 'brunswick', 'bucarely', 'bueno aires', 'buenos aires', 'busque', 'caap de goede hoop', 'caap monte', 'cabendar road', 'cabo buena esperanza', 'cabo de buena esperanza', 'cabo de goede hoop', 'cabo san vicente y santa maría y vuelta', 'cadise', 'cadix', 'cadiz', 'calcutta', 'calicut', 'calisle bay, barbados', 'callao', 'callao (lima)', 'callao (lima-perú)', 'callao de lima', 'camariñas', 'camarones', 'cammeroenes', 'campeche', 'canal de bahama', 'canaria', 'cannanore', 'canton', 'canton via australia', 'cap', 'cap francaise', 'cap francis', 'cap francois', 'cape', 'cape blanco', 'cape coast', 'cape fear', 'cape henry', 'cape lagullas', 'cape land', 'cape moniferado', 'cape mount', 'cape negrais burma', 'cape nicholas, san domingo', 'cape of good hope', 'cape st marie', 'cape st maries', 'cape st mary', 'cape town', 'cape verde', 'capetown', 'carlise bay', 'carlise bay (barbados)', 'carlise bay barbados', 'carlise bay via funchal', 'carlisle bay', 'carlisle bay barbados', 'carlisle bay, barbados', 'carolina', 'cartagena', 'cartagena (españa)', 'castries', 'cavita', 'cavite', 'cayenne', 'caymans bay (cape)', 'ceijlon', 'ceylon', 'chalestown', 'charillo', 'charles town', 'charleston', 'charlestown', 'charlestown n.carolina', 'chatham', 'chebuto', 'cherbourg', 'cherebon road', 'cherillos', 'chibucto harbour (halifax)', 'chiloé', 'china', 'christiaan zand', 'christmas island', 'churchill', 'clarence cove', 'coal harbour', 'coastal', 'coastal east india', 'cochin', 'collemoye', 'colombo', 'colombo, ceylon', 'columbo', 'concepcion de chile', 'concepción (chile)', 'cork', 'coromandel', 'costa firme de la américa', 'costa patagónica', 'crew setra', 'cruise in western approaches', 'cruise to azores', 'cruise to finisterre', 'cruising', 'cruising bay biscay', 'cruising of ushant', 'cruising off grand banks', 'cruising off nf', 'cruising off tagus', 'cruising off ushant', 'cruising the western approaches', 'cruising to lisbon', 'cruising towards rodriquez', 'cruising western approaches', 'cuddalore', 'cul de sac', 'cumberland island, florida', 'curacao', 'curaçao', 'cádiz', 'cádiz ?', 'cádiz, llegando antes hasta las azores', 'cádiz?', 'dartmouth', 'davilican baai', 'de eilanden dina en maarseveen', 'de goede rheede', 'de la soledad (malvinas)', 'decima', 'del fuego', 'delaware', 'delfzijl', 'delgada bay', 'dellago bay', 'demerara', 'demerary', 'den helder', 'deptford', 'desconocido', 'diamond harbour, bengal', 'diego garcia', 'diego ray', 'dix cove', 'dixcove', 'dominica', 'dominios de américa', 'dominique, cadix, malagua et retour a brest', 'dordrecht', 'downes', 'downs', 'downs (england)', 'downs uk', 'downs uk via st helena', 'downs via st helena', 'downs via table bay and st helena', 'dronthem', 'duins', 'dungerness', 'east end of barbados (then carlisle bay)', 'east river', 'easter island', 'egg island', 'el callao', 'el callao (lima)', 'el callao (perú)', 'el callao - lima', 'elmina', 'england', 'españa (cádiz)', 'españa (cádiz?)', 'estrecho de magallanes', 'estrecho san bernardino', 'europa', 'europa (cádiz?)', 'falkland islands', 'falmouth', 'falmouth uk', 'false baay', 'false bay', 'fayal', 'fayal road azores', 'fayal, azores', 'fenshall road (antigua)', 'fercera, near st michaels', 'fercera, near st michaels ', 'ferdinando loronho', 'fernando de noronha', 'fernando noronha', 'ferrol', 'ferrol harbour - cruising the western approaches', 'ferrol?', 'filipinas', 'florida blanca', 'fonciaal', 'fontiaal', 'fort amsterdam', 'fort axim', 'fort banjoewangie', 'fort dauphin bay, madagascar', 'fort johnson', 'fort royal', 'fort royal, martinique', 'fort st anthony, axim', 'fort st david', 'fort st david road (madras)', 'fort st davids road', 'fort st francisco', 'fort st george', 'fort st georges', 'fort st julian, lisbon', 'fort zeelandia', 'freetown', 'froward point (england)', 'fruxillo', 'funchal', 'funchal road', 'funchal road (madeira)', 'funchal roads', 'fyall (azores)', 'fyall bay (azores)', 'gabon', 'gale', 'gambia', 'gambia river', 'gamron', 'gibraltar', 'gibraltar via antigua', 'gibralter', 'gibraltor via antigua', 'goa', 'golf van guinee', 'golf van guineeguinea', 'gombroon', 'goree', 'gothenburg', 'grand banc, terre neuve et retour a honfleur', 'grand canarien', 'gratiosa', 'gravesend', 'gravesend ', 'grise', 'guadeloupe', 'guayaquil', 'guiana', 'guinea', 'guinee', 'guinnee', 'gujana', 'gulf of aden', 'gulf of aden via table bay', 'gulf of guinea', 'guyana', 'hailfax', 'halifax', 'halifax (chabukta harbour)', 'halifax (chibucto harbour)', 'halifax (nova scotia)', 'hammoze (cruising)', 'hammoze uk', 'hamoze uk', 'hampton', 'hampton road', 'hampton road (virginia)', 'hampton road virginia', 'hampton road, virginia', 'hartlepool', 'havana', 'havanna', 'havannah', 'hawaiian islands', 'hellevoetsluis', 'hellevoetsluis via kaap de goede hoop en noorwegen', 'helvoetsluis', 'hobarttown', 'holland', 'hudson bay', 'hudson bay churchill', 'hudson bay moose', 'i. santa catalina', 'iceland (coastal)', 'ile de paque', 'ile miquelon et retour a rochefort', 'ile mowée', 'iles st. pierre, terre neuve, ile royale et retour', 'indische zee', 'inglaterra', 'isla de la ascension', 'isla de los estados', 'isla de pascua', 'isla de pascua y el callao', 'isla de san andrés y sta. catalina, alias providen', 'isla de santa catalina', 'isla de santa catalina (santa catarina-brasil?)', 'isla del principe (guinea)', 'isla santa catalina', 'isla santa catalina (brasil)', 'isla santa catalina (brasil) y vuelta', 'isla santa catalina (brasil)y vuelta', 'islas de barlovento', 'islas malvinas', \"isle d'aix\", 'isles michelon et retour a la rochelle', 'ivoorkust', 'jamaica', 'java', 'java (xmas island)', 'java head', 'java head ', 'joanna', 'johanna', 'john harbour (newfoundland)', 'kaap apollonia', 'kaap de goede hoop', 'kaap de goede hoop via o. indie', 'kaap la hou', 'kaap lahoe', 'kaap masurado', 'kaap mazurado', 'kaap monte', 'kaap monte / kaap misurado', 'kaap noord', 'kaap tagarijn', 'kaapstad', 'karakokoa', 'kedgeree', 'kema', \"king george's sound\", 'kingston', 'kinsale', 'kopenhagen', 'kruisjende (bij fanara)', 'kust van afrika', 'kust van guinea en suriname', \"l'isle d'aix\", \"l'isle dieu\", 'la carboniere', 'la concepción de chile y el callao de lima', 'la coruña', 'la côte de chine', 'la guadeloupe', 'la guaijra', 'la guayra', 'la guyara', 'la habana', 'la hou', 'la martinique', 'la rochelle', 'la valetta', 'laguaijra', 'laguayra', 'langle', 'le baye du croc', 'leith', 'lerwich', 'lerwick', 'levante español', 'levante y torrevieja y vuelta', 'liberia', 'lima', 'lisboa-ferrol', 'lisbon', 'lissabon', 'liverpool', 'livorno', 'lizard', 'lobos island (river plate)', 'londen', 'london', 'long reach', 'lops head ireland', 'louisbourg', \"louisbourg et retour a l'isle d'aix\", 'louisbourg et retour a rochefort', 'louisbourg et rtour a rochefort', 'macao', 'macasser', 'maccao', 'madagascar', 'madagasgar', 'madeira', 'madere', 'maderia', 'maderia road', 'madras', 'madras ', 'madras via johanna', 'mahe', 'mahon', 'mahón', 'makassar', 'makinda creek', 'malacca', 'malacca town', 'malaga', 'malagua', 'malakka', 'maldonado', 'maldonado, river plate', 'maldonado, river plate ', 'mallacca', 'malta', 'manila', 'manila(?)', 'manilla', 'manzanilla de cuba', 'mar pacífico', 'marañón', 'maregat', 'margaret road (england)', 'margret road (uk)', 'marie galante', 'marquesas', 'marseille', 'martinico', 'martinique', 'martinique-guadeloupe-dominique-sainte lucie et re', 'mathurin bay, rodiguez', 'mauritius', 'maxim', 'mazulipatnam', 'mediteranee', 'mediterranean', 'meeuwebaai', 'melbourne', 'melilla', 'menado', 'mesurado', 'middelburg', 'middellandse zee', 'milford haven', 'minorca', 'mirabelle', 'mocha', 'mocha (mokha)', 'mogador', 'mohilla island', 'mona island', 'monopin hill', 'monrovia', 'monserrat', 'montague isle', 'monterey', 'monterrey', 'montevideo', 'montevideo (primero van a sta. catalina, brasil)', 'montevideo y río de la plata', 'montevideo y vuelta', 'montserrat', 'moose', 'morandava (madagascar)', 'motherbank', 'moubat', 'mountsbaai', \"murray's anchorage, bermuda\", 'murrays anchorage, bermuda', 'muscat', 'málaga', 'nagapatam', 'nagapatan', 'nagapatram', 'nagasaki', 'nagepatnam', 'nan', 'nantasken', 'nantasket', 'nantes', 'nantucket', 'nassau, bahamas', 'nederland', 'nederlands indië', 'nevis', 'new guinea', 'new providence', 'new providence bahamas', 'new york', 'new zealand', 'newfoundland', 'newport', 'nieuw diep', 'nieuwe diep', 'nieuwediep', 'nieuwendiep', 'noahiwa', 'noka', 'noord amerika', 'noordkust java', 'noordzee', 'noorwegen', 'nore', 'norfolk', 'norfolk sound', 'norfolk virginia', 'norfolk, virginia', 'norte de nueva españa', 'northerly fishing grounds', 'northfleet', 'nouvelle hollande', 'nova scotia', 'nápoles y vuelta a españa', 'omoa', 'oost indie', 'orkney', 'oudjong pancer', 'pacocha', 'pacífico', 'pacífico(mar del sur)', 'padang', 'paita', 'palliacatte', 'palma de mallorca y barcelona', 'pampus', 'panama', 'panaroekan', 'pangool', 'papenberg', 'paramaribo', 'parimaribo', 'penang', 'penang (via funchal)', 'penang via funchal and table bay', 'penang via simons bay', 'penang via st helena', 'philadelphia', 'pinang', 'placentia', 'placentia harbour', 'plymouth', 'plymouth (cruising western approaches)', 'plymouth (cruising)', 'plymouth (monserrat)', 'plymouth - cruising western approaches', 'plymouth uk', 'plymouth via st helena', 'point de galle road, ceylon', 'pollilo', 'port au prince', 'port des francais', 'port desire', 'port egmont', 'port egmont, falkland islands', 'port jackson', 'port jackson australia', 'port louis', 'port louis, martinique', 'port louis, mauritius', 'port mahon', 'port philip', 'port praya', 'port royal', 'port royal jamaica', 'port royal, jamaica', 'porta praya', 'porte cabello', 'porte praay', 'porte praijo', 'portendie', 'portland england', 'porto cabello', 'porto crajo', 'porto kabello', 'porto praija', 'porto praijo', 'porto praya', 'porto prayo', 'porto rico', 'portsmouth', 'portsmouth ', 'portsmouth (after cruising towards finisterre)', 'portugal', 'praya', 'prince of wales island', 'prince rupert bay', 'prince ruperts bay', \"prince william's sound\", 'princes island', 'princes island (java)', 'prinsies', 'providence (bahamas)', 'puerto cabello', 'puerto de breste', 'puerto de macao', 'puerto de montevideo', 'puerto de santa maría', 'puerto reservado', 'puerto rico', 'pulo pinang', 'pulo timoan', 'punte gale', 'punto gale', 'quebec', 'quiloa, east africa', 'québec', 'rammekens', 'realejo', 'rhode island', 'richard', 'rio', 'rio berbice', 'rio de janeiro', 'rio de la plata', 'rio demerary', 'rio gabon', 'rio sester', 'riouw', 'river gambia', 'river plate', 'river serralione', 'river shannon', 'rivier kommewijne', 'rochefort', 'rodriguez', 'rodriques (diego ray)', 'rodriquez', 'rotterdam', 'roxent', 'río de janeiro (brasil)', 'sacramento', 'saint pierre-terre neuve', 'saldanha', 'saldanne baaij', 'salvador, brazil', 'samarang', 'samaras', 'sambvangan', 'san agustin de la florida', 'san blas', 'san blas (nueva españa)', 'san francisco', 'san lorenzo de nuca', 'san lorenzo de nuca y vuelta', 'san salvador', 'san sebastian', 'sanboronbom - montevideo', 'sandy hook', 'sandy hook (new york)', 'santa catalina', 'santa catalina (brasil)', 'santa catalina y de allí a españa', 'santa cathalina', 'santa croix', 'santa cruz', 'santa cruz, tenerife', 'santander', 'saugor roads', 'savanah georgia', 'savannah', 'schapeneiland', 'schiedam', 'scilly isles', 'searching for an island', 'semarang', 'senegal', 'senegal river', 'senour', 'shanghai', 'sheerness', 'shelburne harbour', 'sherness', 'siera leone', 'sierra leone', 'sierra lion', \"simon's bay\", 'simons bay', 'simonsbaai', 'simonsbaaij', 'singapore (via anger)', 'singels', 'sinkel', 'smirna', 'smyrna', 'soerabaija', 'soerabaja', 'soerabaya', 'soincij baai', 'sourabaija', 'sourabaya', 'souratte', 'southsea', 'spihead (cruising)', 'spithead', 'spithead ', 'spithead (via fyal)', 'spithead - cruising bay biscay', 'spitsbergen', 'spitsbergen, edinburgh', 'st andries', 'st annabaai', 'st augustine', 'st augustine bay', 'st augustine florida', 'st augustine madagascar', 'st augustines', 'st augustines (florida)', 'st augustins bay', 'st augustins bay, madagascar', 'st blas', \"st catharine's (south america)\", 'st catharines', 'st catherine', 'st christoffel', 'st christopher', 'st croix', 'st cruz', 'st domingo', 'st domingue', 'st eustacius', 'st eustasius', 'st eustatius', \"st george d'elmina\", 'st georges bay, grenada', 'st georges bermuda', 'st helena', 'st helena via table bay', 'st hellena', 'st jacobsbaai', 'st jago', 'st jago (sao tiago)', 'st john newfoundland', \"st john's antigua\", \"st john's harbour newfoundland\", \"st john's newfoundland\", 'st johns', 'st johns ', 'st johns (antigua)', 'st johns (nf)', 'st johns antigua', 'st johns harbour (newfoundland)', 'st johns harbour, newfoundland', 'st johns newfoundland', 'st johns, newfoundland', 'st kitts', 'st lawrence new foundland', 'st lucia', 'st maarten', 'st martha', 'st martin', \"st mary's sound, england\", 'st marys madagascar', 'st michaels', 'st michaels, azores', 'st paolo', \"st patrick's hole, newfoundland\", 'st paulo', 'st pauls island', 'st pierre', 'st salvador', 'st thomas', 'st vincent', 'st. augustine madagascar', 'st. augustine, madagascar', 'st. augustines, madagascar', 'st. domingue', 'st. eustacius', 'st. eustatius', \"st. george d'elmina\", 'st. helena', 'st. johns, newfoundland', 'st. juan de porte rico', 'st. maarten', 'st. marys road madagascar', 'st. nazaire', 'st. thomee', 'st.thomee', 'sta catalina y montevideo', 'sta. catal y montev.', 'sta. catal. y montev.', 'sta. catalina y montevid.', 'sta. catalina y montevideo', 'sta. cathalina (brasil)', 'start', 'start point', 'start point england', 'straat banka', 'straat sapoedie', 'straat sunda', 'suftren', 'sumatra', 'sumba (off java)', 'sumbava (e bali)', 'sunda straight', 'sundu strait via st helena', 'surabaya', 'surgro. de san roque', 'surinam', 'suriname', 'sursogon', 'sydney', 'tabe bay', 'table bay', 'tafelbaai', 'tafelbaaij', 'tahiti', 'talcaguana', 'tamatave, madagascar', 'tanger', 'tapanolie', 'tarragona', 'tenerife', 'teneriffe', 'tennerife', 'ternal', 'ternate', 'ternatten', 'terre neuve', 'terveur', 'texel', 'the downs', 'the downs, uk', 'the netherlands', 'the nore', 'tiburon baai', 'tierra del fuego', 'tillicherry', 'tillicherry flag', 'timor', 'tjilatjap', 'tobago, la martinique, st. domingue', 'tonga', 'torbay', 'toulon', 'towards cape horn', 'towards equator', 'trincomale', 'trincomalee', 'trincomalee via funchal', 'trinconomalle', 'trindada', 'trinidad (cuba)', 'trinidada', 'trinidade', \"tristan d'acunha\", 'trunillo', 'truvillo', 'truxillo', 'tánger (y vuelta)', 'uk', 'unknown', 'valdivia', 'valparaiso', 'valparaíso (chile)', 'valpariso', 'valsbaai', 'vera cruz', 'veracruz', 'veracruz (méxico)', 'virginia', 'vlissingen', 'vogle sound', 'wampoe', 'west africa', 'west afrika', 'west indie', 'west indies', 'west-afrika', 'west-indie', 'weymouth', 'whampoa', 'whampoe', 'willemsoord', 'woodmans bay dominica', 'woolwich', 'woolwich uk', 'ya veremos', 'york factory', 'york harbour, newfoundland', 'york in virginia', 'ysla de santa cathalina', 'ysla de santa cathalinaysla de santa cathalina', 'ziam', 'zierikzee', 'zuid afrika', 'zuiden']\n",
      "999\n"
     ]
    }
   ],
   "source": [
    "VoyageTo = preprocessing_data(data['VoyageTo'].astype(str).map(lambda x: x.lower()))"
   ]
  },
  {
   "cell_type": "code",
   "execution_count": null,
   "metadata": {
    "collapsed": true
   },
   "outputs": [],
   "source": [
    "unknown, desconocido"
   ]
  },
  {
   "cell_type": "code",
   "execution_count": 119,
   "metadata": {
    "collapsed": false
   },
   "outputs": [
    {
     "name": "stdout",
     "output_type": "stream",
     "text": [
      "[\"'s-gravenhage\", 'abel tasman', 'acasta', 'active', 'adamant', 'adder', 'admiraal de ruyter', 'admiraal evertsen', 'admiraal jan evertsen', 'admiral pocock', 'admiral vernon', 'africa', 'africaensche galey', 'agatha', 'ajax', 'akerendam', 'alarm', 'albatross', 'alborough', 'albrecht beijling', 'alderney', 'alert', 'alfred', 'algiers', 'alkemade', 'allarm', 'alligator', 'amazon', 'amazone', 'ambarawa', 'ambon', 'ambuscade', 'amicitia', 'amphion', 'amphitrite', 'amstel', 'amsterdam', 'andaluz', 'andromache', 'anna', 'antelope', 'anthony', 'aolus', 'arend', 'arethusa', 'argo', 'aruba', 'arundel', 'asia', 'assistance', 'assurance', 'astuto', 'asunción', 'atalanta', 'atalante', 'atlanta', 'atlas', 'atrevida y descubierta', 'attelante', 'audaz', 'augusta', 'auguste', 'aurora', 'azia', 'badger', 'baleine', 'banka', 'batavia', 'bato', 'beaver', 'belle isle', 'belleisle', 'bellona', 'belmont', 'bittern', 'blanche', 'blandford', 'blonde', 'boreas', 'borssele', 'bos en hoven', 'boston', 'botland', 'boyne', 'braave', 'brak', 'bridgewater', 'bristol', 'britannia', 'broederslust', 'bromo', 'brune', 'brutus', 'buckingham', 'buen consejo', 'buitenzorg', 'bulldog', 'burford', 'busbridge', 'cadmus', 'calcutta', 'calypso', 'camel', 'candia', 'caroline', 'carysfort', 'castle huntley', 'castor', 'catharina', 'catharina johanna', 'caton', 'celebes', 'centurian', 'ceres', 'charon', 'chatham', 'chesterfield', 'chichester', 'china', 'christiaan huijgens', 'christina', 'claudius civilis', 'clive', 'colchester', 'coldstream', 'concorde', 'conqueror', 'constellation', 'conway', 'cormorant', 'cornelia', 'cornelia sara', 'cortes', 'cortgene', 'corzo', 'coventry', 'crescent', 'crocodile', 'crown', 'cruizer', 'cuffnells', 'culloden', 'cumberland', 'curacao', 'cyrene', 'dadalus', 'dageraad', 'daphne', 'de ruijter', 'deal castle', 'decade', 'dedaigneuse', 'defence', 'delphina', 'desconocido-01', 'desconocido-02', 'desconocido-03', 'desconocido-04', 'desconocido-05', 'desconocido-06', 'desconocido-07', 'desconocido-08', 'desconocido-09', 'desconocido-10', 'desconocido-11', 'desconocido-12', 'desconocido-13', 'desconocido-14', 'desconocido-15', 'desconocido-16', 'desconocido-17', 'desconocido-18', 'desconocido-19', 'desconocido-20', 'desconocido-21', 'desconocido-22', 'desconocido-23', 'desconocido-24', 'desconocido-25', 'desconocido-26', 'desconocido-27 (rayo)', 'desconocido-28', 'desconocido-29', 'diadem', 'diana', 'die gebruder', 'diligence', 'diligencia', 'diligente', 'diomede', 'doctrina et amicitia', 'doddington', 'dolfijn', 'dolphijn', 'dordrecht', 'dordregt', 'dortenaar', 'dover castle', 'dragon', 'dragón', 'dreadnought', 'dregterlandt', 'drie gebroeders', 'drie gesusters', 'drie vrienden', 'dromedary', 'druid', 'dublin', 'duke of dorset', 'dunira', 'dunkirk', 'eagle', 'earl of mansfield', 'earl of middlesex', 'earl spencer', 'earl talbot', 'echo', 'eendracht', 'eenigheijt', 'eensgezindheid', 'efigenia', 'egmond', 'egmont', 'el activo', 'el aguila', 'el andaluz', 'el carmen (alias el salvador)', 'el colon', 'el colon 2?', 'el cuervo', 'el despacho', 'el famoso sevillano', 'el fénix', 'el gallardo', 'el gallego', 'el gran poder de dios', 'el grimaldi', 'el hopp', 'el jupiter', 'el kaulikan', 'el lanzarote', 'el magallanes', 'el marllorquín', 'el monarca', 'el patagon', 'el pinzon', 'el pizarro', 'el quiros', 'el rayo', 'el real carlos', 'el relámpago', 'el rey', 'el septentrión', 'el tucuman', 'elephant', 'elisabeth', 'elise', 'eliza', 'eliza susanna', 'eltham', 'emerald', 'endeavour', 'enterprise', 'eolus', 'essex', 'estafette', 'etna', 'euphrates', 'euridice', 'europa', 'euryalus', 'expedition', 'experiment', 'fairy', 'falcon', 'falkland', 'falmouth', 'fanny', 'favourite', 'fenix', 'ferret', 'flora', 'flores', 'florida', 'formosa', 'fowey', 'fox', 'frankendaal', 'freden', 'friedrich', 'gallardo', 'ganges', 'garland', 'gedeh', 'geertruida', 'geertuijda en christina', 'general coote', 'general elliot', 'george iv', 'georgina', 'gibraltar', 'gier', 'glasgow', 'glatton', 'glory', 'goede intentie', 'goede trouw', 'gorgon', 'gosport', 'gouverneur elsevier', 'gouverneur generaal de klerk', 'grafton', 'grampus', 'granizo', 'greenwich', 'grenadier', 'greyhound', 'griffin', 'guadaloupe', 'guardian', 'guernsey', 'götha leijon', 'haarlemmerhout', 'haast u langzaam', 'haay', 'hampshire', 'hannach', 'hannibal', 'harrier', 'havick', 'hebe', 'hecla', 'hector', 'heldin', 'hendrika', 'henriette clasina', 'hercules', 'hermes', 'heroine', 'hester', 'heureux', 'hind', 'hippomenes', 'hoop', 'hope', 'hornet', 'hound', 'humber', 'hunter', 'huzaar', 'ilchester', 'imperieuse', 'inconnu-1', 'inconnu-2', 'india', 'infanta', 'infante', 'inglis', 'inspector', 'intrepid', 'iphigenia', 'irene', 'iris', 'isis', 'jacinta', 'jacob roggeveen', 'jacoba', 'jacoba maurina', 'jacobus', 'jamaica', 'jan daniel', 'jan en cornelis', 'janus', 'jason', 'java koerier', 'javaan', 'jerusalem', 'joan de witt', 'johanna', 'jonge jan', 'jonge lieve', 'juno', 'jupiter', 'kemphaan', 'kenau hasselaar', 'kennington', 'kent', 'king george iii', 'kingfisher', 'koerier', 'komeet', 'koning willem ii', 'kortenaer', 'kroonprincesse maria', \"l' esperance\", \"l'actif\", \"l'actionnaire\", \"l'aimable\", \"l'aimable marie anne\", \"l'ambition\", \"l'aquillon\", \"l'etoile\", \"l'experiment\", \"l'heureux\", \"l'hipocrite\", \"l'indiscrette\", \"l'isis\", \"l'oiseau\", 'la astrea', 'la atrevida', 'la belette', 'la belle poule', 'la bergere', 'la boussole', 'la cantabria', 'la capriciense', 'la cassares', 'la coulisse', 'la danaé', 'la dedaigneuse', 'la descubierta', 'la descubierta y atrevida', 'la desirée', 'la diana', 'la diane', 'la durance', 'la elourdie', 'la favorite', 'la fenix', 'la fleur de lys', 'la flore', 'la fortune', 'la gironde', 'la graciense', 'la infanta', 'la juno', 'la lamproie', 'la lamproye', 'la liebre', 'la loir', 'la loire', 'la loreto', 'la lourde', 'la mascanin y la castries', 'la mosca', 'la ménagére', 'la nourrice', 'la orbe', 'la perla', 'la perle', 'la petite fortune', 'la pintade', 'la pomone', 'la poulette', 'la princesa', 'la seine', 'la suerte', 'la suerte (san fco javier)', 'la terpsicore', 'la tourterelle', 'la venus', 'laborde', 'lancaster', 'landskroon', 'lansdown', 'lansier', 'lapwing', 'lark', 'lascelles', 'laurel', 'le aigle', 'le amphitrite', 'le barbeau', 'le bizarre', 'le chariot royal', 'le danube', 'le desiré', 'le etoile', 'le furet', 'le leopard', 'le oiseau', 'le paquebot', 'le parham', 'le prothée', 'le rhinoceros', 'le rhóne', 'le rossignol', 'le salomon', 'le saumon', 'le serin', 'le triton', 'le vaillans', 'le valeur', 'le vicomte de choiseuil', 'le zephir', 'leocadia', 'levant', 'leviathan', 'liebre', 'lilly', 'lively', 'liverpool', 'lizard', 'loopuijt', 'lord anson', 'lord walsingham', 'los tres amigos', 'lowestoffe', \"lucipara's\", 'ludlow castle', 'lynn', 'lynx', 'maarsen', 'maarseveen', 'maas', 'maas nijmph', 'maasnimph', 'macqueen', 'magallanes', 'magdalena', 'magicienne', 'magnanime', 'majestic', 'malabar', 'manilla', 'margaretha en maria', 'margaretha simonette', 'maria', 'maria elisabeth', 'maria magdalena', 'maria reigersbergen', 'marij-goddard', 'marlborough', 'marquesa de balvuena', 'marquis of lansdowne', 'mars', 'marte', 'martin', 'medea', 'mediator', 'medusa', 'medway', 'meermin', 'melampus', 'melville castle', 'menado', 'mentor', 'merapi', 'mercator', 'mercurio', 'mercurius', 'mercury', 'mercuur', 'merlin', 'mermaid', 'merwede', 'middelburg', 'middelburgs welvaren', 'minerva', 'miño', 'monarca', 'monmouth', 'montague', 'montreal', 'morning star', 'na sa de aranzazu', 'na sa de la piedad', 'na sa de los dolores', 'na sa del carmen', 'na sa del carmen (el griego)', 'na sa del rosario', 'na sa del rosario, (la paz)', 'na sa del valle', 'naiade', 'namur', 'narcissus', 'nasa del rosario (la numancia)', 'nasa del rosario,stma trinidad', 'nassau', 'nassau-weilburgh', 'nautilus', 'nederlands welvaren', 'nederwaard', 'neerlands indië', 'neerlands koning', 'nehalennia', 'neptune', 'nereide', 'newcastle', 'nieuw lekkerland', 'nieuwe hoop', 'niger', 'nisus', 'no. 12', 'no. 3', 'no. 8', 'noordbeveland', 'northumberland', 'norwich', 'nymphe', 'olivier van noord', 'onverwagt', 'oost-indië packet', 'orangezaal', 'otter', 'oud haarlem', 'oud nederland', 'palembang', 'pallas', 'panter', 'panther', 'pearl', 'pecering', 'pegasus', 'pelham', 'penelope', 'penzance', 'perpetua', 'perseus', 'perseverence', 'phaeton', 'philadelphia', 'phoenix', 'piet heijn', 'plancius', 'pluto', 'pocock', 'poderoso', 'polanen', 'pollux', 'pomona', 'portland', 'postillon', 'poulette', 'preston', 'prince ernest', 'prince george', 'prince henry', 'prince rupert', 'princes carolina', 'princes louisa', 'princes maria louisa', 'princes royal frederique', 'princess amelia', 'princess augusta', 'principe', 'prins frederik', 'prins frederik hendrik', 'prins hendrik', 'prins van oranje', 'prins veldmaarschalk', 'prins willem v', 'prinses marianne', 'propatria', 'proserpina', 'proserpine', 'proteus', 'prothee', 'prudent', 'purisima concepción', 'pylades', 'quebec', 'queen', 'queen charlotte', 'queenborough', 'racehorse', 'rainbow', 'raisonable', 'ramilles', 'rattler', 'rattlesnake', 'raven', 'raymond', 'regulus', 'reliance', 'rembrandt van rhijn', 'rendier', 'renown', 'repulse', 'resolucion y aventura', 'resolution', 'resource', 'revolutie', 'rhijn', 'rhoon en pendrecht', 'rippon', 'rl. carlos', 'romney', 'rose', 'rotterdam', 'rotterdams welvaren', 'royal admiral', 'royal charlotte', 'royal george', 'ruby', 'rupel', 'saldanha', 'salisbury', 'saltash', 'sambre', 'san antonio', 'san carlos', 'san dámaso', 'san fernando', 'san francisco xavier', 'san gil', 'san isidoro', 'san jaime (el valenciano)', 'san jose', 'san jose el peruano', 'san josef', 'san joseph', 'san joseph (poderoso)', 'san juan bautista', 'san julian', 'san justo', 'san lorenzo', 'san pablo (alias la favorita)', 'san pascual', 'san pedro', 'san pedro apostol', 'san pedro de alcantara', 'san pedro y san pablo', 'san pio', 'san rafael', 'san vicente', 'sandwich', 'sans parcil', 'sant joseph', 'santa ana', 'santa balvina', 'santa bibiana', 'santa bárbara', 'santa casilda y santa eulalia', 'santa clara', 'santa elena', 'santa eulalia', 'santa gertrudis', 'santa lucia', 'santa margarita', 'santa maria magdalena', 'santa maría de la caveza', 'santa perpetua', 'santa rosalía', 'santa teresa', 'santa teresa (alias dragon)', 'santa teresa de jesús', 'santiago', 'santisimo sacramento', 'santo cristo del calvario', 'santo domingo', 'saparoea', 'saphire', 'sara johanna', 'sara lydia', 'scarborough', 'sceptre', 'schagen', 'schiedam', 'scholtenburg', 'schorpioen', 'scipio', 'scorpion', 'scourge', 'seaford', 'seahorse', 'seine', 'senegal', 'septentrión', 'serio', 'serpent', 'severn', 'shaftesbury', 'shannon', 'sheerness', 'shoreham', 'sirene', 'sloterdijk', 'snelheid', 'snoek', 'snoek en both', 'soerabaya', 'somerset', 'soolo', 'spaarzaamheid', 'spartiate', 'speedwell', 'sphinx', 'sphynx', 'spion', 'spy', 'squirrel', 'st albans', 'st maartensdijk', 'st vincent', 'staatsraad baud', 'stad utrecht', 'stad zierikzee', 'stag', 'standard', 'standvastigheid', 'star', 'stavenisse', 'stirling castle', 'stork', 'straalen', 'straat bali', 'streatham', 'success', 'suffolk', 'sumatra-java', 'superb', 'suriname', 'surpize', 'surprise', 'surseance', 'susanna', 'swallow', 'swan', 'swift', 'swiftsure', 'sybille', 'syren', 'tartar', 'tempel', 'tenerife', 'ternate', 'terpsichore', 'terrible', 'thames', 'theodora en sara', 'thetis', 'thisbe', 'tigris', 'tilbury', 'torrington', 'townsend', 'travers', 'tremendous', 'trident', 'triton', 'tromp', 'true briton', 'trusty', 'tryal', 'twee cornelissen', 'tweed', 'ulysses', 'unie', 'unite', 'unknown-01', 'unknown-02', 'unknown-03', 'unknown-04', 'unknown-05', 'unknown-06', 'unknown-07', 'unknown-08', 'unknown-09', 'unknown-10', 'unknown-12', 'utrecht', 'valentine', 'valk', 'van der werff', 'van oldenbarneveld', 'van speyk', 'vanguard', 'vansittart', 'vasco de gama', 'veere', 'venus', 'vergenoegen', 'verwachting', 'victor', 'victorious', 'viegelantie', 'vigilant', 'viviana', 'vlieg', 'vliegende faam', 'vliegende visch', 'vlietlust', 'vlijt', 'vr. elisabeth & anna catherina', 'vrede', 'vreedenburg', 'vrouw maria cornelia', 'vrouw maria geertruida', 'vrouwe anthonetta coenrardina', 'vrouwe cornelia hillegonda', 'vrouwe johanna catharina', 'vrouwe johanna cores', 'vrouwe margaretha maria', 'vrouwe maria', 'vulture', 'walmer castle', 'walpole', 'walvisch', 'warley', 'warren', 'warren hastings', 'warwick', 'wassenaar', 'watergeus', 'waterloo', 'weazle', 'welgeleegen', 'welmeenende', 'wesel', 'westerveld', 'weymouth', 'wilhelmina', 'wilhelmina en maria', 'wilhelmina lucia', 'willem', 'willem barendsz', 'winchelsea', 'windham', 'windhond', 'witte cornelisz de wit', 'wolf', 'woolwich', 'worcester', 'yarmouth', 'york', 'ystroom', 'zaan', 'zanggodin', 'zeeland', 'zeemercuur', 'zeepaard', 'zeeuw', 'zephyr', 'zwaan', 'zwaluw']\n",
      "936\n"
     ]
    }
   ],
   "source": [
    "ShipName = preprocessing_data(data['ShipName'].astype(str).map(lambda x: x.lower()))"
   ]
  },
  {
   "cell_type": "code",
   "execution_count": 120,
   "metadata": {
    "collapsed": false
   },
   "outputs": [
    {
     "name": "stdout",
     "output_type": "stream",
     "text": [
      "['2nd rate', '3rd rate', '3rd rate ', '3rd rate  ', '4th rate', '5th rate', '6th rate', '6th rate  ', '6th rate frigat', '7th rate', '8th rate', 'advijsjagt', 'armed storeship', 'balandra', 'bargentijn', 'bark', 'bergantin', 'bergantín', 'brick', 'brig', 'brig sloop', 'brig-sloop', 'brig/sloop', 'brigantijn', 'brigsloop', 'brik', 'buque', 'chambequín', 'chialoup', 'corbeta', 'corbetas', 'corvet', 'corveta', 'corvette', 'cotter', 'cutter', 'desconocida', 'desconocido', 'falucho', 'fireship', 'flute', 'fragata', 'fragata correo', 'fragata de guer', 'fragata/ correo', 'fragate', 'fregat', 'fregate', 'fregatschip', 'fregatte', 'frigate', 'gabarre', 'galjoot', 'goleta', 'goleta guarda c', 'hoekerschip', 'jabeque', 'koopvaarder', 'korvet', 'korvet v oorlog', 'kotter', \"l'aviso\", 'linieschip', 'merchant brig', 'mistico', 'nan', 'navio', 'navío', 'navío de la rea', 'o.i. schip', 'oorlogsschip', 'oorlogssnauw', 'packet ship', 'paketboot', 'paquebot', 'paquebote', 'paquebotes', 'pink', 'polacra', 'schoener', 'schoenerbrik', 'ship o.t. line', 'sloep', 'sloop', 'sloop (?)', 'snaauw', 'snauw', 'snow', 'special vessel', 'steamer', 'stoompacket', 'stoomschip', 'storeship', 'transportschip', 'troopship', 'vrachtschip', 'whaler', 'zeilschip']\n",
      "98\n"
     ]
    }
   ],
   "source": [
    "ShipType = preprocessing_data(data['ShipType'].astype(str).map(lambda x: x.lower()))"
   ]
  },
  {
   "cell_type": "code",
   "execution_count": 121,
   "metadata": {
    "collapsed": false
   },
   "outputs": [
    {
     "name": "stdout",
     "output_type": "stream",
     "text": [
      "['a. hoboken, rotterdam', 'a. van hoboken & zn. te rotterdam.', 'adm', 'admiraliteit', 'eic', 'h. v. rijckevorsel, rotterdam', 'hudson bay company', 'mar', 'marine', 'mcc', 'mer', 'merchant navy', 'nan', 'oic', 'particulier', 'rn', 'rn ', 'swedish east india company', 'thomas brouw en zn.', 'voc', 'voc z', 'voc-z', 'wha', 'wic']\n",
      "24\n"
     ]
    }
   ],
   "source": [
    "Company = preprocessing_data(data['Company'].astype(str).map(lambda x: x.lower()))"
   ]
  },
  {
   "cell_type": "code",
   "execution_count": 122,
   "metadata": {
    "collapsed": false
   },
   "outputs": [
    {
     "name": "stdout",
     "output_type": "stream",
     "text": [
      "['American', 'British', 'Danish', 'Dutch', 'French', 'Hamburg', 'Spanish', 'Swedish']\n",
      "8\n"
     ]
    }
   ],
   "source": [
    "Nationality = preprocessing_data(data['Nationality'].map(lambda x: x.rstrip()))"
   ]
  },
  {
   "cell_type": "markdown",
   "metadata": {},
   "source": [
    "## Example of preprocessing data using a fake data set"
   ]
  },
  {
   "cell_type": "code",
   "execution_count": 56,
   "metadata": {
    "collapsed": false
   },
   "outputs": [
    {
     "name": "stdout",
     "output_type": "stream",
     "text": [
      "['amsterdam', 'paris', 'tokyo']\n"
     ]
    },
    {
     "data": {
      "text/plain": [
       "['tokyo', 'tokyo', 'paris']"
      ]
     },
     "execution_count": 56,
     "metadata": {},
     "output_type": "execute_result"
    }
   ],
   "source": [
    "le = preprocessing.LabelEncoder()\n",
    "le.fit([\"paris\", \"paris\", \"tokyo\", \"amsterdam\"])\n",
    "print(list(le.classes_))\n",
    "le.transform([\"tokyo\", \"tokyo\", \"paris\"]) \n",
    "list(le.inverse_transform([2, 2, 1]))"
   ]
  },
  {
   "cell_type": "code",
   "execution_count": 32,
   "metadata": {
    "collapsed": false
   },
   "outputs": [
    {
     "name": "stdout",
     "output_type": "stream",
     "text": [
      "['amsterdam', 'paris', 'tokyo']\n",
      "['dutch', 'french', 'spanish']\n"
     ]
    },
    {
     "data": {
      "text/plain": [
       "OneHotEncoder(categorical_features='all', dtype=<class 'float'>,\n",
       "       handle_unknown='error', n_values='auto', sparse=True)"
      ]
     },
     "execution_count": 32,
     "metadata": {},
     "output_type": "execute_result"
    }
   ],
   "source": [
    "starting_point = [\"paris\", \"paris\", \"tokyo\", \"amsterdam\"]\n",
    "nationality = ['dutch', 'french', 'spanish', 'dutch']\n",
    "\n",
    "categorical_data = [starting_point, nationality]\n",
    "\n",
    "encoded_data = []\n",
    "for category in categorical_data:\n",
    "    data_column = preprocessing_data(category)\n",
    "    encoded_data.append(data_column)\n",
    "    \n",
    "encoded_data\n",
    "\n",
    "enc = preprocessing.OneHotEncoder()\n",
    "enc.fit(encoded_data)\n",
    "# add columns to data frame?"
   ]
  },
  {
   "cell_type": "markdown",
   "metadata": {
    "collapsed": true
   },
   "source": [
    "# Testing one hot encoding"
   ]
  },
  {
   "cell_type": "markdown",
   "metadata": {
    "collapsed": false
   },
   "source": [
    "The following class was found on stackoverflow: http://stackoverflow.com/questions/24458645/label-encoding-across-multiple-columns-in-scikit-learn\n",
    "\n",
    "- The stack overflow was based on this: http://zacstewart.com/2014/08/05/pipelines-of-featureunions-of-pipelines.html"
   ]
  },
  {
   "cell_type": "code",
   "execution_count": 154,
   "metadata": {
    "collapsed": true
   },
   "outputs": [],
   "source": [
    "import pandas as pd\n",
    "from sklearn.preprocessing import LabelEncoder\n",
    "from sklearn.pipeline import Pipeline\n",
    "\n",
    "# Create some toy data in a Pandas dataframe\n",
    "fruit_data = pd.DataFrame({\n",
    "    'fruit':  ['apple','orange','pear','orange'],\n",
    "    'color':  ['red','orange','green','green'],\n",
    "    'weight': [5,6,3,4]\n",
    "})\n",
    "\n",
    "class MultiColumnLabelEncoder:\n",
    "    def __init__(self,columns = None):\n",
    "        self.columns = columns # array of column names to encode\n",
    "\n",
    "    def fit(self,X,y=None):\n",
    "        return self # not relevant here\n",
    "\n",
    "    def transform(self,X):\n",
    "        '''\n",
    "        Transforms columns of X specified in self.columns using\n",
    "        LabelEncoder(). If no columns specified, transforms all\n",
    "        columns in X.\n",
    "        '''\n",
    "        output = X.copy()\n",
    "        encoding = pd.DataFrame(index=X.index,columns=X.columns)\n",
    "        if self.columns is not None:\n",
    "            for col in self.columns:\n",
    "                encoding[col][0:len(LabelEncoder().fit(output[col]).classes_)] = LabelEncoder().fit(output[col]).classes_\n",
    "                output[col] = LabelEncoder().fit_transform(output[col])\n",
    "        else:\n",
    "            for col in output.columns:\n",
    "                encoding[col][0:len(LabelEncoder().fit(output[col]).classes_)] = LabelEncoder().fit(output[col]).classes_\n",
    "                output[col] = LabelEncoder().fit_transform(output[col])\n",
    "        encoding = encoding.dropna(axis=0, how='all')\n",
    "        return output, encoding\n",
    "\n",
    "    def fit_transform(self,X,y=None): \n",
    "        return self.fit(X,y).transform(X)\n"
   ]
  },
  {
   "cell_type": "code",
   "execution_count": 156,
   "metadata": {
    "collapsed": false
   },
   "outputs": [
    {
     "data": {
      "text/plain": [
       "(   color  fruit  weight\n",
       " 0      2      0       2\n",
       " 1      1      1       3\n",
       " 2      0      2       0\n",
       " 3      0      1       1,     color   fruit  weight\n",
       " 0   green   apple       3\n",
       " 1  orange  orange       4\n",
       " 2     red    pear       5\n",
       " 3     NaN     NaN       6)"
      ]
     },
     "execution_count": 156,
     "metadata": {},
     "output_type": "execute_result"
    }
   ],
   "source": [
    "MultiColumnLabelEncoder().fit_transform(fruit_data)"
   ]
  },
  {
   "cell_type": "code",
   "execution_count": null,
   "metadata": {
    "collapsed": true
   },
   "outputs": [],
   "source": [
    "MultiColumnLabelEncoder().fit_transform(data)"
   ]
  },
  {
   "cell_type": "code",
   "execution_count": 141,
   "metadata": {
    "collapsed": false
   },
   "outputs": [],
   "source": [
    "from sklearn.preprocessing import OneHotEncoder\n",
    "enc = OneHotEncoder()\n",
    "enc.fit([[0, 0, 3], [1, 1, 0], [0, 2, 1], [1, 0, 2]])  \n",
    "bob = enc.fit_transform(output['Nationality'].reshape(-1,1)).toarray()"
   ]
  },
  {
   "cell_type": "code",
   "execution_count": 35,
   "metadata": {
    "collapsed": true
   },
   "outputs": [],
   "source": [
    "data['VoyageFrom'] = data['VoyageFrom'].astype(str).map(lambda x: x.lower())\n",
    "data['VoyageTo'] = data['VoyageTo'].astype(str).map(lambda x: x.lower())\n",
    "data['ShipName'] = data['ShipName'].astype(str).map(lambda x: x.lower())\n",
    "data['ShipType'] = data['ShipType'].astype(str).map(lambda x: x.lower())\n",
    "data['Company'] = data['Company'].astype(str).map(lambda x: x.lower())\n",
    "data['Nationality'] = data['Nationality'].map(lambda x: x.rstrip())"
   ]
  },
  {
   "cell_type": "code",
   "execution_count": 153,
   "metadata": {
    "collapsed": false
   },
   "outputs": [
    {
     "ename": "URLError",
     "evalue": "<urlopen error [Errno 8] nodename nor servname provided, or not known>",
     "output_type": "error",
     "traceback": [
      "\u001b[0;31m---------------------------------------------------------------------------\u001b[0m",
      "\u001b[0;31mgaierror\u001b[0m                                  Traceback (most recent call last)",
      "\u001b[0;32m/Applications/miniconda3/lib/python3.5/urllib/request.py\u001b[0m in \u001b[0;36mdo_open\u001b[0;34m(self, http_class, req, **http_conn_args)\u001b[0m\n\u001b[1;32m   1239\u001b[0m             \u001b[0;32mtry\u001b[0m\u001b[0;34m:\u001b[0m\u001b[0;34m\u001b[0m\u001b[0m\n\u001b[0;32m-> 1240\u001b[0;31m                 \u001b[0mh\u001b[0m\u001b[0;34m.\u001b[0m\u001b[0mrequest\u001b[0m\u001b[0;34m(\u001b[0m\u001b[0mreq\u001b[0m\u001b[0;34m.\u001b[0m\u001b[0mget_method\u001b[0m\u001b[0;34m(\u001b[0m\u001b[0;34m)\u001b[0m\u001b[0;34m,\u001b[0m \u001b[0mreq\u001b[0m\u001b[0;34m.\u001b[0m\u001b[0mselector\u001b[0m\u001b[0;34m,\u001b[0m \u001b[0mreq\u001b[0m\u001b[0;34m.\u001b[0m\u001b[0mdata\u001b[0m\u001b[0;34m,\u001b[0m \u001b[0mheaders\u001b[0m\u001b[0;34m)\u001b[0m\u001b[0;34m\u001b[0m\u001b[0m\n\u001b[0m\u001b[1;32m   1241\u001b[0m             \u001b[0;32mexcept\u001b[0m \u001b[0mOSError\u001b[0m \u001b[0;32mas\u001b[0m \u001b[0merr\u001b[0m\u001b[0;34m:\u001b[0m \u001b[0;31m# timeout error\u001b[0m\u001b[0;34m\u001b[0m\u001b[0m\n",
      "\u001b[0;32m/Applications/miniconda3/lib/python3.5/http/client.py\u001b[0m in \u001b[0;36mrequest\u001b[0;34m(self, method, url, body, headers)\u001b[0m\n\u001b[1;32m   1082\u001b[0m         \u001b[0;34m\"\"\"Send a complete request to the server.\"\"\"\u001b[0m\u001b[0;34m\u001b[0m\u001b[0m\n\u001b[0;32m-> 1083\u001b[0;31m         \u001b[0mself\u001b[0m\u001b[0;34m.\u001b[0m\u001b[0m_send_request\u001b[0m\u001b[0;34m(\u001b[0m\u001b[0mmethod\u001b[0m\u001b[0;34m,\u001b[0m \u001b[0murl\u001b[0m\u001b[0;34m,\u001b[0m \u001b[0mbody\u001b[0m\u001b[0;34m,\u001b[0m \u001b[0mheaders\u001b[0m\u001b[0;34m)\u001b[0m\u001b[0;34m\u001b[0m\u001b[0m\n\u001b[0m\u001b[1;32m   1084\u001b[0m \u001b[0;34m\u001b[0m\u001b[0m\n",
      "\u001b[0;32m/Applications/miniconda3/lib/python3.5/http/client.py\u001b[0m in \u001b[0;36m_send_request\u001b[0;34m(self, method, url, body, headers)\u001b[0m\n\u001b[1;32m   1127\u001b[0m             \u001b[0mbody\u001b[0m \u001b[0;34m=\u001b[0m \u001b[0mbody\u001b[0m\u001b[0;34m.\u001b[0m\u001b[0mencode\u001b[0m\u001b[0;34m(\u001b[0m\u001b[0;34m'iso-8859-1'\u001b[0m\u001b[0;34m)\u001b[0m\u001b[0;34m\u001b[0m\u001b[0m\n\u001b[0;32m-> 1128\u001b[0;31m         \u001b[0mself\u001b[0m\u001b[0;34m.\u001b[0m\u001b[0mendheaders\u001b[0m\u001b[0;34m(\u001b[0m\u001b[0mbody\u001b[0m\u001b[0;34m)\u001b[0m\u001b[0;34m\u001b[0m\u001b[0m\n\u001b[0m\u001b[1;32m   1129\u001b[0m \u001b[0;34m\u001b[0m\u001b[0m\n",
      "\u001b[0;32m/Applications/miniconda3/lib/python3.5/http/client.py\u001b[0m in \u001b[0;36mendheaders\u001b[0;34m(self, message_body)\u001b[0m\n\u001b[1;32m   1078\u001b[0m             \u001b[0;32mraise\u001b[0m \u001b[0mCannotSendHeader\u001b[0m\u001b[0;34m(\u001b[0m\u001b[0;34m)\u001b[0m\u001b[0;34m\u001b[0m\u001b[0m\n\u001b[0;32m-> 1079\u001b[0;31m         \u001b[0mself\u001b[0m\u001b[0;34m.\u001b[0m\u001b[0m_send_output\u001b[0m\u001b[0;34m(\u001b[0m\u001b[0mmessage_body\u001b[0m\u001b[0;34m)\u001b[0m\u001b[0;34m\u001b[0m\u001b[0m\n\u001b[0m\u001b[1;32m   1080\u001b[0m \u001b[0;34m\u001b[0m\u001b[0m\n",
      "\u001b[0;32m/Applications/miniconda3/lib/python3.5/http/client.py\u001b[0m in \u001b[0;36m_send_output\u001b[0;34m(self, message_body)\u001b[0m\n\u001b[1;32m    910\u001b[0m \u001b[0;34m\u001b[0m\u001b[0m\n\u001b[0;32m--> 911\u001b[0;31m         \u001b[0mself\u001b[0m\u001b[0;34m.\u001b[0m\u001b[0msend\u001b[0m\u001b[0;34m(\u001b[0m\u001b[0mmsg\u001b[0m\u001b[0;34m)\u001b[0m\u001b[0;34m\u001b[0m\u001b[0m\n\u001b[0m\u001b[1;32m    912\u001b[0m         \u001b[0;32mif\u001b[0m \u001b[0mmessage_body\u001b[0m \u001b[0;32mis\u001b[0m \u001b[0;32mnot\u001b[0m \u001b[0;32mNone\u001b[0m\u001b[0;34m:\u001b[0m\u001b[0;34m\u001b[0m\u001b[0m\n",
      "\u001b[0;32m/Applications/miniconda3/lib/python3.5/http/client.py\u001b[0m in \u001b[0;36msend\u001b[0;34m(self, data)\u001b[0m\n\u001b[1;32m    853\u001b[0m             \u001b[0;32mif\u001b[0m \u001b[0mself\u001b[0m\u001b[0;34m.\u001b[0m\u001b[0mauto_open\u001b[0m\u001b[0;34m:\u001b[0m\u001b[0;34m\u001b[0m\u001b[0m\n\u001b[0;32m--> 854\u001b[0;31m                 \u001b[0mself\u001b[0m\u001b[0;34m.\u001b[0m\u001b[0mconnect\u001b[0m\u001b[0;34m(\u001b[0m\u001b[0;34m)\u001b[0m\u001b[0;34m\u001b[0m\u001b[0m\n\u001b[0m\u001b[1;32m    855\u001b[0m             \u001b[0;32melse\u001b[0m\u001b[0;34m:\u001b[0m\u001b[0;34m\u001b[0m\u001b[0m\n",
      "\u001b[0;32m/Applications/miniconda3/lib/python3.5/http/client.py\u001b[0m in \u001b[0;36mconnect\u001b[0;34m(self)\u001b[0m\n\u001b[1;32m    825\u001b[0m         self.sock = self._create_connection(\n\u001b[0;32m--> 826\u001b[0;31m             (self.host,self.port), self.timeout, self.source_address)\n\u001b[0m\u001b[1;32m    827\u001b[0m         \u001b[0mself\u001b[0m\u001b[0;34m.\u001b[0m\u001b[0msock\u001b[0m\u001b[0;34m.\u001b[0m\u001b[0msetsockopt\u001b[0m\u001b[0;34m(\u001b[0m\u001b[0msocket\u001b[0m\u001b[0;34m.\u001b[0m\u001b[0mIPPROTO_TCP\u001b[0m\u001b[0;34m,\u001b[0m \u001b[0msocket\u001b[0m\u001b[0;34m.\u001b[0m\u001b[0mTCP_NODELAY\u001b[0m\u001b[0;34m,\u001b[0m \u001b[0;36m1\u001b[0m\u001b[0;34m)\u001b[0m\u001b[0;34m\u001b[0m\u001b[0m\n",
      "\u001b[0;32m/Applications/miniconda3/lib/python3.5/socket.py\u001b[0m in \u001b[0;36mcreate_connection\u001b[0;34m(address, timeout, source_address)\u001b[0m\n\u001b[1;32m    692\u001b[0m     \u001b[0merr\u001b[0m \u001b[0;34m=\u001b[0m \u001b[0;32mNone\u001b[0m\u001b[0;34m\u001b[0m\u001b[0m\n\u001b[0;32m--> 693\u001b[0;31m     \u001b[0;32mfor\u001b[0m \u001b[0mres\u001b[0m \u001b[0;32min\u001b[0m \u001b[0mgetaddrinfo\u001b[0m\u001b[0;34m(\u001b[0m\u001b[0mhost\u001b[0m\u001b[0;34m,\u001b[0m \u001b[0mport\u001b[0m\u001b[0;34m,\u001b[0m \u001b[0;36m0\u001b[0m\u001b[0;34m,\u001b[0m \u001b[0mSOCK_STREAM\u001b[0m\u001b[0;34m)\u001b[0m\u001b[0;34m:\u001b[0m\u001b[0;34m\u001b[0m\u001b[0m\n\u001b[0m\u001b[1;32m    694\u001b[0m         \u001b[0maf\u001b[0m\u001b[0;34m,\u001b[0m \u001b[0msocktype\u001b[0m\u001b[0;34m,\u001b[0m \u001b[0mproto\u001b[0m\u001b[0;34m,\u001b[0m \u001b[0mcanonname\u001b[0m\u001b[0;34m,\u001b[0m \u001b[0msa\u001b[0m \u001b[0;34m=\u001b[0m \u001b[0mres\u001b[0m\u001b[0;34m\u001b[0m\u001b[0m\n",
      "\u001b[0;32m/Applications/miniconda3/lib/python3.5/socket.py\u001b[0m in \u001b[0;36mgetaddrinfo\u001b[0;34m(host, port, family, type, proto, flags)\u001b[0m\n\u001b[1;32m    731\u001b[0m     \u001b[0maddrlist\u001b[0m \u001b[0;34m=\u001b[0m \u001b[0;34m[\u001b[0m\u001b[0;34m]\u001b[0m\u001b[0;34m\u001b[0m\u001b[0m\n\u001b[0;32m--> 732\u001b[0;31m     \u001b[0;32mfor\u001b[0m \u001b[0mres\u001b[0m \u001b[0;32min\u001b[0m \u001b[0m_socket\u001b[0m\u001b[0;34m.\u001b[0m\u001b[0mgetaddrinfo\u001b[0m\u001b[0;34m(\u001b[0m\u001b[0mhost\u001b[0m\u001b[0;34m,\u001b[0m \u001b[0mport\u001b[0m\u001b[0;34m,\u001b[0m \u001b[0mfamily\u001b[0m\u001b[0;34m,\u001b[0m \u001b[0mtype\u001b[0m\u001b[0;34m,\u001b[0m \u001b[0mproto\u001b[0m\u001b[0;34m,\u001b[0m \u001b[0mflags\u001b[0m\u001b[0;34m)\u001b[0m\u001b[0;34m:\u001b[0m\u001b[0;34m\u001b[0m\u001b[0m\n\u001b[0m\u001b[1;32m    733\u001b[0m         \u001b[0maf\u001b[0m\u001b[0;34m,\u001b[0m \u001b[0msocktype\u001b[0m\u001b[0;34m,\u001b[0m \u001b[0mproto\u001b[0m\u001b[0;34m,\u001b[0m \u001b[0mcanonname\u001b[0m\u001b[0;34m,\u001b[0m \u001b[0msa\u001b[0m \u001b[0;34m=\u001b[0m \u001b[0mres\u001b[0m\u001b[0;34m\u001b[0m\u001b[0m\n",
      "\u001b[0;31mgaierror\u001b[0m: [Errno 8] nodename nor servname provided, or not known",
      "\nDuring handling of the above exception, another exception occurred:\n",
      "\u001b[0;31mURLError\u001b[0m                                  Traceback (most recent call last)",
      "\u001b[0;32m<ipython-input-153-f09ca5ee051a>\u001b[0m in \u001b[0;36m<module>\u001b[0;34m()\u001b[0m\n\u001b[1;32m      1\u001b[0m \u001b[0;32mimport\u001b[0m \u001b[0mgoslate\u001b[0m\u001b[0;34m\u001b[0m\u001b[0m\n\u001b[1;32m      2\u001b[0m \u001b[0mgs\u001b[0m \u001b[0;34m=\u001b[0m \u001b[0mgoslate\u001b[0m\u001b[0;34m.\u001b[0m\u001b[0mGoslate\u001b[0m\u001b[0;34m(\u001b[0m\u001b[0;34m)\u001b[0m\u001b[0;34m\u001b[0m\u001b[0m\n\u001b[0;32m----> 3\u001b[0;31m \u001b[0mprint\u001b[0m\u001b[0;34m(\u001b[0m\u001b[0mgs\u001b[0m\u001b[0;34m.\u001b[0m\u001b[0mtranslate\u001b[0m\u001b[0;34m(\u001b[0m\u001b[0;34m'hello world'\u001b[0m\u001b[0;34m,\u001b[0m \u001b[0;34m'de'\u001b[0m\u001b[0;34m)\u001b[0m\u001b[0;34m)\u001b[0m\u001b[0;34m\u001b[0m\u001b[0m\n\u001b[0m",
      "\u001b[0;32m/Applications/miniconda3/lib/python3.5/site-packages/goslate.py\u001b[0m in \u001b[0;36mtranslate\u001b[0;34m(self, text, target_language, source_language)\u001b[0m\n\u001b[1;32m    407\u001b[0m             \u001b[0;32mif\u001b[0m \u001b[0misinstance\u001b[0m\u001b[0;34m(\u001b[0m\u001b[0mtext\u001b[0m\u001b[0;34m,\u001b[0m \u001b[0municode\u001b[0m\u001b[0;34m)\u001b[0m\u001b[0;34m:\u001b[0m\u001b[0;34m\u001b[0m\u001b[0m\n\u001b[1;32m    408\u001b[0m                 \u001b[0mtext\u001b[0m \u001b[0;34m=\u001b[0m \u001b[0mtext\u001b[0m\u001b[0;34m.\u001b[0m\u001b[0mencode\u001b[0m\u001b[0;34m(\u001b[0m\u001b[0;34m'utf-8'\u001b[0m\u001b[0;34m)\u001b[0m\u001b[0;34m\u001b[0m\u001b[0m\n\u001b[0;32m--> 409\u001b[0;31m             \u001b[0;32mreturn\u001b[0m \u001b[0m_unwrapper_single_element\u001b[0m\u001b[0;34m(\u001b[0m\u001b[0mself\u001b[0m\u001b[0;34m.\u001b[0m\u001b[0m_translate_single_text\u001b[0m\u001b[0;34m(\u001b[0m\u001b[0mtext\u001b[0m\u001b[0;34m,\u001b[0m \u001b[0mtarget_language\u001b[0m\u001b[0;34m,\u001b[0m \u001b[0msource_language\u001b[0m\u001b[0;34m)\u001b[0m\u001b[0;34m)\u001b[0m\u001b[0;34m\u001b[0m\u001b[0m\n\u001b[0m\u001b[1;32m    410\u001b[0m \u001b[0;34m\u001b[0m\u001b[0m\n\u001b[1;32m    411\u001b[0m         \u001b[0mJOINT\u001b[0m \u001b[0;34m=\u001b[0m \u001b[0;34mu'\\u26ff'\u001b[0m\u001b[0;34m\u001b[0m\u001b[0m\n",
      "\u001b[0;32m/Applications/miniconda3/lib/python3.5/site-packages/goslate.py\u001b[0m in \u001b[0;36m_translate_single_text\u001b[0;34m(self, text, target_language, source_lauguage)\u001b[0m\n\u001b[1;32m    332\u001b[0m             \u001b[0;32mreturn\u001b[0m \u001b[0;32mlambda\u001b[0m\u001b[0;34m:\u001b[0m \u001b[0mself\u001b[0m\u001b[0;34m.\u001b[0m\u001b[0m_basic_translate\u001b[0m\u001b[0;34m(\u001b[0m\u001b[0mtext\u001b[0m\u001b[0;34m,\u001b[0m \u001b[0mtarget_language\u001b[0m\u001b[0;34m,\u001b[0m \u001b[0msource_lauguage\u001b[0m\u001b[0;34m)\u001b[0m\u001b[0;34m[\u001b[0m\u001b[0;36m0\u001b[0m\u001b[0;34m]\u001b[0m\u001b[0;34m\u001b[0m\u001b[0m\n\u001b[1;32m    333\u001b[0m \u001b[0;34m\u001b[0m\u001b[0m\n\u001b[0;32m--> 334\u001b[0;31m         \u001b[0mresults\u001b[0m \u001b[0;34m=\u001b[0m \u001b[0mlist\u001b[0m\u001b[0;34m(\u001b[0m\u001b[0mself\u001b[0m\u001b[0;34m.\u001b[0m\u001b[0m_execute\u001b[0m\u001b[0;34m(\u001b[0m\u001b[0mmake_task\u001b[0m\u001b[0;34m(\u001b[0m\u001b[0mi\u001b[0m\u001b[0;34m)\u001b[0m \u001b[0;32mfor\u001b[0m \u001b[0mi\u001b[0m \u001b[0;32min\u001b[0m \u001b[0msplit_text\u001b[0m\u001b[0;34m(\u001b[0m\u001b[0mtext\u001b[0m\u001b[0;34m)\u001b[0m\u001b[0;34m)\u001b[0m\u001b[0;34m)\u001b[0m\u001b[0;34m\u001b[0m\u001b[0m\n\u001b[0m\u001b[1;32m    335\u001b[0m         \u001b[0;32mreturn\u001b[0m \u001b[0mtuple\u001b[0m\u001b[0;34m(\u001b[0m\u001b[0;34m''\u001b[0m\u001b[0;34m.\u001b[0m\u001b[0mjoin\u001b[0m\u001b[0;34m(\u001b[0m\u001b[0mi\u001b[0m\u001b[0;34m[\u001b[0m\u001b[0mn\u001b[0m\u001b[0;34m]\u001b[0m \u001b[0;32mfor\u001b[0m \u001b[0mi\u001b[0m \u001b[0;32min\u001b[0m \u001b[0mresults\u001b[0m\u001b[0;34m)\u001b[0m \u001b[0;32mfor\u001b[0m \u001b[0mn\u001b[0m \u001b[0;32min\u001b[0m \u001b[0mrange\u001b[0m\u001b[0;34m(\u001b[0m\u001b[0mlen\u001b[0m\u001b[0;34m(\u001b[0m\u001b[0mself\u001b[0m\u001b[0;34m.\u001b[0m\u001b[0m_writing\u001b[0m\u001b[0;34m)\u001b[0m\u001b[0;34m)\u001b[0m\u001b[0;34m)\u001b[0m\u001b[0;34m\u001b[0m\u001b[0m\n\u001b[1;32m    336\u001b[0m \u001b[0;34m\u001b[0m\u001b[0m\n",
      "\u001b[0;32m/Applications/miniconda3/lib/python3.5/site-packages/goslate.py\u001b[0m in \u001b[0;36m_execute\u001b[0;34m(self, tasks)\u001b[0m\n\u001b[1;32m    201\u001b[0m         \u001b[0;32mif\u001b[0m \u001b[0;32mnot\u001b[0m \u001b[0mfirst_tasks\u001b[0m\u001b[0;34m[\u001b[0m\u001b[0;34m-\u001b[0m\u001b[0;36m1\u001b[0m\u001b[0;34m]\u001b[0m \u001b[0;32mor\u001b[0m \u001b[0;32mnot\u001b[0m \u001b[0mself\u001b[0m\u001b[0;34m.\u001b[0m\u001b[0m_executor\u001b[0m\u001b[0;34m:\u001b[0m\u001b[0;34m\u001b[0m\u001b[0m\n\u001b[1;32m    202\u001b[0m             \u001b[0;32mfor\u001b[0m \u001b[0meach\u001b[0m \u001b[0;32min\u001b[0m \u001b[0mtasks\u001b[0m\u001b[0;34m:\u001b[0m\u001b[0;34m\u001b[0m\u001b[0m\n\u001b[0;32m--> 203\u001b[0;31m                 \u001b[0;32myield\u001b[0m \u001b[0meach\u001b[0m\u001b[0;34m(\u001b[0m\u001b[0;34m)\u001b[0m\u001b[0;34m\u001b[0m\u001b[0m\n\u001b[0m\u001b[1;32m    204\u001b[0m         \u001b[0;32melse\u001b[0m\u001b[0;34m:\u001b[0m\u001b[0;34m\u001b[0m\u001b[0m\n\u001b[1;32m    205\u001b[0m             \u001b[0mexception\u001b[0m \u001b[0;34m=\u001b[0m \u001b[0;32mNone\u001b[0m\u001b[0;34m\u001b[0m\u001b[0m\n",
      "\u001b[0;32m/Applications/miniconda3/lib/python3.5/site-packages/goslate.py\u001b[0m in \u001b[0;36m<lambda>\u001b[0;34m()\u001b[0m\n\u001b[1;32m    330\u001b[0m \u001b[0;34m\u001b[0m\u001b[0m\n\u001b[1;32m    331\u001b[0m         \u001b[0;32mdef\u001b[0m \u001b[0mmake_task\u001b[0m\u001b[0;34m(\u001b[0m\u001b[0mtext\u001b[0m\u001b[0;34m)\u001b[0m\u001b[0;34m:\u001b[0m\u001b[0;34m\u001b[0m\u001b[0m\n\u001b[0;32m--> 332\u001b[0;31m             \u001b[0;32mreturn\u001b[0m \u001b[0;32mlambda\u001b[0m\u001b[0;34m:\u001b[0m \u001b[0mself\u001b[0m\u001b[0;34m.\u001b[0m\u001b[0m_basic_translate\u001b[0m\u001b[0;34m(\u001b[0m\u001b[0mtext\u001b[0m\u001b[0;34m,\u001b[0m \u001b[0mtarget_language\u001b[0m\u001b[0;34m,\u001b[0m \u001b[0msource_lauguage\u001b[0m\u001b[0;34m)\u001b[0m\u001b[0;34m[\u001b[0m\u001b[0;36m0\u001b[0m\u001b[0;34m]\u001b[0m\u001b[0;34m\u001b[0m\u001b[0m\n\u001b[0m\u001b[1;32m    333\u001b[0m \u001b[0;34m\u001b[0m\u001b[0m\n\u001b[1;32m    334\u001b[0m         \u001b[0mresults\u001b[0m \u001b[0;34m=\u001b[0m \u001b[0mlist\u001b[0m\u001b[0;34m(\u001b[0m\u001b[0mself\u001b[0m\u001b[0;34m.\u001b[0m\u001b[0m_execute\u001b[0m\u001b[0;34m(\u001b[0m\u001b[0mmake_task\u001b[0m\u001b[0;34m(\u001b[0m\u001b[0mi\u001b[0m\u001b[0;34m)\u001b[0m \u001b[0;32mfor\u001b[0m \u001b[0mi\u001b[0m \u001b[0;32min\u001b[0m \u001b[0msplit_text\u001b[0m\u001b[0;34m(\u001b[0m\u001b[0mtext\u001b[0m\u001b[0;34m)\u001b[0m\u001b[0;34m)\u001b[0m\u001b[0;34m)\u001b[0m\u001b[0;34m\u001b[0m\u001b[0m\n",
      "\u001b[0;32m/Applications/miniconda3/lib/python3.5/site-packages/goslate.py\u001b[0m in \u001b[0;36m_basic_translate\u001b[0;34m(self, text, target_language, source_language)\u001b[0m\n\u001b[1;32m    249\u001b[0m             \u001b[0murl\u001b[0m \u001b[0;34m+=\u001b[0m \u001b[0;34m'&dt=rm'\u001b[0m\u001b[0;34m\u001b[0m\u001b[0m\n\u001b[1;32m    250\u001b[0m \u001b[0;34m\u001b[0m\u001b[0m\n\u001b[0;32m--> 251\u001b[0;31m         \u001b[0mresponse_content\u001b[0m \u001b[0;34m=\u001b[0m \u001b[0mself\u001b[0m\u001b[0;34m.\u001b[0m\u001b[0m_open_url\u001b[0m\u001b[0;34m(\u001b[0m\u001b[0murl\u001b[0m\u001b[0;34m)\u001b[0m\u001b[0;34m\u001b[0m\u001b[0m\n\u001b[0m\u001b[1;32m    252\u001b[0m         \u001b[0mraw_data\u001b[0m \u001b[0;34m=\u001b[0m \u001b[0mjson\u001b[0m\u001b[0;34m.\u001b[0m\u001b[0mloads\u001b[0m\u001b[0;34m(\u001b[0m\u001b[0m_empty_comma\u001b[0m\u001b[0;34m.\u001b[0m\u001b[0msubn\u001b[0m\u001b[0;34m(\u001b[0m\u001b[0;34m''\u001b[0m\u001b[0;34m,\u001b[0m \u001b[0mresponse_content\u001b[0m\u001b[0;34m)\u001b[0m\u001b[0;34m[\u001b[0m\u001b[0;36m0\u001b[0m\u001b[0;34m]\u001b[0m\u001b[0;34m.\u001b[0m\u001b[0mreplace\u001b[0m\u001b[0;34m(\u001b[0m\u001b[0;34mu'\\xA0'\u001b[0m\u001b[0;34m,\u001b[0m \u001b[0;34mu' '\u001b[0m\u001b[0;34m)\u001b[0m\u001b[0;34m.\u001b[0m\u001b[0mreplace\u001b[0m\u001b[0;34m(\u001b[0m\u001b[0;34m'[,'\u001b[0m\u001b[0;34m,\u001b[0m \u001b[0;34m'[1,'\u001b[0m\u001b[0;34m)\u001b[0m\u001b[0;34m)\u001b[0m\u001b[0;34m\u001b[0m\u001b[0m\n\u001b[1;32m    253\u001b[0m         \u001b[0mdata\u001b[0m \u001b[0;34m=\u001b[0m \u001b[0;34m{\u001b[0m\u001b[0;34m'src'\u001b[0m\u001b[0;34m:\u001b[0m \u001b[0mraw_data\u001b[0m\u001b[0;34m[\u001b[0m\u001b[0;34m-\u001b[0m\u001b[0;36m1\u001b[0m\u001b[0;34m]\u001b[0m\u001b[0;34m[\u001b[0m\u001b[0;36m0\u001b[0m\u001b[0;34m]\u001b[0m\u001b[0;34m[\u001b[0m\u001b[0;36m0\u001b[0m\u001b[0;34m]\u001b[0m\u001b[0;34m}\u001b[0m\u001b[0;34m\u001b[0m\u001b[0m\n",
      "\u001b[0;32m/Applications/miniconda3/lib/python3.5/site-packages/goslate.py\u001b[0m in \u001b[0;36m_open_url\u001b[0;34m(self, url)\u001b[0m\n\u001b[1;32m    189\u001b[0m                     \u001b[0mprint\u001b[0m\u001b[0;34m(\u001b[0m\u001b[0mthreading\u001b[0m\u001b[0;34m.\u001b[0m\u001b[0mcurrentThread\u001b[0m\u001b[0;34m(\u001b[0m\u001b[0;34m)\u001b[0m\u001b[0;34m,\u001b[0m \u001b[0me\u001b[0m\u001b[0;34m)\u001b[0m\u001b[0;34m\u001b[0m\u001b[0m\n\u001b[1;32m    190\u001b[0m                 \u001b[0;32mif\u001b[0m \u001b[0;34m'Connection reset by peer'\u001b[0m \u001b[0;32mnot\u001b[0m \u001b[0;32min\u001b[0m \u001b[0mstr\u001b[0m\u001b[0;34m(\u001b[0m\u001b[0me\u001b[0m\u001b[0;34m)\u001b[0m\u001b[0;34m:\u001b[0m\u001b[0;34m\u001b[0m\u001b[0m\n\u001b[0;32m--> 191\u001b[0;31m                     \u001b[0;32mraise\u001b[0m \u001b[0me\u001b[0m\u001b[0;34m\u001b[0m\u001b[0m\n\u001b[0m\u001b[1;32m    192\u001b[0m                 \u001b[0mexception\u001b[0m \u001b[0;34m=\u001b[0m \u001b[0me\u001b[0m\u001b[0;34m\u001b[0m\u001b[0m\n\u001b[1;32m    193\u001b[0m                 \u001b[0mtime\u001b[0m\u001b[0;34m.\u001b[0m\u001b[0msleep\u001b[0m\u001b[0;34m(\u001b[0m\u001b[0;36m0.0001\u001b[0m\u001b[0;34m)\u001b[0m\u001b[0;34m\u001b[0m\u001b[0m\n",
      "\u001b[0;32m/Applications/miniconda3/lib/python3.5/site-packages/goslate.py\u001b[0m in \u001b[0;36m_open_url\u001b[0;34m(self, url)\u001b[0m\n\u001b[1;32m    179\u001b[0m         \u001b[0;32mfor\u001b[0m \u001b[0mi\u001b[0m \u001b[0;32min\u001b[0m \u001b[0mrange\u001b[0m\u001b[0;34m(\u001b[0m\u001b[0mself\u001b[0m\u001b[0;34m.\u001b[0m\u001b[0m_RETRY_TIMES\u001b[0m\u001b[0;34m)\u001b[0m\u001b[0;34m:\u001b[0m\u001b[0;34m\u001b[0m\u001b[0m\n\u001b[1;32m    180\u001b[0m             \u001b[0;32mtry\u001b[0m\u001b[0;34m:\u001b[0m\u001b[0;34m\u001b[0m\u001b[0m\n\u001b[0;32m--> 181\u001b[0;31m                 \u001b[0mresponse\u001b[0m \u001b[0;34m=\u001b[0m \u001b[0mself\u001b[0m\u001b[0;34m.\u001b[0m\u001b[0m_opener\u001b[0m\u001b[0;34m.\u001b[0m\u001b[0mopen\u001b[0m\u001b[0;34m(\u001b[0m\u001b[0mrequest\u001b[0m\u001b[0;34m,\u001b[0m \u001b[0mtimeout\u001b[0m\u001b[0;34m=\u001b[0m\u001b[0mself\u001b[0m\u001b[0;34m.\u001b[0m\u001b[0m_TIMEOUT\u001b[0m\u001b[0;34m)\u001b[0m\u001b[0;34m\u001b[0m\u001b[0m\n\u001b[0m\u001b[1;32m    182\u001b[0m                 \u001b[0mresponse_content\u001b[0m \u001b[0;34m=\u001b[0m \u001b[0mresponse\u001b[0m\u001b[0;34m.\u001b[0m\u001b[0mread\u001b[0m\u001b[0;34m(\u001b[0m\u001b[0;34m)\u001b[0m\u001b[0;34m.\u001b[0m\u001b[0mdecode\u001b[0m\u001b[0;34m(\u001b[0m\u001b[0;34m'utf-8'\u001b[0m\u001b[0;34m)\u001b[0m\u001b[0;34m\u001b[0m\u001b[0m\n\u001b[1;32m    183\u001b[0m                 \u001b[0;32mif\u001b[0m \u001b[0mself\u001b[0m\u001b[0;34m.\u001b[0m\u001b[0m_DEBUG\u001b[0m\u001b[0;34m:\u001b[0m\u001b[0;34m\u001b[0m\u001b[0m\n",
      "\u001b[0;32m/Applications/miniconda3/lib/python3.5/urllib/request.py\u001b[0m in \u001b[0;36mopen\u001b[0;34m(self, fullurl, data, timeout)\u001b[0m\n\u001b[1;32m    463\u001b[0m             \u001b[0mreq\u001b[0m \u001b[0;34m=\u001b[0m \u001b[0mmeth\u001b[0m\u001b[0;34m(\u001b[0m\u001b[0mreq\u001b[0m\u001b[0;34m)\u001b[0m\u001b[0;34m\u001b[0m\u001b[0m\n\u001b[1;32m    464\u001b[0m \u001b[0;34m\u001b[0m\u001b[0m\n\u001b[0;32m--> 465\u001b[0;31m         \u001b[0mresponse\u001b[0m \u001b[0;34m=\u001b[0m \u001b[0mself\u001b[0m\u001b[0;34m.\u001b[0m\u001b[0m_open\u001b[0m\u001b[0;34m(\u001b[0m\u001b[0mreq\u001b[0m\u001b[0;34m,\u001b[0m \u001b[0mdata\u001b[0m\u001b[0;34m)\u001b[0m\u001b[0;34m\u001b[0m\u001b[0m\n\u001b[0m\u001b[1;32m    466\u001b[0m \u001b[0;34m\u001b[0m\u001b[0m\n\u001b[1;32m    467\u001b[0m         \u001b[0;31m# post-process response\u001b[0m\u001b[0;34m\u001b[0m\u001b[0;34m\u001b[0m\u001b[0m\n",
      "\u001b[0;32m/Applications/miniconda3/lib/python3.5/urllib/request.py\u001b[0m in \u001b[0;36m_open\u001b[0;34m(self, req, data)\u001b[0m\n\u001b[1;32m    481\u001b[0m         \u001b[0mprotocol\u001b[0m \u001b[0;34m=\u001b[0m \u001b[0mreq\u001b[0m\u001b[0;34m.\u001b[0m\u001b[0mtype\u001b[0m\u001b[0;34m\u001b[0m\u001b[0m\n\u001b[1;32m    482\u001b[0m         result = self._call_chain(self.handle_open, protocol, protocol +\n\u001b[0;32m--> 483\u001b[0;31m                                   '_open', req)\n\u001b[0m\u001b[1;32m    484\u001b[0m         \u001b[0;32mif\u001b[0m \u001b[0mresult\u001b[0m\u001b[0;34m:\u001b[0m\u001b[0;34m\u001b[0m\u001b[0m\n\u001b[1;32m    485\u001b[0m             \u001b[0;32mreturn\u001b[0m \u001b[0mresult\u001b[0m\u001b[0;34m\u001b[0m\u001b[0m\n",
      "\u001b[0;32m/Applications/miniconda3/lib/python3.5/urllib/request.py\u001b[0m in \u001b[0;36m_call_chain\u001b[0;34m(self, chain, kind, meth_name, *args)\u001b[0m\n\u001b[1;32m    441\u001b[0m         \u001b[0;32mfor\u001b[0m \u001b[0mhandler\u001b[0m \u001b[0;32min\u001b[0m \u001b[0mhandlers\u001b[0m\u001b[0;34m:\u001b[0m\u001b[0;34m\u001b[0m\u001b[0m\n\u001b[1;32m    442\u001b[0m             \u001b[0mfunc\u001b[0m \u001b[0;34m=\u001b[0m \u001b[0mgetattr\u001b[0m\u001b[0;34m(\u001b[0m\u001b[0mhandler\u001b[0m\u001b[0;34m,\u001b[0m \u001b[0mmeth_name\u001b[0m\u001b[0;34m)\u001b[0m\u001b[0;34m\u001b[0m\u001b[0m\n\u001b[0;32m--> 443\u001b[0;31m             \u001b[0mresult\u001b[0m \u001b[0;34m=\u001b[0m \u001b[0mfunc\u001b[0m\u001b[0;34m(\u001b[0m\u001b[0;34m*\u001b[0m\u001b[0margs\u001b[0m\u001b[0;34m)\u001b[0m\u001b[0;34m\u001b[0m\u001b[0m\n\u001b[0m\u001b[1;32m    444\u001b[0m             \u001b[0;32mif\u001b[0m \u001b[0mresult\u001b[0m \u001b[0;32mis\u001b[0m \u001b[0;32mnot\u001b[0m \u001b[0;32mNone\u001b[0m\u001b[0;34m:\u001b[0m\u001b[0;34m\u001b[0m\u001b[0m\n\u001b[1;32m    445\u001b[0m                 \u001b[0;32mreturn\u001b[0m \u001b[0mresult\u001b[0m\u001b[0;34m\u001b[0m\u001b[0m\n",
      "\u001b[0;32m/Applications/miniconda3/lib/python3.5/urllib/request.py\u001b[0m in \u001b[0;36mhttp_open\u001b[0;34m(self, req)\u001b[0m\n\u001b[1;32m   1266\u001b[0m \u001b[0;34m\u001b[0m\u001b[0m\n\u001b[1;32m   1267\u001b[0m     \u001b[0;32mdef\u001b[0m \u001b[0mhttp_open\u001b[0m\u001b[0;34m(\u001b[0m\u001b[0mself\u001b[0m\u001b[0;34m,\u001b[0m \u001b[0mreq\u001b[0m\u001b[0;34m)\u001b[0m\u001b[0;34m:\u001b[0m\u001b[0;34m\u001b[0m\u001b[0m\n\u001b[0;32m-> 1268\u001b[0;31m         \u001b[0;32mreturn\u001b[0m \u001b[0mself\u001b[0m\u001b[0;34m.\u001b[0m\u001b[0mdo_open\u001b[0m\u001b[0;34m(\u001b[0m\u001b[0mhttp\u001b[0m\u001b[0;34m.\u001b[0m\u001b[0mclient\u001b[0m\u001b[0;34m.\u001b[0m\u001b[0mHTTPConnection\u001b[0m\u001b[0;34m,\u001b[0m \u001b[0mreq\u001b[0m\u001b[0;34m)\u001b[0m\u001b[0;34m\u001b[0m\u001b[0m\n\u001b[0m\u001b[1;32m   1269\u001b[0m \u001b[0;34m\u001b[0m\u001b[0m\n\u001b[1;32m   1270\u001b[0m     \u001b[0mhttp_request\u001b[0m \u001b[0;34m=\u001b[0m \u001b[0mAbstractHTTPHandler\u001b[0m\u001b[0;34m.\u001b[0m\u001b[0mdo_request_\u001b[0m\u001b[0;34m\u001b[0m\u001b[0m\n",
      "\u001b[0;32m/Applications/miniconda3/lib/python3.5/urllib/request.py\u001b[0m in \u001b[0;36mdo_open\u001b[0;34m(self, http_class, req, **http_conn_args)\u001b[0m\n\u001b[1;32m   1240\u001b[0m                 \u001b[0mh\u001b[0m\u001b[0;34m.\u001b[0m\u001b[0mrequest\u001b[0m\u001b[0;34m(\u001b[0m\u001b[0mreq\u001b[0m\u001b[0;34m.\u001b[0m\u001b[0mget_method\u001b[0m\u001b[0;34m(\u001b[0m\u001b[0;34m)\u001b[0m\u001b[0;34m,\u001b[0m \u001b[0mreq\u001b[0m\u001b[0;34m.\u001b[0m\u001b[0mselector\u001b[0m\u001b[0;34m,\u001b[0m \u001b[0mreq\u001b[0m\u001b[0;34m.\u001b[0m\u001b[0mdata\u001b[0m\u001b[0;34m,\u001b[0m \u001b[0mheaders\u001b[0m\u001b[0;34m)\u001b[0m\u001b[0;34m\u001b[0m\u001b[0m\n\u001b[1;32m   1241\u001b[0m             \u001b[0;32mexcept\u001b[0m \u001b[0mOSError\u001b[0m \u001b[0;32mas\u001b[0m \u001b[0merr\u001b[0m\u001b[0;34m:\u001b[0m \u001b[0;31m# timeout error\u001b[0m\u001b[0;34m\u001b[0m\u001b[0m\n\u001b[0;32m-> 1242\u001b[0;31m                 \u001b[0;32mraise\u001b[0m \u001b[0mURLError\u001b[0m\u001b[0;34m(\u001b[0m\u001b[0merr\u001b[0m\u001b[0;34m)\u001b[0m\u001b[0;34m\u001b[0m\u001b[0m\n\u001b[0m\u001b[1;32m   1243\u001b[0m             \u001b[0mr\u001b[0m \u001b[0;34m=\u001b[0m \u001b[0mh\u001b[0m\u001b[0;34m.\u001b[0m\u001b[0mgetresponse\u001b[0m\u001b[0;34m(\u001b[0m\u001b[0;34m)\u001b[0m\u001b[0;34m\u001b[0m\u001b[0m\n\u001b[1;32m   1244\u001b[0m         \u001b[0;32mexcept\u001b[0m\u001b[0;34m:\u001b[0m\u001b[0;34m\u001b[0m\u001b[0m\n",
      "\u001b[0;31mURLError\u001b[0m: <urlopen error [Errno 8] nodename nor servname provided, or not known>"
     ]
    }
   ],
   "source": [
    "import goslate\n",
    "gs = goslate.Goslate()\n",
    "print(gs.translate('hello world', 'de'))\n"
   ]
  },
  {
   "cell_type": "code",
   "execution_count": 151,
   "metadata": {
    "collapsed": false
   },
   "outputs": [
    {
     "ename": "URLError",
     "evalue": "<urlopen error [Errno 8] nodename nor servname provided, or not known>",
     "output_type": "error",
     "traceback": [
      "\u001b[0;31m---------------------------------------------------------------------------\u001b[0m",
      "\u001b[0;31mgaierror\u001b[0m                                  Traceback (most recent call last)",
      "\u001b[0;32m/Applications/miniconda3/lib/python3.5/urllib/request.py\u001b[0m in \u001b[0;36mdo_open\u001b[0;34m(self, http_class, req, **http_conn_args)\u001b[0m\n\u001b[1;32m   1239\u001b[0m             \u001b[0;32mtry\u001b[0m\u001b[0;34m:\u001b[0m\u001b[0;34m\u001b[0m\u001b[0m\n\u001b[0;32m-> 1240\u001b[0;31m                 \u001b[0mh\u001b[0m\u001b[0;34m.\u001b[0m\u001b[0mrequest\u001b[0m\u001b[0;34m(\u001b[0m\u001b[0mreq\u001b[0m\u001b[0;34m.\u001b[0m\u001b[0mget_method\u001b[0m\u001b[0;34m(\u001b[0m\u001b[0;34m)\u001b[0m\u001b[0;34m,\u001b[0m \u001b[0mreq\u001b[0m\u001b[0;34m.\u001b[0m\u001b[0mselector\u001b[0m\u001b[0;34m,\u001b[0m \u001b[0mreq\u001b[0m\u001b[0;34m.\u001b[0m\u001b[0mdata\u001b[0m\u001b[0;34m,\u001b[0m \u001b[0mheaders\u001b[0m\u001b[0;34m)\u001b[0m\u001b[0;34m\u001b[0m\u001b[0m\n\u001b[0m\u001b[1;32m   1241\u001b[0m             \u001b[0;32mexcept\u001b[0m \u001b[0mOSError\u001b[0m \u001b[0;32mas\u001b[0m \u001b[0merr\u001b[0m\u001b[0;34m:\u001b[0m \u001b[0;31m# timeout error\u001b[0m\u001b[0;34m\u001b[0m\u001b[0m\n",
      "\u001b[0;32m/Applications/miniconda3/lib/python3.5/http/client.py\u001b[0m in \u001b[0;36mrequest\u001b[0;34m(self, method, url, body, headers)\u001b[0m\n\u001b[1;32m   1082\u001b[0m         \u001b[0;34m\"\"\"Send a complete request to the server.\"\"\"\u001b[0m\u001b[0;34m\u001b[0m\u001b[0m\n\u001b[0;32m-> 1083\u001b[0;31m         \u001b[0mself\u001b[0m\u001b[0;34m.\u001b[0m\u001b[0m_send_request\u001b[0m\u001b[0;34m(\u001b[0m\u001b[0mmethod\u001b[0m\u001b[0;34m,\u001b[0m \u001b[0murl\u001b[0m\u001b[0;34m,\u001b[0m \u001b[0mbody\u001b[0m\u001b[0;34m,\u001b[0m \u001b[0mheaders\u001b[0m\u001b[0;34m)\u001b[0m\u001b[0;34m\u001b[0m\u001b[0m\n\u001b[0m\u001b[1;32m   1084\u001b[0m \u001b[0;34m\u001b[0m\u001b[0m\n",
      "\u001b[0;32m/Applications/miniconda3/lib/python3.5/http/client.py\u001b[0m in \u001b[0;36m_send_request\u001b[0;34m(self, method, url, body, headers)\u001b[0m\n\u001b[1;32m   1127\u001b[0m             \u001b[0mbody\u001b[0m \u001b[0;34m=\u001b[0m \u001b[0mbody\u001b[0m\u001b[0;34m.\u001b[0m\u001b[0mencode\u001b[0m\u001b[0;34m(\u001b[0m\u001b[0;34m'iso-8859-1'\u001b[0m\u001b[0;34m)\u001b[0m\u001b[0;34m\u001b[0m\u001b[0m\n\u001b[0;32m-> 1128\u001b[0;31m         \u001b[0mself\u001b[0m\u001b[0;34m.\u001b[0m\u001b[0mendheaders\u001b[0m\u001b[0;34m(\u001b[0m\u001b[0mbody\u001b[0m\u001b[0;34m)\u001b[0m\u001b[0;34m\u001b[0m\u001b[0m\n\u001b[0m\u001b[1;32m   1129\u001b[0m \u001b[0;34m\u001b[0m\u001b[0m\n",
      "\u001b[0;32m/Applications/miniconda3/lib/python3.5/http/client.py\u001b[0m in \u001b[0;36mendheaders\u001b[0;34m(self, message_body)\u001b[0m\n\u001b[1;32m   1078\u001b[0m             \u001b[0;32mraise\u001b[0m \u001b[0mCannotSendHeader\u001b[0m\u001b[0;34m(\u001b[0m\u001b[0;34m)\u001b[0m\u001b[0;34m\u001b[0m\u001b[0m\n\u001b[0;32m-> 1079\u001b[0;31m         \u001b[0mself\u001b[0m\u001b[0;34m.\u001b[0m\u001b[0m_send_output\u001b[0m\u001b[0;34m(\u001b[0m\u001b[0mmessage_body\u001b[0m\u001b[0;34m)\u001b[0m\u001b[0;34m\u001b[0m\u001b[0m\n\u001b[0m\u001b[1;32m   1080\u001b[0m \u001b[0;34m\u001b[0m\u001b[0m\n",
      "\u001b[0;32m/Applications/miniconda3/lib/python3.5/http/client.py\u001b[0m in \u001b[0;36m_send_output\u001b[0;34m(self, message_body)\u001b[0m\n\u001b[1;32m    910\u001b[0m \u001b[0;34m\u001b[0m\u001b[0m\n\u001b[0;32m--> 911\u001b[0;31m         \u001b[0mself\u001b[0m\u001b[0;34m.\u001b[0m\u001b[0msend\u001b[0m\u001b[0;34m(\u001b[0m\u001b[0mmsg\u001b[0m\u001b[0;34m)\u001b[0m\u001b[0;34m\u001b[0m\u001b[0m\n\u001b[0m\u001b[1;32m    912\u001b[0m         \u001b[0;32mif\u001b[0m \u001b[0mmessage_body\u001b[0m \u001b[0;32mis\u001b[0m \u001b[0;32mnot\u001b[0m \u001b[0;32mNone\u001b[0m\u001b[0;34m:\u001b[0m\u001b[0;34m\u001b[0m\u001b[0m\n",
      "\u001b[0;32m/Applications/miniconda3/lib/python3.5/http/client.py\u001b[0m in \u001b[0;36msend\u001b[0;34m(self, data)\u001b[0m\n\u001b[1;32m    853\u001b[0m             \u001b[0;32mif\u001b[0m \u001b[0mself\u001b[0m\u001b[0;34m.\u001b[0m\u001b[0mauto_open\u001b[0m\u001b[0;34m:\u001b[0m\u001b[0;34m\u001b[0m\u001b[0m\n\u001b[0;32m--> 854\u001b[0;31m                 \u001b[0mself\u001b[0m\u001b[0;34m.\u001b[0m\u001b[0mconnect\u001b[0m\u001b[0;34m(\u001b[0m\u001b[0;34m)\u001b[0m\u001b[0;34m\u001b[0m\u001b[0m\n\u001b[0m\u001b[1;32m    855\u001b[0m             \u001b[0;32melse\u001b[0m\u001b[0;34m:\u001b[0m\u001b[0;34m\u001b[0m\u001b[0m\n",
      "\u001b[0;32m/Applications/miniconda3/lib/python3.5/http/client.py\u001b[0m in \u001b[0;36mconnect\u001b[0;34m(self)\u001b[0m\n\u001b[1;32m    825\u001b[0m         self.sock = self._create_connection(\n\u001b[0;32m--> 826\u001b[0;31m             (self.host,self.port), self.timeout, self.source_address)\n\u001b[0m\u001b[1;32m    827\u001b[0m         \u001b[0mself\u001b[0m\u001b[0;34m.\u001b[0m\u001b[0msock\u001b[0m\u001b[0;34m.\u001b[0m\u001b[0msetsockopt\u001b[0m\u001b[0;34m(\u001b[0m\u001b[0msocket\u001b[0m\u001b[0;34m.\u001b[0m\u001b[0mIPPROTO_TCP\u001b[0m\u001b[0;34m,\u001b[0m \u001b[0msocket\u001b[0m\u001b[0;34m.\u001b[0m\u001b[0mTCP_NODELAY\u001b[0m\u001b[0;34m,\u001b[0m \u001b[0;36m1\u001b[0m\u001b[0;34m)\u001b[0m\u001b[0;34m\u001b[0m\u001b[0m\n",
      "\u001b[0;32m/Applications/miniconda3/lib/python3.5/socket.py\u001b[0m in \u001b[0;36mcreate_connection\u001b[0;34m(address, timeout, source_address)\u001b[0m\n\u001b[1;32m    692\u001b[0m     \u001b[0merr\u001b[0m \u001b[0;34m=\u001b[0m \u001b[0;32mNone\u001b[0m\u001b[0;34m\u001b[0m\u001b[0m\n\u001b[0;32m--> 693\u001b[0;31m     \u001b[0;32mfor\u001b[0m \u001b[0mres\u001b[0m \u001b[0;32min\u001b[0m \u001b[0mgetaddrinfo\u001b[0m\u001b[0;34m(\u001b[0m\u001b[0mhost\u001b[0m\u001b[0;34m,\u001b[0m \u001b[0mport\u001b[0m\u001b[0;34m,\u001b[0m \u001b[0;36m0\u001b[0m\u001b[0;34m,\u001b[0m \u001b[0mSOCK_STREAM\u001b[0m\u001b[0;34m)\u001b[0m\u001b[0;34m:\u001b[0m\u001b[0;34m\u001b[0m\u001b[0m\n\u001b[0m\u001b[1;32m    694\u001b[0m         \u001b[0maf\u001b[0m\u001b[0;34m,\u001b[0m \u001b[0msocktype\u001b[0m\u001b[0;34m,\u001b[0m \u001b[0mproto\u001b[0m\u001b[0;34m,\u001b[0m \u001b[0mcanonname\u001b[0m\u001b[0;34m,\u001b[0m \u001b[0msa\u001b[0m \u001b[0;34m=\u001b[0m \u001b[0mres\u001b[0m\u001b[0;34m\u001b[0m\u001b[0m\n",
      "\u001b[0;32m/Applications/miniconda3/lib/python3.5/socket.py\u001b[0m in \u001b[0;36mgetaddrinfo\u001b[0;34m(host, port, family, type, proto, flags)\u001b[0m\n\u001b[1;32m    731\u001b[0m     \u001b[0maddrlist\u001b[0m \u001b[0;34m=\u001b[0m \u001b[0;34m[\u001b[0m\u001b[0;34m]\u001b[0m\u001b[0;34m\u001b[0m\u001b[0m\n\u001b[0;32m--> 732\u001b[0;31m     \u001b[0;32mfor\u001b[0m \u001b[0mres\u001b[0m \u001b[0;32min\u001b[0m \u001b[0m_socket\u001b[0m\u001b[0;34m.\u001b[0m\u001b[0mgetaddrinfo\u001b[0m\u001b[0;34m(\u001b[0m\u001b[0mhost\u001b[0m\u001b[0;34m,\u001b[0m \u001b[0mport\u001b[0m\u001b[0;34m,\u001b[0m \u001b[0mfamily\u001b[0m\u001b[0;34m,\u001b[0m \u001b[0mtype\u001b[0m\u001b[0;34m,\u001b[0m \u001b[0mproto\u001b[0m\u001b[0;34m,\u001b[0m \u001b[0mflags\u001b[0m\u001b[0;34m)\u001b[0m\u001b[0;34m:\u001b[0m\u001b[0;34m\u001b[0m\u001b[0m\n\u001b[0m\u001b[1;32m    733\u001b[0m         \u001b[0maf\u001b[0m\u001b[0;34m,\u001b[0m \u001b[0msocktype\u001b[0m\u001b[0;34m,\u001b[0m \u001b[0mproto\u001b[0m\u001b[0;34m,\u001b[0m \u001b[0mcanonname\u001b[0m\u001b[0;34m,\u001b[0m \u001b[0msa\u001b[0m \u001b[0;34m=\u001b[0m \u001b[0mres\u001b[0m\u001b[0;34m\u001b[0m\u001b[0m\n",
      "\u001b[0;31mgaierror\u001b[0m: [Errno 8] nodename nor servname provided, or not known",
      "\nDuring handling of the above exception, another exception occurred:\n",
      "\u001b[0;31mURLError\u001b[0m                                  Traceback (most recent call last)",
      "\u001b[0;32m<ipython-input-151-86ae4c6b47ba>\u001b[0m in \u001b[0;36m<module>\u001b[0;34m()\u001b[0m\n\u001b[1;32m      4\u001b[0m \u001b[0;34m\u001b[0m\u001b[0m\n\u001b[1;32m      5\u001b[0m \u001b[0mtranslation_iter\u001b[0m \u001b[0;34m=\u001b[0m \u001b[0mgs\u001b[0m\u001b[0;34m.\u001b[0m\u001b[0mtranslate\u001b[0m\u001b[0;34m(\u001b[0m\u001b[0mdata\u001b[0m\u001b[0;34m[\u001b[0m\u001b[0;34m'ShipType'\u001b[0m\u001b[0;34m]\u001b[0m\u001b[0;34m[\u001b[0m\u001b[0mdata\u001b[0m\u001b[0;34m[\u001b[0m\u001b[0;34m'Nationality'\u001b[0m\u001b[0;34m]\u001b[0m\u001b[0;34m==\u001b[0m\u001b[0;34m'Spanish'\u001b[0m\u001b[0;34m]\u001b[0m\u001b[0;34m.\u001b[0m\u001b[0mastype\u001b[0m\u001b[0;34m(\u001b[0m\u001b[0mstr\u001b[0m\u001b[0;34m)\u001b[0m\u001b[0;34m.\u001b[0m\u001b[0mmap\u001b[0m\u001b[0;34m(\u001b[0m\u001b[0;32mlambda\u001b[0m \u001b[0mx\u001b[0m\u001b[0;34m:\u001b[0m \u001b[0mx\u001b[0m\u001b[0;34m.\u001b[0m\u001b[0mlower\u001b[0m\u001b[0;34m(\u001b[0m\u001b[0;34m)\u001b[0m\u001b[0;34m)\u001b[0m\u001b[0;34m,\u001b[0m\u001b[0;34m'es'\u001b[0m\u001b[0;34m)\u001b[0m\u001b[0;34m\u001b[0m\u001b[0m\n\u001b[0;32m----> 6\u001b[0;31m \u001b[0mtranslation\u001b[0m \u001b[0;34m=\u001b[0m \u001b[0mlist\u001b[0m\u001b[0;34m(\u001b[0m\u001b[0mtranslation_iter\u001b[0m\u001b[0;34m)\u001b[0m\u001b[0;34m\u001b[0m\u001b[0m\n\u001b[0m",
      "\u001b[0;32m/Applications/miniconda3/lib/python3.5/site-packages/goslate.py\u001b[0m in \u001b[0;36m<genexpr>\u001b[0;34m(.0)\u001b[0m\n\u001b[1;32m    439\u001b[0m             \u001b[0;32mreturn\u001b[0m \u001b[0mtask\u001b[0m\u001b[0;34m\u001b[0m\u001b[0m\n\u001b[1;32m    440\u001b[0m \u001b[0;34m\u001b[0m\u001b[0m\n\u001b[0;32m--> 441\u001b[0;31m         return (_unwrapper_single_element(i) for i in\n\u001b[0m\u001b[1;32m    442\u001b[0m                 itertools.chain.from_iterable(self._execute(make_task(i) for i in join_texts(text))))\n\u001b[1;32m    443\u001b[0m \u001b[0;34m\u001b[0m\u001b[0m\n",
      "\u001b[0;32m/Applications/miniconda3/lib/python3.5/site-packages/goslate.py\u001b[0m in \u001b[0;36m_execute\u001b[0;34m(self, tasks)\u001b[0m\n\u001b[1;32m    213\u001b[0m \u001b[0;34m\u001b[0m\u001b[0m\n\u001b[1;32m    214\u001b[0m             \u001b[0;32mif\u001b[0m \u001b[0mexception\u001b[0m\u001b[0;34m:\u001b[0m\u001b[0;34m\u001b[0m\u001b[0m\n\u001b[0;32m--> 215\u001b[0;31m                 \u001b[0;32mraise\u001b[0m \u001b[0mexception\u001b[0m\u001b[0;34m\u001b[0m\u001b[0m\n\u001b[0m\u001b[1;32m    216\u001b[0m \u001b[0;34m\u001b[0m\u001b[0m\n\u001b[1;32m    217\u001b[0m \u001b[0;34m\u001b[0m\u001b[0m\n",
      "\u001b[0;32m/Applications/miniconda3/lib/python3.5/concurrent/futures/thread.py\u001b[0m in \u001b[0;36mrun\u001b[0;34m(self)\u001b[0m\n\u001b[1;32m     53\u001b[0m \u001b[0;34m\u001b[0m\u001b[0m\n\u001b[1;32m     54\u001b[0m         \u001b[0;32mtry\u001b[0m\u001b[0;34m:\u001b[0m\u001b[0;34m\u001b[0m\u001b[0m\n\u001b[0;32m---> 55\u001b[0;31m             \u001b[0mresult\u001b[0m \u001b[0;34m=\u001b[0m \u001b[0mself\u001b[0m\u001b[0;34m.\u001b[0m\u001b[0mfn\u001b[0m\u001b[0;34m(\u001b[0m\u001b[0;34m*\u001b[0m\u001b[0mself\u001b[0m\u001b[0;34m.\u001b[0m\u001b[0margs\u001b[0m\u001b[0;34m,\u001b[0m \u001b[0;34m**\u001b[0m\u001b[0mself\u001b[0m\u001b[0;34m.\u001b[0m\u001b[0mkwargs\u001b[0m\u001b[0;34m)\u001b[0m\u001b[0;34m\u001b[0m\u001b[0m\n\u001b[0m\u001b[1;32m     56\u001b[0m         \u001b[0;32mexcept\u001b[0m \u001b[0mBaseException\u001b[0m \u001b[0;32mas\u001b[0m \u001b[0me\u001b[0m\u001b[0;34m:\u001b[0m\u001b[0;34m\u001b[0m\u001b[0m\n\u001b[1;32m     57\u001b[0m             \u001b[0mself\u001b[0m\u001b[0;34m.\u001b[0m\u001b[0mfuture\u001b[0m\u001b[0;34m.\u001b[0m\u001b[0mset_exception\u001b[0m\u001b[0;34m(\u001b[0m\u001b[0me\u001b[0m\u001b[0;34m)\u001b[0m\u001b[0;34m\u001b[0m\u001b[0m\n",
      "\u001b[0;32m/Applications/miniconda3/lib/python3.5/site-packages/goslate.py\u001b[0m in \u001b[0;36mtask\u001b[0;34m()\u001b[0m\n\u001b[1;32m    433\u001b[0m         \u001b[0;32mdef\u001b[0m \u001b[0mmake_task\u001b[0m\u001b[0;34m(\u001b[0m\u001b[0mtext\u001b[0m\u001b[0;34m)\u001b[0m\u001b[0;34m:\u001b[0m\u001b[0;34m\u001b[0m\u001b[0m\n\u001b[1;32m    434\u001b[0m             \u001b[0;32mdef\u001b[0m \u001b[0mtask\u001b[0m\u001b[0;34m(\u001b[0m\u001b[0;34m)\u001b[0m\u001b[0;34m:\u001b[0m\u001b[0;34m\u001b[0m\u001b[0m\n\u001b[0;32m--> 435\u001b[0;31m                 \u001b[0mr\u001b[0m \u001b[0;34m=\u001b[0m \u001b[0mself\u001b[0m\u001b[0;34m.\u001b[0m\u001b[0m_translate_single_text\u001b[0m\u001b[0;34m(\u001b[0m\u001b[0mtext\u001b[0m\u001b[0;34m,\u001b[0m \u001b[0mtarget_language\u001b[0m\u001b[0;34m,\u001b[0m \u001b[0msource_language\u001b[0m\u001b[0;34m)\u001b[0m\u001b[0;34m\u001b[0m\u001b[0m\n\u001b[0m\u001b[1;32m    436\u001b[0m                 \u001b[0mr\u001b[0m \u001b[0;34m=\u001b[0m \u001b[0mtuple\u001b[0m\u001b[0;34m(\u001b[0m\u001b[0;34m[\u001b[0m\u001b[0mi\u001b[0m\u001b[0;34m.\u001b[0m\u001b[0mstrip\u001b[0m\u001b[0;34m(\u001b[0m\u001b[0;34m'\\n'\u001b[0m\u001b[0;34m)\u001b[0m \u001b[0;32mfor\u001b[0m \u001b[0mi\u001b[0m \u001b[0;32min\u001b[0m \u001b[0mn\u001b[0m\u001b[0;34m.\u001b[0m\u001b[0msplit\u001b[0m\u001b[0;34m(\u001b[0m\u001b[0mJOINT\u001b[0m\u001b[0;34m)\u001b[0m\u001b[0;34m]\u001b[0m \u001b[0;32mfor\u001b[0m \u001b[0mn\u001b[0m \u001b[0;32min\u001b[0m \u001b[0mr\u001b[0m\u001b[0;34m)\u001b[0m\u001b[0;34m\u001b[0m\u001b[0m\n\u001b[1;32m    437\u001b[0m                 \u001b[0;32mreturn\u001b[0m \u001b[0mizip\u001b[0m\u001b[0;34m(\u001b[0m\u001b[0;34m*\u001b[0m\u001b[0mr\u001b[0m\u001b[0;34m)\u001b[0m\u001b[0;34m\u001b[0m\u001b[0m\n",
      "\u001b[0;32m/Applications/miniconda3/lib/python3.5/site-packages/goslate.py\u001b[0m in \u001b[0;36m_translate_single_text\u001b[0;34m(self, text, target_language, source_lauguage)\u001b[0m\n\u001b[1;32m    332\u001b[0m             \u001b[0;32mreturn\u001b[0m \u001b[0;32mlambda\u001b[0m\u001b[0;34m:\u001b[0m \u001b[0mself\u001b[0m\u001b[0;34m.\u001b[0m\u001b[0m_basic_translate\u001b[0m\u001b[0;34m(\u001b[0m\u001b[0mtext\u001b[0m\u001b[0;34m,\u001b[0m \u001b[0mtarget_language\u001b[0m\u001b[0;34m,\u001b[0m \u001b[0msource_lauguage\u001b[0m\u001b[0;34m)\u001b[0m\u001b[0;34m[\u001b[0m\u001b[0;36m0\u001b[0m\u001b[0;34m]\u001b[0m\u001b[0;34m\u001b[0m\u001b[0m\n\u001b[1;32m    333\u001b[0m \u001b[0;34m\u001b[0m\u001b[0m\n\u001b[0;32m--> 334\u001b[0;31m         \u001b[0mresults\u001b[0m \u001b[0;34m=\u001b[0m \u001b[0mlist\u001b[0m\u001b[0;34m(\u001b[0m\u001b[0mself\u001b[0m\u001b[0;34m.\u001b[0m\u001b[0m_execute\u001b[0m\u001b[0;34m(\u001b[0m\u001b[0mmake_task\u001b[0m\u001b[0;34m(\u001b[0m\u001b[0mi\u001b[0m\u001b[0;34m)\u001b[0m \u001b[0;32mfor\u001b[0m \u001b[0mi\u001b[0m \u001b[0;32min\u001b[0m \u001b[0msplit_text\u001b[0m\u001b[0;34m(\u001b[0m\u001b[0mtext\u001b[0m\u001b[0;34m)\u001b[0m\u001b[0;34m)\u001b[0m\u001b[0;34m)\u001b[0m\u001b[0;34m\u001b[0m\u001b[0m\n\u001b[0m\u001b[1;32m    335\u001b[0m         \u001b[0;32mreturn\u001b[0m \u001b[0mtuple\u001b[0m\u001b[0;34m(\u001b[0m\u001b[0;34m''\u001b[0m\u001b[0;34m.\u001b[0m\u001b[0mjoin\u001b[0m\u001b[0;34m(\u001b[0m\u001b[0mi\u001b[0m\u001b[0;34m[\u001b[0m\u001b[0mn\u001b[0m\u001b[0;34m]\u001b[0m \u001b[0;32mfor\u001b[0m \u001b[0mi\u001b[0m \u001b[0;32min\u001b[0m \u001b[0mresults\u001b[0m\u001b[0;34m)\u001b[0m \u001b[0;32mfor\u001b[0m \u001b[0mn\u001b[0m \u001b[0;32min\u001b[0m \u001b[0mrange\u001b[0m\u001b[0;34m(\u001b[0m\u001b[0mlen\u001b[0m\u001b[0;34m(\u001b[0m\u001b[0mself\u001b[0m\u001b[0;34m.\u001b[0m\u001b[0m_writing\u001b[0m\u001b[0;34m)\u001b[0m\u001b[0;34m)\u001b[0m\u001b[0;34m)\u001b[0m\u001b[0;34m\u001b[0m\u001b[0m\n\u001b[1;32m    336\u001b[0m \u001b[0;34m\u001b[0m\u001b[0m\n",
      "\u001b[0;32m/Applications/miniconda3/lib/python3.5/site-packages/goslate.py\u001b[0m in \u001b[0;36m_execute\u001b[0;34m(self, tasks)\u001b[0m\n\u001b[1;32m    201\u001b[0m         \u001b[0;32mif\u001b[0m \u001b[0;32mnot\u001b[0m \u001b[0mfirst_tasks\u001b[0m\u001b[0;34m[\u001b[0m\u001b[0;34m-\u001b[0m\u001b[0;36m1\u001b[0m\u001b[0;34m]\u001b[0m \u001b[0;32mor\u001b[0m \u001b[0;32mnot\u001b[0m \u001b[0mself\u001b[0m\u001b[0;34m.\u001b[0m\u001b[0m_executor\u001b[0m\u001b[0;34m:\u001b[0m\u001b[0;34m\u001b[0m\u001b[0m\n\u001b[1;32m    202\u001b[0m             \u001b[0;32mfor\u001b[0m \u001b[0meach\u001b[0m \u001b[0;32min\u001b[0m \u001b[0mtasks\u001b[0m\u001b[0;34m:\u001b[0m\u001b[0;34m\u001b[0m\u001b[0m\n\u001b[0;32m--> 203\u001b[0;31m                 \u001b[0;32myield\u001b[0m \u001b[0meach\u001b[0m\u001b[0;34m(\u001b[0m\u001b[0;34m)\u001b[0m\u001b[0;34m\u001b[0m\u001b[0m\n\u001b[0m\u001b[1;32m    204\u001b[0m         \u001b[0;32melse\u001b[0m\u001b[0;34m:\u001b[0m\u001b[0;34m\u001b[0m\u001b[0m\n\u001b[1;32m    205\u001b[0m             \u001b[0mexception\u001b[0m \u001b[0;34m=\u001b[0m \u001b[0;32mNone\u001b[0m\u001b[0;34m\u001b[0m\u001b[0m\n",
      "\u001b[0;32m/Applications/miniconda3/lib/python3.5/site-packages/goslate.py\u001b[0m in \u001b[0;36m<lambda>\u001b[0;34m()\u001b[0m\n\u001b[1;32m    330\u001b[0m \u001b[0;34m\u001b[0m\u001b[0m\n\u001b[1;32m    331\u001b[0m         \u001b[0;32mdef\u001b[0m \u001b[0mmake_task\u001b[0m\u001b[0;34m(\u001b[0m\u001b[0mtext\u001b[0m\u001b[0;34m)\u001b[0m\u001b[0;34m:\u001b[0m\u001b[0;34m\u001b[0m\u001b[0m\n\u001b[0;32m--> 332\u001b[0;31m             \u001b[0;32mreturn\u001b[0m \u001b[0;32mlambda\u001b[0m\u001b[0;34m:\u001b[0m \u001b[0mself\u001b[0m\u001b[0;34m.\u001b[0m\u001b[0m_basic_translate\u001b[0m\u001b[0;34m(\u001b[0m\u001b[0mtext\u001b[0m\u001b[0;34m,\u001b[0m \u001b[0mtarget_language\u001b[0m\u001b[0;34m,\u001b[0m \u001b[0msource_lauguage\u001b[0m\u001b[0;34m)\u001b[0m\u001b[0;34m[\u001b[0m\u001b[0;36m0\u001b[0m\u001b[0;34m]\u001b[0m\u001b[0;34m\u001b[0m\u001b[0m\n\u001b[0m\u001b[1;32m    333\u001b[0m \u001b[0;34m\u001b[0m\u001b[0m\n\u001b[1;32m    334\u001b[0m         \u001b[0mresults\u001b[0m \u001b[0;34m=\u001b[0m \u001b[0mlist\u001b[0m\u001b[0;34m(\u001b[0m\u001b[0mself\u001b[0m\u001b[0;34m.\u001b[0m\u001b[0m_execute\u001b[0m\u001b[0;34m(\u001b[0m\u001b[0mmake_task\u001b[0m\u001b[0;34m(\u001b[0m\u001b[0mi\u001b[0m\u001b[0;34m)\u001b[0m \u001b[0;32mfor\u001b[0m \u001b[0mi\u001b[0m \u001b[0;32min\u001b[0m \u001b[0msplit_text\u001b[0m\u001b[0;34m(\u001b[0m\u001b[0mtext\u001b[0m\u001b[0;34m)\u001b[0m\u001b[0;34m)\u001b[0m\u001b[0;34m)\u001b[0m\u001b[0;34m\u001b[0m\u001b[0m\n",
      "\u001b[0;32m/Applications/miniconda3/lib/python3.5/site-packages/goslate.py\u001b[0m in \u001b[0;36m_basic_translate\u001b[0;34m(self, text, target_language, source_language)\u001b[0m\n\u001b[1;32m    249\u001b[0m             \u001b[0murl\u001b[0m \u001b[0;34m+=\u001b[0m \u001b[0;34m'&dt=rm'\u001b[0m\u001b[0;34m\u001b[0m\u001b[0m\n\u001b[1;32m    250\u001b[0m \u001b[0;34m\u001b[0m\u001b[0m\n\u001b[0;32m--> 251\u001b[0;31m         \u001b[0mresponse_content\u001b[0m \u001b[0;34m=\u001b[0m \u001b[0mself\u001b[0m\u001b[0;34m.\u001b[0m\u001b[0m_open_url\u001b[0m\u001b[0;34m(\u001b[0m\u001b[0murl\u001b[0m\u001b[0;34m)\u001b[0m\u001b[0;34m\u001b[0m\u001b[0m\n\u001b[0m\u001b[1;32m    252\u001b[0m         \u001b[0mraw_data\u001b[0m \u001b[0;34m=\u001b[0m \u001b[0mjson\u001b[0m\u001b[0;34m.\u001b[0m\u001b[0mloads\u001b[0m\u001b[0;34m(\u001b[0m\u001b[0m_empty_comma\u001b[0m\u001b[0;34m.\u001b[0m\u001b[0msubn\u001b[0m\u001b[0;34m(\u001b[0m\u001b[0;34m''\u001b[0m\u001b[0;34m,\u001b[0m \u001b[0mresponse_content\u001b[0m\u001b[0;34m)\u001b[0m\u001b[0;34m[\u001b[0m\u001b[0;36m0\u001b[0m\u001b[0;34m]\u001b[0m\u001b[0;34m.\u001b[0m\u001b[0mreplace\u001b[0m\u001b[0;34m(\u001b[0m\u001b[0;34mu'\\xA0'\u001b[0m\u001b[0;34m,\u001b[0m \u001b[0;34mu' '\u001b[0m\u001b[0;34m)\u001b[0m\u001b[0;34m.\u001b[0m\u001b[0mreplace\u001b[0m\u001b[0;34m(\u001b[0m\u001b[0;34m'[,'\u001b[0m\u001b[0;34m,\u001b[0m \u001b[0;34m'[1,'\u001b[0m\u001b[0;34m)\u001b[0m\u001b[0;34m)\u001b[0m\u001b[0;34m\u001b[0m\u001b[0m\n\u001b[1;32m    253\u001b[0m         \u001b[0mdata\u001b[0m \u001b[0;34m=\u001b[0m \u001b[0;34m{\u001b[0m\u001b[0;34m'src'\u001b[0m\u001b[0;34m:\u001b[0m \u001b[0mraw_data\u001b[0m\u001b[0;34m[\u001b[0m\u001b[0;34m-\u001b[0m\u001b[0;36m1\u001b[0m\u001b[0;34m]\u001b[0m\u001b[0;34m[\u001b[0m\u001b[0;36m0\u001b[0m\u001b[0;34m]\u001b[0m\u001b[0;34m[\u001b[0m\u001b[0;36m0\u001b[0m\u001b[0;34m]\u001b[0m\u001b[0;34m}\u001b[0m\u001b[0;34m\u001b[0m\u001b[0m\n",
      "\u001b[0;32m/Applications/miniconda3/lib/python3.5/site-packages/goslate.py\u001b[0m in \u001b[0;36m_open_url\u001b[0;34m(self, url)\u001b[0m\n\u001b[1;32m    189\u001b[0m                     \u001b[0mprint\u001b[0m\u001b[0;34m(\u001b[0m\u001b[0mthreading\u001b[0m\u001b[0;34m.\u001b[0m\u001b[0mcurrentThread\u001b[0m\u001b[0;34m(\u001b[0m\u001b[0;34m)\u001b[0m\u001b[0;34m,\u001b[0m \u001b[0me\u001b[0m\u001b[0;34m)\u001b[0m\u001b[0;34m\u001b[0m\u001b[0m\n\u001b[1;32m    190\u001b[0m                 \u001b[0;32mif\u001b[0m \u001b[0;34m'Connection reset by peer'\u001b[0m \u001b[0;32mnot\u001b[0m \u001b[0;32min\u001b[0m \u001b[0mstr\u001b[0m\u001b[0;34m(\u001b[0m\u001b[0me\u001b[0m\u001b[0;34m)\u001b[0m\u001b[0;34m:\u001b[0m\u001b[0;34m\u001b[0m\u001b[0m\n\u001b[0;32m--> 191\u001b[0;31m                     \u001b[0;32mraise\u001b[0m \u001b[0me\u001b[0m\u001b[0;34m\u001b[0m\u001b[0m\n\u001b[0m\u001b[1;32m    192\u001b[0m                 \u001b[0mexception\u001b[0m \u001b[0;34m=\u001b[0m \u001b[0me\u001b[0m\u001b[0;34m\u001b[0m\u001b[0m\n\u001b[1;32m    193\u001b[0m                 \u001b[0mtime\u001b[0m\u001b[0;34m.\u001b[0m\u001b[0msleep\u001b[0m\u001b[0;34m(\u001b[0m\u001b[0;36m0.0001\u001b[0m\u001b[0;34m)\u001b[0m\u001b[0;34m\u001b[0m\u001b[0m\n",
      "\u001b[0;32m/Applications/miniconda3/lib/python3.5/site-packages/goslate.py\u001b[0m in \u001b[0;36m_open_url\u001b[0;34m(self, url)\u001b[0m\n\u001b[1;32m    179\u001b[0m         \u001b[0;32mfor\u001b[0m \u001b[0mi\u001b[0m \u001b[0;32min\u001b[0m \u001b[0mrange\u001b[0m\u001b[0;34m(\u001b[0m\u001b[0mself\u001b[0m\u001b[0;34m.\u001b[0m\u001b[0m_RETRY_TIMES\u001b[0m\u001b[0;34m)\u001b[0m\u001b[0;34m:\u001b[0m\u001b[0;34m\u001b[0m\u001b[0m\n\u001b[1;32m    180\u001b[0m             \u001b[0;32mtry\u001b[0m\u001b[0;34m:\u001b[0m\u001b[0;34m\u001b[0m\u001b[0m\n\u001b[0;32m--> 181\u001b[0;31m                 \u001b[0mresponse\u001b[0m \u001b[0;34m=\u001b[0m \u001b[0mself\u001b[0m\u001b[0;34m.\u001b[0m\u001b[0m_opener\u001b[0m\u001b[0;34m.\u001b[0m\u001b[0mopen\u001b[0m\u001b[0;34m(\u001b[0m\u001b[0mrequest\u001b[0m\u001b[0;34m,\u001b[0m \u001b[0mtimeout\u001b[0m\u001b[0;34m=\u001b[0m\u001b[0mself\u001b[0m\u001b[0;34m.\u001b[0m\u001b[0m_TIMEOUT\u001b[0m\u001b[0;34m)\u001b[0m\u001b[0;34m\u001b[0m\u001b[0m\n\u001b[0m\u001b[1;32m    182\u001b[0m                 \u001b[0mresponse_content\u001b[0m \u001b[0;34m=\u001b[0m \u001b[0mresponse\u001b[0m\u001b[0;34m.\u001b[0m\u001b[0mread\u001b[0m\u001b[0;34m(\u001b[0m\u001b[0;34m)\u001b[0m\u001b[0;34m.\u001b[0m\u001b[0mdecode\u001b[0m\u001b[0;34m(\u001b[0m\u001b[0;34m'utf-8'\u001b[0m\u001b[0;34m)\u001b[0m\u001b[0;34m\u001b[0m\u001b[0m\n\u001b[1;32m    183\u001b[0m                 \u001b[0;32mif\u001b[0m \u001b[0mself\u001b[0m\u001b[0;34m.\u001b[0m\u001b[0m_DEBUG\u001b[0m\u001b[0;34m:\u001b[0m\u001b[0;34m\u001b[0m\u001b[0m\n",
      "\u001b[0;32m/Applications/miniconda3/lib/python3.5/urllib/request.py\u001b[0m in \u001b[0;36mopen\u001b[0;34m(self, fullurl, data, timeout)\u001b[0m\n\u001b[1;32m    463\u001b[0m             \u001b[0mreq\u001b[0m \u001b[0;34m=\u001b[0m \u001b[0mmeth\u001b[0m\u001b[0;34m(\u001b[0m\u001b[0mreq\u001b[0m\u001b[0;34m)\u001b[0m\u001b[0;34m\u001b[0m\u001b[0m\n\u001b[1;32m    464\u001b[0m \u001b[0;34m\u001b[0m\u001b[0m\n\u001b[0;32m--> 465\u001b[0;31m         \u001b[0mresponse\u001b[0m \u001b[0;34m=\u001b[0m \u001b[0mself\u001b[0m\u001b[0;34m.\u001b[0m\u001b[0m_open\u001b[0m\u001b[0;34m(\u001b[0m\u001b[0mreq\u001b[0m\u001b[0;34m,\u001b[0m \u001b[0mdata\u001b[0m\u001b[0;34m)\u001b[0m\u001b[0;34m\u001b[0m\u001b[0m\n\u001b[0m\u001b[1;32m    466\u001b[0m \u001b[0;34m\u001b[0m\u001b[0m\n\u001b[1;32m    467\u001b[0m         \u001b[0;31m# post-process response\u001b[0m\u001b[0;34m\u001b[0m\u001b[0;34m\u001b[0m\u001b[0m\n",
      "\u001b[0;32m/Applications/miniconda3/lib/python3.5/urllib/request.py\u001b[0m in \u001b[0;36m_open\u001b[0;34m(self, req, data)\u001b[0m\n\u001b[1;32m    481\u001b[0m         \u001b[0mprotocol\u001b[0m \u001b[0;34m=\u001b[0m \u001b[0mreq\u001b[0m\u001b[0;34m.\u001b[0m\u001b[0mtype\u001b[0m\u001b[0;34m\u001b[0m\u001b[0m\n\u001b[1;32m    482\u001b[0m         result = self._call_chain(self.handle_open, protocol, protocol +\n\u001b[0;32m--> 483\u001b[0;31m                                   '_open', req)\n\u001b[0m\u001b[1;32m    484\u001b[0m         \u001b[0;32mif\u001b[0m \u001b[0mresult\u001b[0m\u001b[0;34m:\u001b[0m\u001b[0;34m\u001b[0m\u001b[0m\n\u001b[1;32m    485\u001b[0m             \u001b[0;32mreturn\u001b[0m \u001b[0mresult\u001b[0m\u001b[0;34m\u001b[0m\u001b[0m\n",
      "\u001b[0;32m/Applications/miniconda3/lib/python3.5/urllib/request.py\u001b[0m in \u001b[0;36m_call_chain\u001b[0;34m(self, chain, kind, meth_name, *args)\u001b[0m\n\u001b[1;32m    441\u001b[0m         \u001b[0;32mfor\u001b[0m \u001b[0mhandler\u001b[0m \u001b[0;32min\u001b[0m \u001b[0mhandlers\u001b[0m\u001b[0;34m:\u001b[0m\u001b[0;34m\u001b[0m\u001b[0m\n\u001b[1;32m    442\u001b[0m             \u001b[0mfunc\u001b[0m \u001b[0;34m=\u001b[0m \u001b[0mgetattr\u001b[0m\u001b[0;34m(\u001b[0m\u001b[0mhandler\u001b[0m\u001b[0;34m,\u001b[0m \u001b[0mmeth_name\u001b[0m\u001b[0;34m)\u001b[0m\u001b[0;34m\u001b[0m\u001b[0m\n\u001b[0;32m--> 443\u001b[0;31m             \u001b[0mresult\u001b[0m \u001b[0;34m=\u001b[0m \u001b[0mfunc\u001b[0m\u001b[0;34m(\u001b[0m\u001b[0;34m*\u001b[0m\u001b[0margs\u001b[0m\u001b[0;34m)\u001b[0m\u001b[0;34m\u001b[0m\u001b[0m\n\u001b[0m\u001b[1;32m    444\u001b[0m             \u001b[0;32mif\u001b[0m \u001b[0mresult\u001b[0m \u001b[0;32mis\u001b[0m \u001b[0;32mnot\u001b[0m \u001b[0;32mNone\u001b[0m\u001b[0;34m:\u001b[0m\u001b[0;34m\u001b[0m\u001b[0m\n\u001b[1;32m    445\u001b[0m                 \u001b[0;32mreturn\u001b[0m \u001b[0mresult\u001b[0m\u001b[0;34m\u001b[0m\u001b[0m\n",
      "\u001b[0;32m/Applications/miniconda3/lib/python3.5/urllib/request.py\u001b[0m in \u001b[0;36mhttp_open\u001b[0;34m(self, req)\u001b[0m\n\u001b[1;32m   1266\u001b[0m \u001b[0;34m\u001b[0m\u001b[0m\n\u001b[1;32m   1267\u001b[0m     \u001b[0;32mdef\u001b[0m \u001b[0mhttp_open\u001b[0m\u001b[0;34m(\u001b[0m\u001b[0mself\u001b[0m\u001b[0;34m,\u001b[0m \u001b[0mreq\u001b[0m\u001b[0;34m)\u001b[0m\u001b[0;34m:\u001b[0m\u001b[0;34m\u001b[0m\u001b[0m\n\u001b[0;32m-> 1268\u001b[0;31m         \u001b[0;32mreturn\u001b[0m \u001b[0mself\u001b[0m\u001b[0;34m.\u001b[0m\u001b[0mdo_open\u001b[0m\u001b[0;34m(\u001b[0m\u001b[0mhttp\u001b[0m\u001b[0;34m.\u001b[0m\u001b[0mclient\u001b[0m\u001b[0;34m.\u001b[0m\u001b[0mHTTPConnection\u001b[0m\u001b[0;34m,\u001b[0m \u001b[0mreq\u001b[0m\u001b[0;34m)\u001b[0m\u001b[0;34m\u001b[0m\u001b[0m\n\u001b[0m\u001b[1;32m   1269\u001b[0m \u001b[0;34m\u001b[0m\u001b[0m\n\u001b[1;32m   1270\u001b[0m     \u001b[0mhttp_request\u001b[0m \u001b[0;34m=\u001b[0m \u001b[0mAbstractHTTPHandler\u001b[0m\u001b[0;34m.\u001b[0m\u001b[0mdo_request_\u001b[0m\u001b[0;34m\u001b[0m\u001b[0m\n",
      "\u001b[0;32m/Applications/miniconda3/lib/python3.5/urllib/request.py\u001b[0m in \u001b[0;36mdo_open\u001b[0;34m(self, http_class, req, **http_conn_args)\u001b[0m\n\u001b[1;32m   1240\u001b[0m                 \u001b[0mh\u001b[0m\u001b[0;34m.\u001b[0m\u001b[0mrequest\u001b[0m\u001b[0;34m(\u001b[0m\u001b[0mreq\u001b[0m\u001b[0;34m.\u001b[0m\u001b[0mget_method\u001b[0m\u001b[0;34m(\u001b[0m\u001b[0;34m)\u001b[0m\u001b[0;34m,\u001b[0m \u001b[0mreq\u001b[0m\u001b[0;34m.\u001b[0m\u001b[0mselector\u001b[0m\u001b[0;34m,\u001b[0m \u001b[0mreq\u001b[0m\u001b[0;34m.\u001b[0m\u001b[0mdata\u001b[0m\u001b[0;34m,\u001b[0m \u001b[0mheaders\u001b[0m\u001b[0;34m)\u001b[0m\u001b[0;34m\u001b[0m\u001b[0m\n\u001b[1;32m   1241\u001b[0m             \u001b[0;32mexcept\u001b[0m \u001b[0mOSError\u001b[0m \u001b[0;32mas\u001b[0m \u001b[0merr\u001b[0m\u001b[0;34m:\u001b[0m \u001b[0;31m# timeout error\u001b[0m\u001b[0;34m\u001b[0m\u001b[0m\n\u001b[0;32m-> 1242\u001b[0;31m                 \u001b[0;32mraise\u001b[0m \u001b[0mURLError\u001b[0m\u001b[0;34m(\u001b[0m\u001b[0merr\u001b[0m\u001b[0;34m)\u001b[0m\u001b[0;34m\u001b[0m\u001b[0m\n\u001b[0m\u001b[1;32m   1243\u001b[0m             \u001b[0mr\u001b[0m \u001b[0;34m=\u001b[0m \u001b[0mh\u001b[0m\u001b[0;34m.\u001b[0m\u001b[0mgetresponse\u001b[0m\u001b[0;34m(\u001b[0m\u001b[0;34m)\u001b[0m\u001b[0;34m\u001b[0m\u001b[0m\n\u001b[1;32m   1244\u001b[0m         \u001b[0;32mexcept\u001b[0m\u001b[0;34m:\u001b[0m\u001b[0;34m\u001b[0m\u001b[0m\n",
      "\u001b[0;31mURLError\u001b[0m: <urlopen error [Errno 8] nodename nor servname provided, or not known>"
     ]
    }
   ],
   "source": [
    "import goslate\n",
    "\n",
    "gs = goslate.Goslate()\n",
    "\n",
    "translation_iter = gs.translate(data['ShipType'][data['Nationality']=='Spanish'].astype(str).map(lambda x: x.lower()),'es')\n",
    "translation = list(translation_iter)"
   ]
  },
  {
   "cell_type": "code",
   "execution_count": null,
   "metadata": {
    "collapsed": false
   },
   "outputs": [],
   "source": [
    "translation"
   ]
  },
  {
   "cell_type": "code",
   "execution_count": null,
   "metadata": {
    "collapsed": true
   },
   "outputs": [],
   "source": []
  }
 ],
 "metadata": {
  "kernelspec": {
   "display_name": "Python 3",
   "language": "python",
   "name": "python3"
  },
  "language_info": {
   "codemirror_mode": {
    "name": "ipython",
    "version": 3
   },
   "file_extension": ".py",
   "mimetype": "text/x-python",
   "name": "python",
   "nbconvert_exporter": "python",
   "pygments_lexer": "ipython3",
   "version": "3.5.1"
  }
 },
 "nbformat": 4,
 "nbformat_minor": 0
}
