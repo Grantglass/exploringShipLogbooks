{
 "cells": [
  {
   "cell_type": "code",
   "execution_count": 1,
   "metadata": {
    "collapsed": false
   },
   "outputs": [],
   "source": [
    "import pandas as pd\n",
    "import word_count as wc"
   ]
  },
  {
   "cell_type": "code",
   "execution_count": 2,
   "metadata": {
    "collapsed": false
   },
   "outputs": [
    {
     "name": "stderr",
     "output_type": "stream",
     "text": [
      "C:\\Users\\Emma\\Anaconda3\\lib\\site-packages\\IPython\\core\\interactiveshell.py:2902: DtypeWarning: Columns (5,6,7,8,11,13,18,19,23,24,25,26,28,29,30,34,35,38,43,44,46,73,77,81,82,84,85,87,88,94,96,97,98,99,111,114,116,119,120,122,124,125,127,129,131,133,135,137,140) have mixed types. Specify dtype option on import or set low_memory=False.\n",
      "  interactivity=interactivity, compiler=compiler, result=result)\n"
     ]
    }
   ],
   "source": [
    "# load data\n",
    "file = '../data/CLIWOC15.csv'\n",
    "data = pd.read_csv(file)\n",
    "data = data[:1000]"
   ]
  },
  {
   "cell_type": "code",
   "execution_count": 3,
   "metadata": {
    "collapsed": false,
    "scrolled": true
   },
   "outputs": [
    {
     "data": {
      "text/html": [
       "<div>\n",
       "<table border=\"1\" class=\"dataframe\">\n",
       "  <thead>\n",
       "    <tr style=\"text-align: right;\">\n",
       "      <th></th>\n",
       "      <th>ShipID</th>\n",
       "      <th>LogMentions</th>\n",
       "    </tr>\n",
       "  </thead>\n",
       "  <tbody>\n",
       "    <tr>\n",
       "      <th>0</th>\n",
       "      <td>LA ORBE ISLA DE ALBIMOR EN LAS GALAPAGOS PACOCHA</td>\n",
       "      <td>0</td>\n",
       "    </tr>\n",
       "    <tr>\n",
       "      <th>1</th>\n",
       "      <td>SAN CARLOS DESCONOCIDO (CREO QUE ACAPULCO) SAN...</td>\n",
       "      <td>0</td>\n",
       "    </tr>\n",
       "    <tr>\n",
       "      <th>2</th>\n",
       "      <td>SANTA PERPETUA EL FERROL RIO DE LA PLATA</td>\n",
       "      <td>0</td>\n",
       "    </tr>\n",
       "    <tr>\n",
       "      <th>3</th>\n",
       "      <td>SANTA PERPETUA MONTEVIDEO DE LA SOLEDAD (MALVI...</td>\n",
       "      <td>0</td>\n",
       "    </tr>\n",
       "    <tr>\n",
       "      <th>4</th>\n",
       "      <td>SANTA PERPETUA DE LA SOLEDAD (MALVINAS) RIO DE...</td>\n",
       "      <td>0</td>\n",
       "    </tr>\n",
       "    <tr>\n",
       "      <th>5</th>\n",
       "      <td>LA LIEBRE CADIZ EL CALLAO</td>\n",
       "      <td>0</td>\n",
       "    </tr>\n",
       "    <tr>\n",
       "      <th>6</th>\n",
       "      <td>LA ATREVIDA TALCAHUANO VALPARAISO</td>\n",
       "      <td>0</td>\n",
       "    </tr>\n",
       "    <tr>\n",
       "      <th>7</th>\n",
       "      <td>SANTA PERPETUA MONTEVIDEO SANTA CATALINA</td>\n",
       "      <td>0</td>\n",
       "    </tr>\n",
       "    <tr>\n",
       "      <th>8</th>\n",
       "      <td>LA ATREVIDA MORAO DE COPIAPO EL CALLAO</td>\n",
       "      <td>0</td>\n",
       "    </tr>\n",
       "    <tr>\n",
       "      <th>9</th>\n",
       "      <td>LA ATREVIDA DESCONOCIDO (MARES DE NICARAGUA) A...</td>\n",
       "      <td>0</td>\n",
       "    </tr>\n",
       "    <tr>\n",
       "      <th>10</th>\n",
       "      <td>DESCONOCIDO-04 MONTEVIDEO CADIZ</td>\n",
       "      <td>0</td>\n",
       "    </tr>\n",
       "    <tr>\n",
       "      <th>11</th>\n",
       "      <td>SANTA EULALIA CADIZ CADIZ</td>\n",
       "      <td>0</td>\n",
       "    </tr>\n",
       "    <tr>\n",
       "      <th>12</th>\n",
       "      <td>SAN PIO BUENOS AIRES ISLA DE LOS ESTADOS</td>\n",
       "      <td>0</td>\n",
       "    </tr>\n",
       "    <tr>\n",
       "      <th>13</th>\n",
       "      <td>SANTISIMO SACRAMENTO LISBOA RIO DE JANEIRO</td>\n",
       "      <td>0</td>\n",
       "    </tr>\n",
       "    <tr>\n",
       "      <th>14</th>\n",
       "      <td>EL PINZON LA CORUÑA LA HABANA</td>\n",
       "      <td>0</td>\n",
       "    </tr>\n",
       "    <tr>\n",
       "      <th>15</th>\n",
       "      <td>EL CUERVO LA CORUÑA LA HABANA</td>\n",
       "      <td>0</td>\n",
       "    </tr>\n",
       "    <tr>\n",
       "      <th>16</th>\n",
       "      <td>EL CUERVO LA HABANA LA CORUÑA</td>\n",
       "      <td>0</td>\n",
       "    </tr>\n",
       "    <tr>\n",
       "      <th>17</th>\n",
       "      <td>Na Sa DE LA PIEDAD RIO DE JANEIRO RIO DE LA PLATA</td>\n",
       "      <td>0</td>\n",
       "    </tr>\n",
       "    <tr>\n",
       "      <th>18</th>\n",
       "      <td>LA INFANTA LA CORUÑA LA HABANA</td>\n",
       "      <td>0</td>\n",
       "    </tr>\n",
       "    <tr>\n",
       "      <th>19</th>\n",
       "      <td>LA DIANA LA HABANA LA CORUÑA</td>\n",
       "      <td>0</td>\n",
       "    </tr>\n",
       "  </tbody>\n",
       "</table>\n",
       "</div>"
      ],
      "text/plain": [
       "                                               ShipID  LogMentions\n",
       "0    LA ORBE ISLA DE ALBIMOR EN LAS GALAPAGOS PACOCHA            0\n",
       "1   SAN CARLOS DESCONOCIDO (CREO QUE ACAPULCO) SAN...            0\n",
       "2            SANTA PERPETUA EL FERROL RIO DE LA PLATA            0\n",
       "3   SANTA PERPETUA MONTEVIDEO DE LA SOLEDAD (MALVI...            0\n",
       "4   SANTA PERPETUA DE LA SOLEDAD (MALVINAS) RIO DE...            0\n",
       "5                           LA LIEBRE CADIZ EL CALLAO            0\n",
       "6                   LA ATREVIDA TALCAHUANO VALPARAISO            0\n",
       "7            SANTA PERPETUA MONTEVIDEO SANTA CATALINA            0\n",
       "8              LA ATREVIDA MORAO DE COPIAPO EL CALLAO            0\n",
       "9   LA ATREVIDA DESCONOCIDO (MARES DE NICARAGUA) A...            0\n",
       "10                    DESCONOCIDO-04 MONTEVIDEO CADIZ            0\n",
       "11                          SANTA EULALIA CADIZ CADIZ            0\n",
       "12           SAN PIO BUENOS AIRES ISLA DE LOS ESTADOS            0\n",
       "13         SANTISIMO SACRAMENTO LISBOA RIO DE JANEIRO            0\n",
       "14                      EL PINZON LA CORUÑA LA HABANA            0\n",
       "15                      EL CUERVO LA CORUÑA LA HABANA            0\n",
       "16                      EL CUERVO LA HABANA LA CORUÑA            0\n",
       "17  Na Sa DE LA PIEDAD RIO DE JANEIRO RIO DE LA PLATA            0\n",
       "18                     LA INFANTA LA CORUÑA LA HABANA            0\n",
       "19                       LA DIANA LA HABANA LA CORUÑA            0"
      ]
     },
     "execution_count": 3,
     "metadata": {},
     "output_type": "execute_result"
    }
   ],
   "source": [
    "# find the number of mentions of slave related words in the columns 'CargoMemo',\n",
    "# 'LifeOnBoardMemo' and 'OtherRem'\n",
    "\n",
    "columns = ['CargoMemo', 'LifeOnBoardMemo', 'OtherRem']\n",
    "key_words = ['slave',  'slaves', 'slaaf', 'slaven', 'meisjesslaaf', 'manslaaf', 'manslaven', \n",
    "             'slavenjong','jongensslaaf', 'meidslaaf', 'servant',\n",
    "             'slavenmeid', 'vrouwslaaf', 'vrouwslaven', 'slavenhandel', 'slaaf',\n",
    "             'esclavo', 'esclavos', 'esclave', 'esclaves']\n",
    "\n",
    "wc.slave_mentions_by_voyage(data,columns,key_words)"
   ]
  }
 ],
 "metadata": {
  "kernelspec": {
   "display_name": "Python 3",
   "language": "python",
   "name": "python3"
  },
  "language_info": {
   "codemirror_mode": {
    "name": "ipython",
    "version": 3
   },
   "file_extension": ".py",
   "mimetype": "text/x-python",
   "name": "python",
   "nbconvert_exporter": "python",
   "pygments_lexer": "ipython3",
   "version": "3.5.1"
  }
 },
 "nbformat": 4,
 "nbformat_minor": 0
}
