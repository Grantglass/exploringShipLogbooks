{
 "cells": [
  {
   "cell_type": "code",
   "execution_count": 3,
   "metadata": {
    "collapsed": false
   },
   "outputs": [],
   "source": [
    "import pandas as pd\n",
    "import word_count as wc"
   ]
  },
  {
   "cell_type": "code",
   "execution_count": 45,
   "metadata": {
    "collapsed": false
   },
   "outputs": [
    {
     "name": "stderr",
     "output_type": "stream",
     "text": [
      "C:\\Users\\Emma\\Anaconda3\\lib\\site-packages\\IPython\\core\\interactiveshell.py:2902: DtypeWarning: Columns (5,6,7,8,11,13,18,19,23,24,25,26,28,29,30,34,35,38,43,44,46,73,77,81,82,84,85,87,88,94,96,97,98,99,111,114,116,119,120,122,124,125,127,129,131,133,135,137,140) have mixed types. Specify dtype option on import or set low_memory=False.\n",
      "  interactivity=interactivity, compiler=compiler, result=result)\n"
     ]
    }
   ],
   "source": [
    "# load data\n",
    "file = '../data/CLIWOC15.csv'\n",
    "data = pd.read_csv(file)\n",
    "data = data[:100] # use furst 100 rows for testing"
   ]
  },
  {
   "cell_type": "code",
   "execution_count": null,
   "metadata": {
    "collapsed": false
   },
   "outputs": [],
   "source": [
    "# find all instances of the words \"de\" and \"el\" in the\n",
    "# CargoMemo, LifeOnBoardMemo, and OtherRem columns\n",
    "columns = ['CargoMemo', 'LifeOnBoardMemo', 'OtherRem']\n",
    "key_words = ['esclavo','slave']\n",
    "word_count_list, word_count_total = wc.word_count(data, columns, key_words)\n",
    "word_count_pd = wc.count_all_words(data, columns)"
   ]
  },
  {
   "cell_type": "code",
   "execution_count": 48,
   "metadata": {
    "collapsed": false
   },
   "outputs": [
    {
     "name": "stdout",
     "output_type": "stream",
     "text": [
      "All words count:   Word  Count\n",
      "1   LA     33\n",
      "2  QUE     21\n",
      "3    A     19\n",
      "4   EN     17\n",
      "5   DE     14\n",
      "Key words total counts: {'slave': 0, 'esclavo': 0}\n"
     ]
    }
   ],
   "source": [
    "print(word_count_pd.head())\n",
    "print('Key words total counts:', word_count_total)"
   ]
  }
 ],
 "metadata": {
  "kernelspec": {
   "display_name": "Python 3",
   "language": "python",
   "name": "python3"
  },
  "language_info": {
   "codemirror_mode": {
    "name": "ipython",
    "version": 3
   },
   "file_extension": ".py",
   "mimetype": "text/x-python",
   "name": "python",
   "nbconvert_exporter": "python",
   "pygments_lexer": "ipython3",
   "version": "3.5.1"
  }
 },
 "nbformat": 4,
 "nbformat_minor": 0
}
