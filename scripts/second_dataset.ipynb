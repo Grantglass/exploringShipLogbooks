{
 "cells": [
  {
   "cell_type": "markdown",
   "metadata": {},
   "source": [
    "# Second dataset - http://www.slavevoyages.org\n",
    "\n",
    "- http://www.slavevoyages.org/documents/download/Codebook2013_5-3_final.pdf"
   ]
  },
  {
   "cell_type": "markdown",
   "metadata": {},
   "source": [
    "## Import necessary packages"
   ]
  },
  {
   "cell_type": "code",
   "execution_count": 1,
   "metadata": {
    "collapsed": false
   },
   "outputs": [],
   "source": [
    "import exploringShipLogbooks\n",
    "import zipfile\n",
    "\n",
    "import ipywidgets as widgets\n",
    "import matplotlib.pyplot as plt\n",
    "import numpy as np\n",
    "import os.path as op\n",
    "import pandas as pd\n",
    "import exploringShipLogbooks.wordcount as wc\n",
    "\n",
    "from exploringShipLogbooks.basic_utils import clean_data\n",
    "from exploringShipLogbooks.basic_utils import remove_undesired_columns"
   ]
  },
  {
   "cell_type": "markdown",
   "metadata": {},
   "source": [
    "## Import packages related to R"
   ]
  },
  {
   "cell_type": "code",
   "execution_count": 2,
   "metadata": {
    "collapsed": true
   },
   "outputs": [],
   "source": [
    "import rpy2\n",
    "from rpy2.robjects import pandas2ri\n",
    "pandas2ri.activate()"
   ]
  },
  {
   "cell_type": "markdown",
   "metadata": {},
   "source": [
    "## Import data using R"
   ]
  },
  {
   "cell_type": "code",
   "execution_count": 3,
   "metadata": {
    "collapsed": false
   },
   "outputs": [
    {
     "name": "stderr",
     "output_type": "stream",
     "text": [
      "/Applications/miniconda3/lib/python3.5/site-packages/rpy2/robjects/functions.py:106: UserWarning: re-encoding from latin1\n",
      "\n",
      "  res = super(Function, self).__call__(*new_args, **new_kwargs)\n"
     ]
    }
   ],
   "source": [
    "data_path = op.join(exploringShipLogbooks.__path__[0], 'data')\n",
    "filename = data_path + '/tastdb-exp-2010.sav'\n",
    "data = rpy2.robjects.r('foreign::read.spss(\"%s\", to.data.frame=TRUE)' % filename)"
   ]
  },
  {
   "cell_type": "markdown",
   "metadata": {},
   "source": [
    "- save the data loaded from R for use on windows computer"
   ]
  },
  {
   "cell_type": "code",
   "execution_count": 6,
   "metadata": {
    "collapsed": true
   },
   "outputs": [],
   "source": [
    "data.to_pickle(data_path + 'tastdb-exp-2010')"
   ]
  },
  {
   "cell_type": "code",
   "execution_count": 7,
   "metadata": {
    "collapsed": false
   },
   "outputs": [],
   "source": [
    "store = pd.HDFStore(data_path + '/tastdb-exp-2010.h5')\n",
    "store['df'] = data"
   ]
  },
  {
   "cell_type": "markdown",
   "metadata": {},
   "source": [
    "## Import data (h5)\n",
    "\n",
    "- http://stackoverflow.com/questions/17098654/how-to-store-data-frame-using-pandas-python"
   ]
  },
  {
   "cell_type": "code",
   "execution_count": 8,
   "metadata": {
    "collapsed": false
   },
   "outputs": [],
   "source": [
    "store = pd.HDFStore(data_path + '/tastdb-exp-2010.h5')\n",
    "data = store['df']"
   ]
  },
  {
   "cell_type": "code",
   "execution_count": 9,
   "metadata": {
    "collapsed": false
   },
   "outputs": [
    {
     "data": {
      "text/html": [
       "<div>\n",
       "<table border=\"1\" class=\"dataframe\">\n",
       "  <thead>\n",
       "    <tr style=\"text-align: right;\">\n",
       "      <th></th>\n",
       "      <th>voyageid</th>\n",
       "      <th>evgreen</th>\n",
       "      <th>shipname</th>\n",
       "      <th>placcons</th>\n",
       "      <th>constreg</th>\n",
       "      <th>yrcons</th>\n",
       "      <th>placreg</th>\n",
       "      <th>regisreg</th>\n",
       "      <th>yrreg</th>\n",
       "      <th>national</th>\n",
       "      <th>...</th>\n",
       "      <th>adlt2imp</th>\n",
       "      <th>chil2imp</th>\n",
       "      <th>male2imp</th>\n",
       "      <th>feml2imp</th>\n",
       "      <th>filter_.</th>\n",
       "      <th>ncartot</th>\n",
       "      <th>pctemb</th>\n",
       "      <th>slastot</th>\n",
       "      <th>pctdis</th>\n",
       "      <th>datepl</th>\n",
       "    </tr>\n",
       "  </thead>\n",
       "  <tbody>\n",
       "    <tr>\n",
       "      <th>1</th>\n",
       "      <td>1</td>\n",
       "      <td>1</td>\n",
       "      <td>Pastora de Lima                               ...</td>\n",
       "      <td>Alicante</td>\n",
       "      <td>Spain</td>\n",
       "      <td>NaN</td>\n",
       "      <td>Alicante</td>\n",
       "      <td>Spain</td>\n",
       "      <td>NaN</td>\n",
       "      <td>Portugal</td>\n",
       "      <td>...</td>\n",
       "      <td>NaN</td>\n",
       "      <td>NaN</td>\n",
       "      <td>NaN</td>\n",
       "      <td>NaN</td>\n",
       "      <td>Selected</td>\n",
       "      <td>NaN</td>\n",
       "      <td>NaN</td>\n",
       "      <td>NaN</td>\n",
       "      <td>NaN</td>\n",
       "      <td>Invoice date at port of departure</td>\n",
       "    </tr>\n",
       "    <tr>\n",
       "      <th>2</th>\n",
       "      <td>2</td>\n",
       "      <td>1</td>\n",
       "      <td>Tibério                                       ...</td>\n",
       "      <td>Alicante</td>\n",
       "      <td>Spain</td>\n",
       "      <td>NaN</td>\n",
       "      <td>Alicante</td>\n",
       "      <td>Spain</td>\n",
       "      <td>NaN</td>\n",
       "      <td>Spain</td>\n",
       "      <td>...</td>\n",
       "      <td>NaN</td>\n",
       "      <td>NaN</td>\n",
       "      <td>NaN</td>\n",
       "      <td>NaN</td>\n",
       "      <td>Not Selected</td>\n",
       "      <td>NaN</td>\n",
       "      <td>NaN</td>\n",
       "      <td>NaN</td>\n",
       "      <td>NaN</td>\n",
       "      <td>Invoice date at port of departure</td>\n",
       "    </tr>\n",
       "    <tr>\n",
       "      <th>3</th>\n",
       "      <td>3</td>\n",
       "      <td>1</td>\n",
       "      <td>Paquete Real                                  ...</td>\n",
       "      <td>Alicante</td>\n",
       "      <td>Spain</td>\n",
       "      <td>NaN</td>\n",
       "      <td>Alicante</td>\n",
       "      <td>Spain</td>\n",
       "      <td>NaN</td>\n",
       "      <td>Spain</td>\n",
       "      <td>...</td>\n",
       "      <td>NaN</td>\n",
       "      <td>NaN</td>\n",
       "      <td>NaN</td>\n",
       "      <td>NaN</td>\n",
       "      <td>Selected</td>\n",
       "      <td>NaN</td>\n",
       "      <td>NaN</td>\n",
       "      <td>NaN</td>\n",
       "      <td>NaN</td>\n",
       "      <td>Guia de despacho (added)</td>\n",
       "    </tr>\n",
       "    <tr>\n",
       "      <th>4</th>\n",
       "      <td>4</td>\n",
       "      <td>1</td>\n",
       "      <td>Bom Caminho                                   ...</td>\n",
       "      <td>Alicante</td>\n",
       "      <td>Spain</td>\n",
       "      <td>NaN</td>\n",
       "      <td>Alicante</td>\n",
       "      <td>Spain</td>\n",
       "      <td>NaN</td>\n",
       "      <td>Spain</td>\n",
       "      <td>...</td>\n",
       "      <td>NaN</td>\n",
       "      <td>NaN</td>\n",
       "      <td>NaN</td>\n",
       "      <td>NaN</td>\n",
       "      <td>Selected</td>\n",
       "      <td>NaN</td>\n",
       "      <td>NaN</td>\n",
       "      <td>NaN</td>\n",
       "      <td>NaN</td>\n",
       "      <td>Invoice date at port of departure</td>\n",
       "    </tr>\n",
       "    <tr>\n",
       "      <th>5</th>\n",
       "      <td>5</td>\n",
       "      <td>1</td>\n",
       "      <td>Benigretta                                    ...</td>\n",
       "      <td>Alicante</td>\n",
       "      <td>Spain</td>\n",
       "      <td>NaN</td>\n",
       "      <td>Alicante</td>\n",
       "      <td>Spain</td>\n",
       "      <td>NaN</td>\n",
       "      <td>Spain</td>\n",
       "      <td>...</td>\n",
       "      <td>NaN</td>\n",
       "      <td>NaN</td>\n",
       "      <td>NaN</td>\n",
       "      <td>NaN</td>\n",
       "      <td>Not Selected</td>\n",
       "      <td>NaN</td>\n",
       "      <td>NaN</td>\n",
       "      <td>NaN</td>\n",
       "      <td>NaN</td>\n",
       "      <td>Invoice date at port of departure</td>\n",
       "    </tr>\n",
       "  </tbody>\n",
       "</table>\n",
       "<p>5 rows × 279 columns</p>\n",
       "</div>"
      ],
      "text/plain": [
       "   voyageid  evgreen                                           shipname  \\\n",
       "1         1        1  Pastora de Lima                               ...   \n",
       "2         2        1  Tibério                                       ...   \n",
       "3         3        1  Paquete Real                                  ...   \n",
       "4         4        1  Bom Caminho                                   ...   \n",
       "5         5        1  Benigretta                                    ...   \n",
       "\n",
       "   placcons constreg  yrcons   placreg regisreg  yrreg  national  \\\n",
       "1  Alicante    Spain     NaN  Alicante    Spain    NaN  Portugal   \n",
       "2  Alicante    Spain     NaN  Alicante    Spain    NaN     Spain   \n",
       "3  Alicante    Spain     NaN  Alicante    Spain    NaN     Spain   \n",
       "4  Alicante    Spain     NaN  Alicante    Spain    NaN     Spain   \n",
       "5  Alicante    Spain     NaN  Alicante    Spain    NaN     Spain   \n",
       "\n",
       "                 ...                 adlt2imp  chil2imp male2imp  feml2imp  \\\n",
       "1                ...                      NaN       NaN      NaN       NaN   \n",
       "2                ...                      NaN       NaN      NaN       NaN   \n",
       "3                ...                      NaN       NaN      NaN       NaN   \n",
       "4                ...                      NaN       NaN      NaN       NaN   \n",
       "5                ...                      NaN       NaN      NaN       NaN   \n",
       "\n",
       "       filter_. ncartot pctemb slastot pctdis  \\\n",
       "1      Selected     NaN    NaN     NaN    NaN   \n",
       "2  Not Selected     NaN    NaN     NaN    NaN   \n",
       "3      Selected     NaN    NaN     NaN    NaN   \n",
       "4      Selected     NaN    NaN     NaN    NaN   \n",
       "5  Not Selected     NaN    NaN     NaN    NaN   \n",
       "\n",
       "                              datepl  \n",
       "1  Invoice date at port of departure  \n",
       "2  Invoice date at port of departure  \n",
       "3           Guia de despacho (added)  \n",
       "4  Invoice date at port of departure  \n",
       "5  Invoice date at port of departure  \n",
       "\n",
       "[5 rows x 279 columns]"
      ]
     },
     "execution_count": 9,
     "metadata": {},
     "output_type": "execute_result"
    }
   ],
   "source": [
    "data.head()"
   ]
  },
  {
   "cell_type": "code",
   "execution_count": 10,
   "metadata": {
    "collapsed": false
   },
   "outputs": [
    {
     "data": {
      "text/plain": [
       "array(['voyageid', 'evgreen', 'shipname', 'placcons', 'constreg', 'yrcons',\n",
       "       'placreg', 'regisreg', 'yrreg', 'national', 'rig', 'tonnage',\n",
       "       'tontype', 'guns', 'ownera', 'ownerb', 'ownerc', 'ownerd', 'ownere',\n",
       "       'ownerf', 'ownerg', 'ownerh', 'owneri', 'ownerj', 'ownerk',\n",
       "       'ownerl', 'ownerm', 'ownern', 'ownero', 'ownerp', 'natinimp',\n",
       "       'tonmod', 'fate', 'resistance', 'fate2', 'fate3', 'fate4',\n",
       "       'embport', 'embreg', 'embport2', 'embreg2', 'arrport', 'regarr',\n",
       "       'arrport2', 'regarr2', 'portdep', 'nppretra', 'plac1tra', 'regem1',\n",
       "       'plac2tra', 'regem2', 'plac3tra', 'regem3', 'majbuypt', 'npafttra',\n",
       "       'npprior', 'sla1port', 'regdis1', 'adpsale1', 'regdis2', 'adpsale2',\n",
       "       'regdis3', 'majselpt', 'portret', 'retrnreg', 'retrnreg1',\n",
       "       'ptdepimp', 'deptregimp', 'deptregimp1', 'mjbyptimp', 'majbyimp',\n",
       "       'majbyimp1', 'mjslptimp', 'mjselimp', 'mjselimp1', 'datedepa',\n",
       "       'datedepb', 'datedepc', 'd1slatra', 'd1slatrb', 'd1slatrc',\n",
       "       'dlslatra', 'dlslatrb', 'dlslatrc', 'datarr32', 'datarr33',\n",
       "       'datarr34', 'datarr36', 'datarr37', 'datarr38', 'datarr39',\n",
       "       'datarr40', 'datarr41', 'ddepam', 'ddepamb', 'ddepamc', 'datarr43',\n",
       "       'datarr44', 'datarr45', 'Date_dep', 'Date_buy', 'Date_leftAfr',\n",
       "       'Date_land1', 'Date_land2', 'Date_land3', 'Date_depam', 'Date_end',\n",
       "       'voyage', 'yeardep', 'yearaf', 'yearam', 'year5', 'year10',\n",
       "       'year25', 'year100', 'voy1imp', 'voy2imp', 'captaina', 'captainb',\n",
       "       'captainc', 'crew1', 'crew2', 'crew3', 'crew4', 'crew5', 'crew',\n",
       "       'saild1', 'saild2', 'saild3', 'saild4', 'saild5', 'crewdied',\n",
       "       'ndesert', 'slintend', 'slinten2', 'ncar13', 'ncar15', 'ncar17',\n",
       "       'tslavesp', 'tslavesd', 'sladafri', 'sladvoy', 'slaarriv', 'slas32',\n",
       "       'slas36', 'slas39', 'sladamer', 'xmimpflag', 'slaximp', 'slamimp',\n",
       "       'men1', 'women1', 'boy1', 'girl1', 'male1', 'female1', 'adult1',\n",
       "       'child1', 'infant1', 'men4', 'women4', 'boy4', 'girl4', 'male4',\n",
       "       'female4', 'adult4', 'child4', 'infant4', 'men5', 'women5', 'boy5',\n",
       "       'girl5', 'male5', 'female5', 'adult5', 'child5', 'infant5', 'men2',\n",
       "       'women2', 'boy2', 'girl2', 'male2', 'female2', 'adult2', 'child2',\n",
       "       'infant2', 'men3', 'women3', 'boy3', 'girl3', 'male3', 'female3',\n",
       "       'adult3', 'child3', 'infant3', 'men6', 'women6', 'boy6', 'girl6',\n",
       "       'male6', 'female6', 'adult6', 'child6', 'infant6', 'tslmtimp',\n",
       "       'vymrtimp', 'vymrtrat', 'jamcaspr', 'sourcea', 'sourceb', 'sourcec',\n",
       "       'sourced', 'sourcee', 'sourcef', 'sourceg', 'sourceh', 'sourcei',\n",
       "       'sourcej', 'sourcek', 'sourcel', 'sourcem', 'sourcen', 'sourceo',\n",
       "       'sourcep', 'sourceq', 'sourcer', 'adlt1imp', 'chil1imp', 'male1imp',\n",
       "       'feml1imp', 'slavema1', 'slavemx1', 'slavmax1', 'chilrat1',\n",
       "       'malrat1', 'menrat1', 'womrat1', 'boyrat1', 'girlrat1', 'adlt3imp',\n",
       "       'chil3imp', 'male3imp', 'feml3imp', 'slavema3', 'slavemx3',\n",
       "       'slavmax3', 'chilrat3', 'malrat3', 'menrat3', 'womrat3', 'boyrat3',\n",
       "       'girlrat3', 'slavema7', 'slavemx7', 'slavmax7', 'men7', 'women7',\n",
       "       'boy7', 'girl7', 'adult7', 'child7', 'male7', 'female7', 'menrat7',\n",
       "       'womrat7', 'boyrat7', 'girlrat7', 'malrat7', 'chilrat7', 'adlt2imp',\n",
       "       'chil2imp', 'male2imp', 'feml2imp', 'filter_.', 'ncartot', 'pctemb',\n",
       "       'slastot', 'pctdis', 'datepl'], dtype=object)"
      ]
     },
     "execution_count": 10,
     "metadata": {},
     "output_type": "execute_result"
    }
   ],
   "source": [
    "data.columns.values"
   ]
  },
  {
   "cell_type": "code",
   "execution_count": 11,
   "metadata": {
    "collapsed": false
   },
   "outputs": [],
   "source": [
    "desired_columns=['portdep', 'portret', 'shipname', 'rig', 'national', 'yeardep']\n",
    "undesired_columns = remove_undesired_columns(data, desired_columns)\n",
    "data = data.drop(undesired_columns, axis=1)\n",
    "\n",
    "data.columns = ['ShipName', 'Nationality', 'ShipType', 'VoyageFrom', 'VoyageTo', 'Year']\n",
    "     \n",
    "logbook_data = clean_data(data)"
   ]
  },
  {
   "cell_type": "code",
   "execution_count": 12,
   "metadata": {
    "collapsed": false
   },
   "outputs": [
    {
     "data": {
      "text/html": [
       "<div>\n",
       "<table border=\"1\" class=\"dataframe\">\n",
       "  <thead>\n",
       "    <tr style=\"text-align: right;\">\n",
       "      <th></th>\n",
       "      <th>ShipName</th>\n",
       "      <th>Nationality</th>\n",
       "      <th>ShipType</th>\n",
       "      <th>VoyageFrom</th>\n",
       "      <th>VoyageTo</th>\n",
       "      <th>Year</th>\n",
       "    </tr>\n",
       "  </thead>\n",
       "  <tbody>\n",
       "    <tr>\n",
       "      <th>1</th>\n",
       "      <td>pastora de lima</td>\n",
       "      <td>portugal</td>\n",
       "      <td>bergantim</td>\n",
       "      <td>rio de janeiro</td>\n",
       "      <td>alicante</td>\n",
       "      <td>1816</td>\n",
       "    </tr>\n",
       "    <tr>\n",
       "      <th>2</th>\n",
       "      <td>tibério</td>\n",
       "      <td>spain</td>\n",
       "      <td>bergantim</td>\n",
       "      <td>bahia, port unspecified</td>\n",
       "      <td>alicante</td>\n",
       "      <td>1816</td>\n",
       "    </tr>\n",
       "    <tr>\n",
       "      <th>3</th>\n",
       "      <td>paquete real</td>\n",
       "      <td>spain</td>\n",
       "      <td>bergantim</td>\n",
       "      <td>bahia, port unspecified</td>\n",
       "      <td>alicante</td>\n",
       "      <td>1816</td>\n",
       "    </tr>\n",
       "    <tr>\n",
       "      <th>4</th>\n",
       "      <td>bom caminho</td>\n",
       "      <td>spain</td>\n",
       "      <td>bergantim</td>\n",
       "      <td>bahia, port unspecified</td>\n",
       "      <td>alicante</td>\n",
       "      <td>1816</td>\n",
       "    </tr>\n",
       "    <tr>\n",
       "      <th>5</th>\n",
       "      <td>benigretta</td>\n",
       "      <td>spain</td>\n",
       "      <td>galera</td>\n",
       "      <td>alicante</td>\n",
       "      <td>alicante</td>\n",
       "      <td>1817</td>\n",
       "    </tr>\n",
       "  </tbody>\n",
       "</table>\n",
       "</div>"
      ],
      "text/plain": [
       "          ShipName Nationality   ShipType               VoyageFrom  VoyageTo  \\\n",
       "1  pastora de lima    portugal  bergantim           rio de janeiro  alicante   \n",
       "2          tibério       spain  bergantim  bahia, port unspecified  alicante   \n",
       "3     paquete real       spain  bergantim  bahia, port unspecified  alicante   \n",
       "4      bom caminho       spain  bergantim  bahia, port unspecified  alicante   \n",
       "5       benigretta       spain     galera                 alicante  alicante   \n",
       "\n",
       "   Year  \n",
       "1  1816  \n",
       "2  1816  \n",
       "3  1816  \n",
       "4  1816  \n",
       "5  1817  "
      ]
     },
     "execution_count": 12,
     "metadata": {},
     "output_type": "execute_result"
    }
   ],
   "source": [
    "logbook_data.head()"
   ]
  },
  {
   "cell_type": "markdown",
   "metadata": {},
   "source": [
    "# One hot encoding"
   ]
  },
  {
   "cell_type": "code",
   "execution_count": 13,
   "metadata": {
    "collapsed": true
   },
   "outputs": [],
   "source": [
    "from exploringShipLogbooks.basic_utils import encode_data_df"
   ]
  },
  {
   "cell_type": "code",
   "execution_count": 16,
   "metadata": {
    "collapsed": false
   },
   "outputs": [],
   "source": [
    "encoded_data_df = encode_data_df(logbook_data, 'Naive Bayes')"
   ]
  },
  {
   "cell_type": "code",
   "execution_count": 18,
   "metadata": {
    "collapsed": false
   },
   "outputs": [],
   "source": [
    "classification_array = np.array(encoded_data_df)"
   ]
  },
  {
   "cell_type": "code",
   "execution_count": 19,
   "metadata": {
    "collapsed": false
   },
   "outputs": [
    {
     "data": {
      "text/html": [
       "<div>\n",
       "<table border=\"1\" class=\"dataframe\">\n",
       "  <thead>\n",
       "    <tr style=\"text-align: right;\">\n",
       "      <th></th>\n",
       "      <th></th>\n",
       "      <th>'s-graveland</th>\n",
       "      <th>.</th>\n",
       "      <th>aaron frigate</th>\n",
       "      <th>aartshertogin maria christina</th>\n",
       "      <th>abbott devereux</th>\n",
       "      <th>abby</th>\n",
       "      <th>abecerraje</th>\n",
       "      <th>abeille</th>\n",
       "      <th>abencerrage</th>\n",
       "      <th>...</th>\n",
       "      <th>sète</th>\n",
       "      <th>tenerife</th>\n",
       "      <th>texel</th>\n",
       "      <th>vannes</th>\n",
       "      <th>vlissingen</th>\n",
       "      <th>wales</th>\n",
       "      <th>whitehaven</th>\n",
       "      <th>williamsburg</th>\n",
       "      <th>zeeland</th>\n",
       "      <th>Year</th>\n",
       "    </tr>\n",
       "  </thead>\n",
       "  <tbody>\n",
       "    <tr>\n",
       "      <th>0</th>\n",
       "      <td>0</td>\n",
       "      <td>0</td>\n",
       "      <td>0</td>\n",
       "      <td>0</td>\n",
       "      <td>0</td>\n",
       "      <td>0</td>\n",
       "      <td>0</td>\n",
       "      <td>0</td>\n",
       "      <td>0</td>\n",
       "      <td>0</td>\n",
       "      <td>...</td>\n",
       "      <td>0</td>\n",
       "      <td>0</td>\n",
       "      <td>0</td>\n",
       "      <td>0</td>\n",
       "      <td>0</td>\n",
       "      <td>0</td>\n",
       "      <td>0</td>\n",
       "      <td>0</td>\n",
       "      <td>0</td>\n",
       "      <td>1816</td>\n",
       "    </tr>\n",
       "    <tr>\n",
       "      <th>1</th>\n",
       "      <td>0</td>\n",
       "      <td>0</td>\n",
       "      <td>0</td>\n",
       "      <td>0</td>\n",
       "      <td>0</td>\n",
       "      <td>0</td>\n",
       "      <td>0</td>\n",
       "      <td>0</td>\n",
       "      <td>0</td>\n",
       "      <td>0</td>\n",
       "      <td>...</td>\n",
       "      <td>0</td>\n",
       "      <td>0</td>\n",
       "      <td>0</td>\n",
       "      <td>0</td>\n",
       "      <td>0</td>\n",
       "      <td>0</td>\n",
       "      <td>0</td>\n",
       "      <td>0</td>\n",
       "      <td>0</td>\n",
       "      <td>1816</td>\n",
       "    </tr>\n",
       "    <tr>\n",
       "      <th>2</th>\n",
       "      <td>0</td>\n",
       "      <td>0</td>\n",
       "      <td>0</td>\n",
       "      <td>0</td>\n",
       "      <td>0</td>\n",
       "      <td>0</td>\n",
       "      <td>0</td>\n",
       "      <td>0</td>\n",
       "      <td>0</td>\n",
       "      <td>0</td>\n",
       "      <td>...</td>\n",
       "      <td>0</td>\n",
       "      <td>0</td>\n",
       "      <td>0</td>\n",
       "      <td>0</td>\n",
       "      <td>0</td>\n",
       "      <td>0</td>\n",
       "      <td>0</td>\n",
       "      <td>0</td>\n",
       "      <td>0</td>\n",
       "      <td>1816</td>\n",
       "    </tr>\n",
       "    <tr>\n",
       "      <th>3</th>\n",
       "      <td>0</td>\n",
       "      <td>0</td>\n",
       "      <td>0</td>\n",
       "      <td>0</td>\n",
       "      <td>0</td>\n",
       "      <td>0</td>\n",
       "      <td>0</td>\n",
       "      <td>0</td>\n",
       "      <td>0</td>\n",
       "      <td>0</td>\n",
       "      <td>...</td>\n",
       "      <td>0</td>\n",
       "      <td>0</td>\n",
       "      <td>0</td>\n",
       "      <td>0</td>\n",
       "      <td>0</td>\n",
       "      <td>0</td>\n",
       "      <td>0</td>\n",
       "      <td>0</td>\n",
       "      <td>0</td>\n",
       "      <td>1816</td>\n",
       "    </tr>\n",
       "    <tr>\n",
       "      <th>4</th>\n",
       "      <td>0</td>\n",
       "      <td>0</td>\n",
       "      <td>0</td>\n",
       "      <td>0</td>\n",
       "      <td>0</td>\n",
       "      <td>0</td>\n",
       "      <td>0</td>\n",
       "      <td>0</td>\n",
       "      <td>0</td>\n",
       "      <td>0</td>\n",
       "      <td>...</td>\n",
       "      <td>0</td>\n",
       "      <td>0</td>\n",
       "      <td>0</td>\n",
       "      <td>0</td>\n",
       "      <td>0</td>\n",
       "      <td>0</td>\n",
       "      <td>0</td>\n",
       "      <td>0</td>\n",
       "      <td>0</td>\n",
       "      <td>1817</td>\n",
       "    </tr>\n",
       "  </tbody>\n",
       "</table>\n",
       "<p>5 rows × 9545 columns</p>\n",
       "</div>"
      ],
      "text/plain": [
       "      's-graveland  .  aaron frigate  aartshertogin maria christina  \\\n",
       "0  0             0  0              0                              0   \n",
       "1  0             0  0              0                              0   \n",
       "2  0             0  0              0                              0   \n",
       "3  0             0  0              0                              0   \n",
       "4  0             0  0              0                              0   \n",
       "\n",
       "   abbott devereux  abby  abecerraje  abeille  abencerrage  ...   sète  \\\n",
       "0                0     0           0        0            0  ...      0   \n",
       "1                0     0           0        0            0  ...      0   \n",
       "2                0     0           0        0            0  ...      0   \n",
       "3                0     0           0        0            0  ...      0   \n",
       "4                0     0           0        0            0  ...      0   \n",
       "\n",
       "   tenerife  texel  vannes  vlissingen  wales  whitehaven  williamsburg  \\\n",
       "0         0      0       0           0      0           0             0   \n",
       "1         0      0       0           0      0           0             0   \n",
       "2         0      0       0           0      0           0             0   \n",
       "3         0      0       0           0      0           0             0   \n",
       "4         0      0       0           0      0           0             0   \n",
       "\n",
       "   zeeland  Year  \n",
       "0        0  1816  \n",
       "1        0  1816  \n",
       "2        0  1816  \n",
       "3        0  1816  \n",
       "4        0  1817  \n",
       "\n",
       "[5 rows x 9545 columns]"
      ]
     },
     "execution_count": 19,
     "metadata": {},
     "output_type": "execute_result"
    }
   ],
   "source": [
    "encoded_data_df.head()"
   ]
  },
  {
   "cell_type": "code",
   "execution_count": null,
   "metadata": {
    "collapsed": true
   },
   "outputs": [],
   "source": []
  }
 ],
 "metadata": {
  "kernelspec": {
   "display_name": "Python 3",
   "language": "python",
   "name": "python3"
  },
  "language_info": {
   "codemirror_mode": {
    "name": "ipython",
    "version": 3
   },
   "file_extension": ".py",
   "mimetype": "text/x-python",
   "name": "python",
   "nbconvert_exporter": "python",
   "pygments_lexer": "ipython3",
   "version": "3.5.1"
  }
 },
 "nbformat": 4,
 "nbformat_minor": 0
}
