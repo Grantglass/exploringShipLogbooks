{
 "cells": [
  {
   "cell_type": "markdown",
   "metadata": {},
   "source": [
    "# Second dataset - http://www.slavevoyages.org\n",
    "\n",
    "- http://www.slavevoyages.org/documents/download/Codebook2013_5-3_final.pdf"
   ]
  },
  {
   "cell_type": "markdown",
   "metadata": {},
   "source": [
    "## Import necessary packages"
   ]
  },
  {
   "cell_type": "code",
   "execution_count": 1,
   "metadata": {
    "collapsed": false
   },
   "outputs": [],
   "source": [
    "import zipfile\n",
    "\n",
    "import ipywidgets as widgets\n",
    "import matplotlib.pyplot as plt\n",
    "import numpy as np\n",
    "import pandas as pd\n",
    "import exploringShipLogbooks.wordCount as wc\n",
    "\n",
    "from exploringShipLogbooks.basic_utils import clean_data\n",
    "from exploringShipLogbooks.basic_utils import remove_undesired_columns"
   ]
  },
  {
   "cell_type": "markdown",
   "metadata": {},
   "source": [
    "## Import packages related to R"
   ]
  },
  {
   "cell_type": "code",
   "execution_count": null,
   "metadata": {
    "collapsed": true
   },
   "outputs": [],
   "source": [
    "import rpy2\n",
    "from rpy2.robjects import pandas2ri\n",
    "pandas2ri.activate()"
   ]
  },
  {
   "cell_type": "markdown",
   "metadata": {},
   "source": [
    "## Import data using R"
   ]
  },
  {
   "cell_type": "code",
   "execution_count": null,
   "metadata": {
    "collapsed": false
   },
   "outputs": [],
   "source": [
    "filename = './exploringShipLogbooks/data/tastdb-exp-2010.sav'\n",
    "data = rpy2.robjects.r('foreign::read.spss(\"%s\", to.data.frame=TRUE)' % filename)"
   ]
  },
  {
   "cell_type": "markdown",
   "metadata": {},
   "source": [
    "- save the data loaded from R for use on windows computer"
   ]
  },
  {
   "cell_type": "code",
   "execution_count": null,
   "metadata": {
    "collapsed": true
   },
   "outputs": [],
   "source": [
    "store = pd.HDFStore('./exploringShipLogbooks/data/tastdb-exp-2010.h5')\n",
    "store['df'] = data"
   ]
  },
  {
   "cell_type": "markdown",
   "metadata": {},
   "source": [
    "## Import data (h5)\n",
    "\n",
    "- http://stackoverflow.com/questions/17098654/how-to-store-data-frame-using-pandas-python"
   ]
  },
  {
   "cell_type": "code",
   "execution_count": 2,
   "metadata": {
    "collapsed": false
   },
   "outputs": [],
   "source": [
    "store = pd.HDFStore('./exploringShipLogbooks/data/tastdb-exp-2010.h5')\n",
    "data = store['df']"
   ]
  },
  {
   "cell_type": "code",
   "execution_count": 4,
   "metadata": {
    "collapsed": false
   },
   "outputs": [
    {
     "data": {
      "text/html": [
       "<div>\n",
       "<table border=\"1\" class=\"dataframe\">\n",
       "  <thead>\n",
       "    <tr style=\"text-align: right;\">\n",
       "      <th></th>\n",
       "      <th>voyageid</th>\n",
       "      <th>evgreen</th>\n",
       "      <th>shipname</th>\n",
       "      <th>placcons</th>\n",
       "      <th>constreg</th>\n",
       "      <th>yrcons</th>\n",
       "      <th>placreg</th>\n",
       "      <th>regisreg</th>\n",
       "      <th>yrreg</th>\n",
       "      <th>national</th>\n",
       "      <th>...</th>\n",
       "      <th>adlt2imp</th>\n",
       "      <th>chil2imp</th>\n",
       "      <th>male2imp</th>\n",
       "      <th>feml2imp</th>\n",
       "      <th>filter_.</th>\n",
       "      <th>ncartot</th>\n",
       "      <th>pctemb</th>\n",
       "      <th>slastot</th>\n",
       "      <th>pctdis</th>\n",
       "      <th>datepl</th>\n",
       "    </tr>\n",
       "  </thead>\n",
       "  <tbody>\n",
       "    <tr>\n",
       "      <th>1</th>\n",
       "      <td>1</td>\n",
       "      <td>1</td>\n",
       "      <td>Pastora de Lima                               ...</td>\n",
       "      <td>Alicante</td>\n",
       "      <td>Spain</td>\n",
       "      <td>NaN</td>\n",
       "      <td>Alicante</td>\n",
       "      <td>Spain</td>\n",
       "      <td>NaN</td>\n",
       "      <td>Portugal</td>\n",
       "      <td>...</td>\n",
       "      <td>NaN</td>\n",
       "      <td>NaN</td>\n",
       "      <td>NaN</td>\n",
       "      <td>NaN</td>\n",
       "      <td>Selected</td>\n",
       "      <td>NaN</td>\n",
       "      <td>NaN</td>\n",
       "      <td>NaN</td>\n",
       "      <td>NaN</td>\n",
       "      <td>Invoice date at port of departure</td>\n",
       "    </tr>\n",
       "    <tr>\n",
       "      <th>2</th>\n",
       "      <td>2</td>\n",
       "      <td>1</td>\n",
       "      <td>Tibério                                       ...</td>\n",
       "      <td>Alicante</td>\n",
       "      <td>Spain</td>\n",
       "      <td>NaN</td>\n",
       "      <td>Alicante</td>\n",
       "      <td>Spain</td>\n",
       "      <td>NaN</td>\n",
       "      <td>Spain</td>\n",
       "      <td>...</td>\n",
       "      <td>NaN</td>\n",
       "      <td>NaN</td>\n",
       "      <td>NaN</td>\n",
       "      <td>NaN</td>\n",
       "      <td>Not Selected</td>\n",
       "      <td>NaN</td>\n",
       "      <td>NaN</td>\n",
       "      <td>NaN</td>\n",
       "      <td>NaN</td>\n",
       "      <td>Invoice date at port of departure</td>\n",
       "    </tr>\n",
       "    <tr>\n",
       "      <th>3</th>\n",
       "      <td>3</td>\n",
       "      <td>1</td>\n",
       "      <td>Paquete Real                                  ...</td>\n",
       "      <td>Alicante</td>\n",
       "      <td>Spain</td>\n",
       "      <td>NaN</td>\n",
       "      <td>Alicante</td>\n",
       "      <td>Spain</td>\n",
       "      <td>NaN</td>\n",
       "      <td>Spain</td>\n",
       "      <td>...</td>\n",
       "      <td>NaN</td>\n",
       "      <td>NaN</td>\n",
       "      <td>NaN</td>\n",
       "      <td>NaN</td>\n",
       "      <td>Selected</td>\n",
       "      <td>NaN</td>\n",
       "      <td>NaN</td>\n",
       "      <td>NaN</td>\n",
       "      <td>NaN</td>\n",
       "      <td>Guia de despacho (added)</td>\n",
       "    </tr>\n",
       "    <tr>\n",
       "      <th>4</th>\n",
       "      <td>4</td>\n",
       "      <td>1</td>\n",
       "      <td>Bom Caminho                                   ...</td>\n",
       "      <td>Alicante</td>\n",
       "      <td>Spain</td>\n",
       "      <td>NaN</td>\n",
       "      <td>Alicante</td>\n",
       "      <td>Spain</td>\n",
       "      <td>NaN</td>\n",
       "      <td>Spain</td>\n",
       "      <td>...</td>\n",
       "      <td>NaN</td>\n",
       "      <td>NaN</td>\n",
       "      <td>NaN</td>\n",
       "      <td>NaN</td>\n",
       "      <td>Selected</td>\n",
       "      <td>NaN</td>\n",
       "      <td>NaN</td>\n",
       "      <td>NaN</td>\n",
       "      <td>NaN</td>\n",
       "      <td>Invoice date at port of departure</td>\n",
       "    </tr>\n",
       "    <tr>\n",
       "      <th>5</th>\n",
       "      <td>5</td>\n",
       "      <td>1</td>\n",
       "      <td>Benigretta                                    ...</td>\n",
       "      <td>Alicante</td>\n",
       "      <td>Spain</td>\n",
       "      <td>NaN</td>\n",
       "      <td>Alicante</td>\n",
       "      <td>Spain</td>\n",
       "      <td>NaN</td>\n",
       "      <td>Spain</td>\n",
       "      <td>...</td>\n",
       "      <td>NaN</td>\n",
       "      <td>NaN</td>\n",
       "      <td>NaN</td>\n",
       "      <td>NaN</td>\n",
       "      <td>Not Selected</td>\n",
       "      <td>NaN</td>\n",
       "      <td>NaN</td>\n",
       "      <td>NaN</td>\n",
       "      <td>NaN</td>\n",
       "      <td>Invoice date at port of departure</td>\n",
       "    </tr>\n",
       "  </tbody>\n",
       "</table>\n",
       "<p>5 rows × 279 columns</p>\n",
       "</div>"
      ],
      "text/plain": [
       "   voyageid  evgreen                                           shipname  \\\n",
       "1         1        1  Pastora de Lima                               ...   \n",
       "2         2        1  Tibério                                       ...   \n",
       "3         3        1  Paquete Real                                  ...   \n",
       "4         4        1  Bom Caminho                                   ...   \n",
       "5         5        1  Benigretta                                    ...   \n",
       "\n",
       "   placcons constreg  yrcons   placreg regisreg  yrreg  national  \\\n",
       "1  Alicante    Spain     NaN  Alicante    Spain    NaN  Portugal   \n",
       "2  Alicante    Spain     NaN  Alicante    Spain    NaN     Spain   \n",
       "3  Alicante    Spain     NaN  Alicante    Spain    NaN     Spain   \n",
       "4  Alicante    Spain     NaN  Alicante    Spain    NaN     Spain   \n",
       "5  Alicante    Spain     NaN  Alicante    Spain    NaN     Spain   \n",
       "\n",
       "                 ...                 adlt2imp  chil2imp male2imp  feml2imp  \\\n",
       "1                ...                      NaN       NaN      NaN       NaN   \n",
       "2                ...                      NaN       NaN      NaN       NaN   \n",
       "3                ...                      NaN       NaN      NaN       NaN   \n",
       "4                ...                      NaN       NaN      NaN       NaN   \n",
       "5                ...                      NaN       NaN      NaN       NaN   \n",
       "\n",
       "       filter_. ncartot pctemb slastot pctdis  \\\n",
       "1      Selected     NaN    NaN     NaN    NaN   \n",
       "2  Not Selected     NaN    NaN     NaN    NaN   \n",
       "3      Selected     NaN    NaN     NaN    NaN   \n",
       "4      Selected     NaN    NaN     NaN    NaN   \n",
       "5  Not Selected     NaN    NaN     NaN    NaN   \n",
       "\n",
       "                              datepl  \n",
       "1  Invoice date at port of departure  \n",
       "2  Invoice date at port of departure  \n",
       "3           Guia de despacho (added)  \n",
       "4  Invoice date at port of departure  \n",
       "5  Invoice date at port of departure  \n",
       "\n",
       "[5 rows x 279 columns]"
      ]
     },
     "execution_count": 4,
     "metadata": {},
     "output_type": "execute_result"
    }
   ],
   "source": [
    "data.head()"
   ]
  },
  {
   "cell_type": "code",
   "execution_count": null,
   "metadata": {
    "collapsed": false
   },
   "outputs": [],
   "source": [
    "data.columns.values"
   ]
  },
  {
   "cell_type": "code",
   "execution_count": 5,
   "metadata": {
    "collapsed": false
   },
   "outputs": [],
   "source": [
    "desired_columns=['portdep', 'portret', 'shipname', 'rig', 'national', 'yeardep']\n",
    "undesired_columns = remove_undesired_columns(data, desired_columns)\n",
    "data = data.drop(undesired_columns, axis=1)\n",
    "\n",
    "data.columns = ['ShipName', 'Nationality', 'ShipType', 'VoyageFrom', 'VoyageTo', 'Year']\n",
    "     \n",
    "logbook_data = clean_data(data)"
   ]
  },
  {
   "cell_type": "code",
   "execution_count": 6,
   "metadata": {
    "collapsed": false
   },
   "outputs": [
    {
     "data": {
      "text/html": [
       "<div>\n",
       "<table border=\"1\" class=\"dataframe\">\n",
       "  <thead>\n",
       "    <tr style=\"text-align: right;\">\n",
       "      <th></th>\n",
       "      <th>ShipName</th>\n",
       "      <th>Nationality</th>\n",
       "      <th>ShipType</th>\n",
       "      <th>VoyageFrom</th>\n",
       "      <th>VoyageTo</th>\n",
       "      <th>Year</th>\n",
       "    </tr>\n",
       "  </thead>\n",
       "  <tbody>\n",
       "    <tr>\n",
       "      <th>1</th>\n",
       "      <td>pastora de lima</td>\n",
       "      <td>portugal</td>\n",
       "      <td>bergantim</td>\n",
       "      <td>rio de janeiro</td>\n",
       "      <td>alicante</td>\n",
       "      <td>1816</td>\n",
       "    </tr>\n",
       "    <tr>\n",
       "      <th>2</th>\n",
       "      <td>tibério</td>\n",
       "      <td>spain</td>\n",
       "      <td>bergantim</td>\n",
       "      <td>bahia, port unspecified</td>\n",
       "      <td>alicante</td>\n",
       "      <td>1816</td>\n",
       "    </tr>\n",
       "    <tr>\n",
       "      <th>3</th>\n",
       "      <td>paquete real</td>\n",
       "      <td>spain</td>\n",
       "      <td>bergantim</td>\n",
       "      <td>bahia, port unspecified</td>\n",
       "      <td>alicante</td>\n",
       "      <td>1816</td>\n",
       "    </tr>\n",
       "    <tr>\n",
       "      <th>4</th>\n",
       "      <td>bom caminho</td>\n",
       "      <td>spain</td>\n",
       "      <td>bergantim</td>\n",
       "      <td>bahia, port unspecified</td>\n",
       "      <td>alicante</td>\n",
       "      <td>1816</td>\n",
       "    </tr>\n",
       "    <tr>\n",
       "      <th>5</th>\n",
       "      <td>benigretta</td>\n",
       "      <td>spain</td>\n",
       "      <td>galera</td>\n",
       "      <td>alicante</td>\n",
       "      <td>alicante</td>\n",
       "      <td>1817</td>\n",
       "    </tr>\n",
       "  </tbody>\n",
       "</table>\n",
       "</div>"
      ],
      "text/plain": [
       "          ShipName Nationality   ShipType               VoyageFrom  VoyageTo  \\\n",
       "1  pastora de lima    portugal  bergantim           rio de janeiro  alicante   \n",
       "2          tibério       spain  bergantim  bahia, port unspecified  alicante   \n",
       "3     paquete real       spain  bergantim  bahia, port unspecified  alicante   \n",
       "4      bom caminho       spain  bergantim  bahia, port unspecified  alicante   \n",
       "5       benigretta       spain     galera                 alicante  alicante   \n",
       "\n",
       "   Year  \n",
       "1  1816  \n",
       "2  1816  \n",
       "3  1816  \n",
       "4  1816  \n",
       "5  1817  "
      ]
     },
     "execution_count": 6,
     "metadata": {},
     "output_type": "execute_result"
    }
   ],
   "source": [
    "logbook_data.head()"
   ]
  },
  {
   "cell_type": "markdown",
   "metadata": {},
   "source": [
    "# One hot encoding"
   ]
  },
  {
   "cell_type": "code",
   "execution_count": 7,
   "metadata": {
    "collapsed": true
   },
   "outputs": [],
   "source": [
    "from exploringShipLogbooks.basic_utils import encode_data_df"
   ]
  },
  {
   "cell_type": "code",
   "execution_count": 8,
   "metadata": {
    "collapsed": true
   },
   "outputs": [],
   "source": [
    "encoded_data_df = encode_data_df(logbook_data)"
   ]
  },
  {
   "cell_type": "code",
   "execution_count": 9,
   "metadata": {
    "collapsed": true
   },
   "outputs": [],
   "source": [
    "classification_array = np.array(encoded_data_df)"
   ]
  },
  {
   "cell_type": "code",
   "execution_count": 10,
   "metadata": {
    "collapsed": false
   },
   "outputs": [
    {
     "data": {
      "text/html": [
       "<div>\n",
       "<table border=\"1\" class=\"dataframe\">\n",
       "  <thead>\n",
       "    <tr style=\"text-align: right;\">\n",
       "      <th></th>\n",
       "      <th></th>\n",
       "      <th>'s-graveland</th>\n",
       "      <th>.</th>\n",
       "      <th>aaron frigate</th>\n",
       "      <th>aartshertogin maria christina</th>\n",
       "      <th>abbott devereux</th>\n",
       "      <th>abby</th>\n",
       "      <th>abecerraje</th>\n",
       "      <th>abeille</th>\n",
       "      <th>abencerrage</th>\n",
       "      <th>...</th>\n",
       "      <th>sète</th>\n",
       "      <th>tenerife</th>\n",
       "      <th>texel</th>\n",
       "      <th>vannes</th>\n",
       "      <th>vlissingen</th>\n",
       "      <th>wales</th>\n",
       "      <th>whitehaven</th>\n",
       "      <th>williamsburg</th>\n",
       "      <th>zeeland</th>\n",
       "      <th>Year</th>\n",
       "    </tr>\n",
       "  </thead>\n",
       "  <tbody>\n",
       "    <tr>\n",
       "      <th>0</th>\n",
       "      <td>0</td>\n",
       "      <td>0</td>\n",
       "      <td>0</td>\n",
       "      <td>0</td>\n",
       "      <td>0</td>\n",
       "      <td>0</td>\n",
       "      <td>0</td>\n",
       "      <td>0</td>\n",
       "      <td>0</td>\n",
       "      <td>0</td>\n",
       "      <td>...</td>\n",
       "      <td>0</td>\n",
       "      <td>0</td>\n",
       "      <td>0</td>\n",
       "      <td>0</td>\n",
       "      <td>0</td>\n",
       "      <td>0</td>\n",
       "      <td>0</td>\n",
       "      <td>0</td>\n",
       "      <td>0</td>\n",
       "      <td>1816</td>\n",
       "    </tr>\n",
       "    <tr>\n",
       "      <th>1</th>\n",
       "      <td>0</td>\n",
       "      <td>0</td>\n",
       "      <td>0</td>\n",
       "      <td>0</td>\n",
       "      <td>0</td>\n",
       "      <td>0</td>\n",
       "      <td>0</td>\n",
       "      <td>0</td>\n",
       "      <td>0</td>\n",
       "      <td>0</td>\n",
       "      <td>...</td>\n",
       "      <td>0</td>\n",
       "      <td>0</td>\n",
       "      <td>0</td>\n",
       "      <td>0</td>\n",
       "      <td>0</td>\n",
       "      <td>0</td>\n",
       "      <td>0</td>\n",
       "      <td>0</td>\n",
       "      <td>0</td>\n",
       "      <td>1816</td>\n",
       "    </tr>\n",
       "    <tr>\n",
       "      <th>2</th>\n",
       "      <td>0</td>\n",
       "      <td>0</td>\n",
       "      <td>0</td>\n",
       "      <td>0</td>\n",
       "      <td>0</td>\n",
       "      <td>0</td>\n",
       "      <td>0</td>\n",
       "      <td>0</td>\n",
       "      <td>0</td>\n",
       "      <td>0</td>\n",
       "      <td>...</td>\n",
       "      <td>0</td>\n",
       "      <td>0</td>\n",
       "      <td>0</td>\n",
       "      <td>0</td>\n",
       "      <td>0</td>\n",
       "      <td>0</td>\n",
       "      <td>0</td>\n",
       "      <td>0</td>\n",
       "      <td>0</td>\n",
       "      <td>1816</td>\n",
       "    </tr>\n",
       "    <tr>\n",
       "      <th>3</th>\n",
       "      <td>0</td>\n",
       "      <td>0</td>\n",
       "      <td>0</td>\n",
       "      <td>0</td>\n",
       "      <td>0</td>\n",
       "      <td>0</td>\n",
       "      <td>0</td>\n",
       "      <td>0</td>\n",
       "      <td>0</td>\n",
       "      <td>0</td>\n",
       "      <td>...</td>\n",
       "      <td>0</td>\n",
       "      <td>0</td>\n",
       "      <td>0</td>\n",
       "      <td>0</td>\n",
       "      <td>0</td>\n",
       "      <td>0</td>\n",
       "      <td>0</td>\n",
       "      <td>0</td>\n",
       "      <td>0</td>\n",
       "      <td>1816</td>\n",
       "    </tr>\n",
       "    <tr>\n",
       "      <th>4</th>\n",
       "      <td>0</td>\n",
       "      <td>0</td>\n",
       "      <td>0</td>\n",
       "      <td>0</td>\n",
       "      <td>0</td>\n",
       "      <td>0</td>\n",
       "      <td>0</td>\n",
       "      <td>0</td>\n",
       "      <td>0</td>\n",
       "      <td>0</td>\n",
       "      <td>...</td>\n",
       "      <td>0</td>\n",
       "      <td>0</td>\n",
       "      <td>0</td>\n",
       "      <td>0</td>\n",
       "      <td>0</td>\n",
       "      <td>0</td>\n",
       "      <td>0</td>\n",
       "      <td>0</td>\n",
       "      <td>0</td>\n",
       "      <td>1817</td>\n",
       "    </tr>\n",
       "  </tbody>\n",
       "</table>\n",
       "<p>5 rows × 9545 columns</p>\n",
       "</div>"
      ],
      "text/plain": [
       "      's-graveland  .  aaron frigate  aartshertogin maria christina  \\\n",
       "0  0             0  0              0                              0   \n",
       "1  0             0  0              0                              0   \n",
       "2  0             0  0              0                              0   \n",
       "3  0             0  0              0                              0   \n",
       "4  0             0  0              0                              0   \n",
       "\n",
       "   abbott devereux  abby  abecerraje  abeille  abencerrage  ...   sète  \\\n",
       "0                0     0           0        0            0  ...      0   \n",
       "1                0     0           0        0            0  ...      0   \n",
       "2                0     0           0        0            0  ...      0   \n",
       "3                0     0           0        0            0  ...      0   \n",
       "4                0     0           0        0            0  ...      0   \n",
       "\n",
       "   tenerife  texel  vannes  vlissingen  wales  whitehaven  williamsburg  \\\n",
       "0         0      0       0           0      0           0             0   \n",
       "1         0      0       0           0      0           0             0   \n",
       "2         0      0       0           0      0           0             0   \n",
       "3         0      0       0           0      0           0             0   \n",
       "4         0      0       0           0      0           0             0   \n",
       "\n",
       "   zeeland  Year  \n",
       "0        0  1816  \n",
       "1        0  1816  \n",
       "2        0  1816  \n",
       "3        0  1816  \n",
       "4        0  1817  \n",
       "\n",
       "[5 rows x 9545 columns]"
      ]
     },
     "execution_count": 10,
     "metadata": {},
     "output_type": "execute_result"
    }
   ],
   "source": [
    "encoded_data_df.head()"
   ]
  },
  {
   "cell_type": "code",
   "execution_count": null,
   "metadata": {
    "collapsed": true
   },
   "outputs": [],
   "source": []
  }
 ],
 "metadata": {
  "kernelspec": {
   "display_name": "Python 3",
   "language": "python",
   "name": "python3"
  },
  "language_info": {
   "codemirror_mode": {
    "name": "ipython",
    "version": 3
   },
   "file_extension": ".py",
   "mimetype": "text/x-python",
   "name": "python",
   "nbconvert_exporter": "python",
   "pygments_lexer": "ipython3",
   "version": "3.5.1"
  }
 },
 "nbformat": 4,
 "nbformat_minor": 0
}
