{
 "cells": [
  {
   "cell_type": "code",
   "execution_count": 1,
   "metadata": {
    "collapsed": false
   },
   "outputs": [],
   "source": [
    "import subprocess\n",
    "import zipfile\n",
    "\n",
    "import pandas as pd\n",
    "import ipywidgets as widgets\n",
    "\n",
    "from IPython.display import display"
   ]
  },
  {
   "cell_type": "code",
   "execution_count": 6,
   "metadata": {
    "collapsed": true
   },
   "outputs": [],
   "source": [
    "def extract_logbook_data(desired_filename):\n",
    "    \"\"\"\n",
    "    Fetch logbook data (if needed) and extract trips as dataframe\n",
    "    \n",
    "    Input: desired_filename -- name of .csv file you would like to extract\n",
    "    \n",
    "    Output: pandas data frame containing the file or error message\n",
    "    \"\"\"\n",
    "    try:\n",
    "        zf = zipfile.ZipFile('./exploringShipLogbooks/data/climate-data-from-ocean-ships.zip')\n",
    "        file_handle = zf.open(desired_filename)\n",
    "        return pd.read_csv(file_handle)\n",
    "    except KeyError:\n",
    "        return 'Please enter valid filename.'\n"
   ]
  },
  {
   "cell_type": "code",
   "execution_count": 7,
   "metadata": {
    "collapsed": false
   },
   "outputs": [
    {
     "name": "stderr",
     "output_type": "stream",
     "text": [
      "/Applications/miniconda3/lib/python3.5/site-packages/IPython/core/interactiveshell.py:2825: DtypeWarning: Columns (5,6,7,8,11,13,18,19,23,24,25,26,28,29,30,34,35,38,43,44,46,73,77,81,82,84,85,87,88,94,96,97,98,99,111,114,116,119,120,122,124,125,127,129,131,133,135,137,140) have mixed types. Specify dtype option on import or set low_memory=False.\n",
      "  if self.run_code(code, result):\n"
     ]
    }
   ],
   "source": [
    "logbook_data = extract_logbook_data('CLIWOC15.csv')"
   ]
  },
  {
   "cell_type": "code",
   "execution_count": 9,
   "metadata": {
    "collapsed": false
   },
   "outputs": [
    {
     "data": {
      "text/plain": [
       "RecID                        int64\n",
       "InstAbbr                    object\n",
       "InstName                    object\n",
       "InstPlace                   object\n",
       "InstLand                    object\n",
       "NumberEntry                 object\n",
       "NameArchiveSet              object\n",
       "ArchivePart                 object\n",
       "Specification               object\n",
       "LogbookIdent                object\n",
       "LogbookLanguage             object\n",
       "EnteredBy                   object\n",
       "DASnumber                  float64\n",
       "ImageNumber                 object\n",
       "VoyageFrom                  object\n",
       "VoyageTo                    object\n",
       "ShipName                    object\n",
       "ShipType                    object\n",
       "Company                     object\n",
       "OtherShipInformation        object\n",
       "Nationality                 object\n",
       "Name1                       object\n",
       "Rank1                       object\n",
       "Name2                       object\n",
       "Rank2                       object\n",
       "Name3                       object\n",
       "Rank3                       object\n",
       "ZeroMeridian                object\n",
       "StartDay                    object\n",
       "TimeGen                     object\n",
       "                            ...   \n",
       "SSTReadingUnits             object\n",
       "StateSea                    object\n",
       "CurrentDir                  object\n",
       "CurrentSpeed                object\n",
       "TairReading                float64\n",
       "AirThermReadingUnits        object\n",
       "ProbTair                   float64\n",
       "BaroReading                float64\n",
       "AirPressureReadingUnits     object\n",
       "BarometerType               object\n",
       "BarTempReading             float64\n",
       "BarTempReadingUnits         object\n",
       "HumReading                 float64\n",
       "HumidityUnits               object\n",
       "HumidityMethod              object\n",
       "PumpWater                  float64\n",
       "WaterAtThePumpUnits         object\n",
       "LifeOnBoard                  int64\n",
       "LifeOnBoardMemo             object\n",
       "Cargo                        int64\n",
       "CargoMemo                   object\n",
       "ShipAndRig                   int64\n",
       "ShipAndRigMemo              object\n",
       "Biology                      int64\n",
       "BiologyMemo                 object\n",
       "WarsAndFights                int64\n",
       "WarsAndFightsMemo           object\n",
       "Illustrations                int64\n",
       "TrivialCorrection            int64\n",
       "OtherRem                    object\n",
       "dtype: object"
      ]
     },
     "execution_count": 9,
     "metadata": {},
     "output_type": "execute_result"
    }
   ],
   "source": [
    "logbook_data.dtypes"
   ]
  },
  {
   "cell_type": "code",
   "execution_count": 35,
   "metadata": {
    "collapsed": true
   },
   "outputs": [],
   "source": [
    "def creating_buttons(df):\n",
    "    w = widgets.SelectMultiple(\n",
    "        description=\"Select desired columns\",\n",
    "        options=list(df.columns.values)\n",
    "    )\n",
    "    display(w)\n",
    "\n",
    "    button = widgets.Button(description=\"Done!\")\n",
    "    display(button)\n",
    "    \n",
    "    def on_button_clicked(b):\n",
    "        w.close()\n",
    "        button.close()\n",
    "        \n",
    "    button.on_click(on_button_clicked)\n",
    "    \n",
    "    return w"
   ]
  },
  {
   "cell_type": "code",
   "execution_count": 36,
   "metadata": {
    "collapsed": false
   },
   "outputs": [],
   "source": [
    "w = creating_buttons(logbook_data)\n",
    "w"
   ]
  },
  {
   "cell_type": "code",
   "execution_count": 37,
   "metadata": {
    "collapsed": false
   },
   "outputs": [
    {
     "data": {
      "text/plain": [
       "('Rank3',\n",
       " 'ZeroMeridian',\n",
       " 'StartDay',\n",
       " 'TimeGen',\n",
       " 'ObsGen',\n",
       " 'BarTempReadingUnits')"
      ]
     },
     "execution_count": 37,
     "metadata": {},
     "output_type": "execute_result"
    }
   ],
   "source": [
    "w.value"
   ]
  },
  {
   "cell_type": "code",
   "execution_count": 30,
   "metadata": {
    "collapsed": false
   },
   "outputs": [
    {
     "name": "stdout",
     "output_type": "stream",
     "text": [
      "ProbTair\n",
      "BaroReading\n",
      "AirPressureReadingUnits\n",
      "BarometerType\n",
      "BarTempReading\n"
     ]
    }
   ],
   "source": [
    "undesired_columns = remove_undesired_columns(logbook_data, w.value)"
   ]
  },
  {
   "cell_type": "code",
   "execution_count": 32,
   "metadata": {
    "collapsed": false
   },
   "outputs": [
    {
     "data": {
      "text/plain": [
       "5"
      ]
     },
     "execution_count": 32,
     "metadata": {},
     "output_type": "execute_result"
    }
   ],
   "source": [
    "len(logbook_data.columns.values)-len(undesired_columns)"
   ]
  },
  {
   "cell_type": "code",
   "execution_count": 5,
   "metadata": {
    "collapsed": false
   },
   "outputs": [],
   "source": [
    "def remove_undesired_columns(df, desired_columns):\n",
    "    undesired_columns = list(df.columns.values)\n",
    "    \n",
    "    for value in desired_columns:\n",
    "        print(value)\n",
    "        undesired_columns.remove(value)\n",
    "\n",
    "    return undesired_columns"
   ]
  },
  {
   "cell_type": "code",
   "execution_count": null,
   "metadata": {
    "collapsed": true
   },
   "outputs": [],
   "source": [
    "frame = Frame(root, bd=2, relief=SUNKEN)\n",
    "\n",
    "scrollbar = Scrollbar(frame)\n",
    "scrollbar.pack(side=RIGHT, fill=Y)\n",
    "\n",
    "listbox = Listbox(frame, bd=0, yscrollcommand=scrollbar.set)\n",
    "listbox.pack()\n",
    "\n",
    "scrollbar.config(command=listbox.yview)\n",
    "\n",
    "frame.pack()"
   ]
  },
  {
   "cell_type": "code",
   "execution_count": null,
   "metadata": {
    "collapsed": false
   },
   "outputs": [],
   "source": [
    "import tkinter\n",
    "from tkinter import ttk\n",
    "\n",
    "main = tkinter.Tk()\n",
    "main.title(\"Desired Columns\")\n",
    "main.geometry(\"+50+150\")\n",
    "frame = ttk.Frame(main, padding=(3, 3, 12, 12))\n",
    "frame.grid(column=0, row=0, sticky=\"N, S, E, W\")\n",
    "\n",
    "column_options = tkinter.StringVar()\n",
    "column_options.set(list(logbook_data.columns.values))\n",
    "\n",
    "scrollbar = tkinter.Scrollbar(frame)\n",
    "scrollbar.pack(side=\"right\", fill=\"y\")\n",
    "\n",
    "list_box = tkinter.Listbox(frame, listvariable=column_options, selectmode=\"multiple\", width=20, height=10, yscrollcommand=scrollbar.set)\n",
    "list_box.grid(column=0, row=0, columnspan=2)\n",
    "list_box.pack()\n",
    "\n",
    "scrollbar.config(command=list_box.yview)\n",
    "frame.pack()\n",
    "\n",
    "def select():\n",
    "    desired_columns = list()\n",
    "    selection = list_box.curselection()\n",
    "    for ii in selection:\n",
    "        entry = list_box.get(ii)\n",
    "        desired_columns.append(entry)\n",
    "    undesired_columns = remove_undesired_columns(logbook_data, desired_columns)\n",
    "\n",
    "def quit():\n",
    "    main.destroy()\n",
    "\n",
    "btn = ttk.Button(frame, text=\"Select these columns!\", command=select)\n",
    "btn.grid(column=1, row=1)\n",
    "btn2 = ttk.Button(frame, text=\"Exit\", command=quit)\n",
    "btn2.grid(column=1, row=2)\n",
    "\n",
    "main.mainloop()"
   ]
  },
  {
   "cell_type": "code",
   "execution_count": null,
   "metadata": {
    "collapsed": false
   },
   "outputs": [],
   "source": [
    "desired_columns = creating_buttons(logbook_data)\n",
    "input(\"Press ENTER to continue.\")\n",
    "unwanted_columns = removing_undesired_columns(logbook_data, desired_columns.value)\n",
    "data = logbook_data.drop(unwanted_columns, axis=1)"
   ]
  },
  {
   "cell_type": "code",
   "execution_count": 6,
   "metadata": {
    "collapsed": false
   },
   "outputs": [
    {
     "ename": "NameError",
     "evalue": "name 'undesired_columns' is not defined",
     "output_type": "error",
     "traceback": [
      "\u001b[0;31m---------------------------------------------------------------------------\u001b[0m",
      "\u001b[0;31mNameError\u001b[0m                                 Traceback (most recent call last)",
      "\u001b[0;32m<ipython-input-6-bf9c8272e72f>\u001b[0m in \u001b[0;36m<module>\u001b[0;34m()\u001b[0m\n\u001b[0;32m----> 1\u001b[0;31m \u001b[0mundesired_columns\u001b[0m\u001b[0;34m\u001b[0m\u001b[0m\n\u001b[0m",
      "\u001b[0;31mNameError\u001b[0m: name 'undesired_columns' is not defined"
     ]
    }
   ],
   "source": [
    "undesired_columns"
   ]
  },
  {
   "cell_type": "code",
   "execution_count": null,
   "metadata": {
    "collapsed": false
   },
   "outputs": [],
   "source": [
    "desired_columns.value"
   ]
  },
  {
   "cell_type": "code",
   "execution_count": null,
   "metadata": {
    "collapsed": false
   },
   "outputs": [],
   "source": [
    "unwanted_columns"
   ]
  },
  {
   "cell_type": "code",
   "execution_count": null,
   "metadata": {
    "collapsed": false
   },
   "outputs": [],
   "source": [
    "len(logbook_data.columns.values)-len(unwanted_columns)"
   ]
  },
  {
   "cell_type": "code",
   "execution_count": null,
   "metadata": {
    "collapsed": true
   },
   "outputs": [],
   "source": []
  },
  {
   "cell_type": "code",
   "execution_count": null,
   "metadata": {
    "collapsed": false
   },
   "outputs": [],
   "source": [
    "len(unwanted_columns)"
   ]
  },
  {
   "cell_type": "code",
   "execution_count": null,
   "metadata": {
    "collapsed": false
   },
   "outputs": [],
   "source": [
    "data.head()"
   ]
  },
  {
   "cell_type": "code",
   "execution_count": null,
   "metadata": {
    "collapsed": false
   },
   "outputs": [],
   "source": [
    "logbook_data.info()"
   ]
  },
  {
   "cell_type": "code",
   "execution_count": null,
   "metadata": {
    "collapsed": true
   },
   "outputs": [],
   "source": [
    "logbook_data.dropna(how='all')"
   ]
  },
  {
   "cell_type": "code",
   "execution_count": null,
   "metadata": {
    "collapsed": false
   },
   "outputs": [],
   "source": [
    "len(logbook_data['ShipSpeed'][(~logbook_data['ShipSpeed'].isnull().values)])"
   ]
  },
  {
   "cell_type": "code",
   "execution_count": null,
   "metadata": {
    "collapsed": false
   },
   "outputs": [],
   "source": [
    "degrees_180 = logbook_data['LongitudeUnits'] == '180 degrees'"
   ]
  },
  {
   "cell_type": "code",
   "execution_count": null,
   "metadata": {
    "collapsed": false
   },
   "outputs": [],
   "source": [
    "logbook_data.loc[degrees_180]"
   ]
  },
  {
   "cell_type": "code",
   "execution_count": null,
   "metadata": {
    "collapsed": false
   },
   "outputs": [],
   "source": [
    "logbook_data['Lon3'][logbook_data['LongitudeUnits'] == '180 degrees'] = \\\n",
    "logbook_data['Lon3'][logbook_data['LongitudeUnits'] == '180 degrees'] + 180\n",
    "\n",
    "logbook_data['LongitudeUnits'][logbook_data['LongitudeUnits'] == '180 degrees']  = '360 degrees'"
   ]
  },
  {
   "cell_type": "code",
   "execution_count": null,
   "metadata": {
    "collapsed": false
   },
   "outputs": [],
   "source": [
    "logbook_data['LongitudeUnits'][logbook_data['LongitudeUnits'] == '180 degrees'] = '360 degrees'"
   ]
  },
  {
   "cell_type": "code",
   "execution_count": null,
   "metadata": {
    "collapsed": false
   },
   "outputs": [],
   "source": [
    "logbook_data['Lon3'][logbook_data['LongitudeUnits'] == '180 degrees'] "
   ]
  },
  {
   "cell_type": "code",
   "execution_count": null,
   "metadata": {
    "collapsed": false
   },
   "outputs": [],
   "source": [
    "list(logbook_data.columns.values)"
   ]
  },
  {
   "cell_type": "code",
   "execution_count": null,
   "metadata": {
    "collapsed": false
   },
   "outputs": [],
   "source": [
    "w = widgets.SelectMultiple(\n",
    "    description=\"Select desired columns\",\n",
    "    options=list(logbook_data.columns.values)\n",
    ")\n",
    "display(w)\n",
    "\n",
    "button = widgets.Button(description=\"Done!\")\n",
    "display(button)\n",
    "\n",
    "def on_button_clicked(b):\n",
    "    w.close()\n",
    "    button.close()\n",
    "\n",
    "button.on_click(on_button_clicked)\n",
    "\n",
    "#df1 = df1.drop(['B', 'C'], axis=1)\n"
   ]
  },
  {
   "cell_type": "code",
   "execution_count": null,
   "metadata": {
    "collapsed": false
   },
   "outputs": [],
   "source": [
    "unwanted_columns = list(logbook_data.columns.values)\n",
    "\n",
    "for value in w.value:\n",
    "    print(value)\n",
    "    print(len(unwanted_columns))\n",
    "    unwanted_columns.remove(value)\n"
   ]
  },
  {
   "cell_type": "code",
   "execution_count": null,
   "metadata": {
    "collapsed": true
   },
   "outputs": [],
   "source": []
  },
  {
   "cell_type": "code",
   "execution_count": null,
   "metadata": {
    "collapsed": false
   },
   "outputs": [],
   "source": [
    "w.value"
   ]
  },
  {
   "cell_type": "code",
   "execution_count": null,
   "metadata": {
    "collapsed": false
   },
   "outputs": [],
   "source": [
    "from mpl_toolkits.basemap import Basemap\n",
    "import matplotlib.pyplot as plt\n",
    "import numpy as np\n",
    "\n",
    "%matplotlib inline\n",
    "\n",
    "# set up orthographic map projection with\n",
    "# perspective of satellite looking down at 50N, 100W.\n",
    "# use low resolution coastlines.\n",
    "map = Basemap(projection='ortho',lat_0=45,lon_0=-100,resolution='l')\n",
    "# draw coastlines, country boundaries, fill continents.\n",
    "map.drawcoastlines(linewidth=0.25)\n",
    "map.drawcountries(linewidth=0.25)\n",
    "map.fillcontinents(color='coral',lake_color='aqua')\n",
    "# draw the edge of the map projection region (the projection limb)\n",
    "map.drawmapboundary(fill_color='aqua')\n",
    "# draw lat/lon grid lines every 30 degrees.\n",
    "map.drawmeridians(np.arange(0,360,30))\n",
    "map.drawparallels(np.arange(-90,90,30))\n",
    "# make up some data on a regular lat/lon grid.\n",
    "nlats = 73; nlons = 145; delta = 2.*np.pi/(nlons-1)\n",
    "lats = (0.5*np.pi-delta*np.indices((nlats,nlons))[0,:,:])\n",
    "lons = (delta*np.indices((nlats,nlons))[1,:,:])\n",
    "wave = 0.75*(np.sin(2.*lats)**8*np.cos(4.*lons))\n",
    "mean = 0.5*np.cos(2.*lats)*((np.sin(2.*lats))**2 + 2.)\n",
    "# compute native map projection coordinates of lat/lon grid.\n",
    "x, y = map(lons*180./np.pi, lats*180./np.pi)\n",
    "# contour data over the map.\n",
    "cs = map.contour(x,y,wave+mean,15,linewidths=1.5)\n",
    "plt.title('contour lines over filled continent background')\n",
    "plt.show()"
   ]
  },
  {
   "cell_type": "code",
   "execution_count": null,
   "metadata": {
    "collapsed": false
   },
   "outputs": [],
   "source": [
    "valid_locations = pd.notnull(logbook_data['Lat3']) & pd.notnull(logbook_data['Lon3'])"
   ]
  },
  {
   "cell_type": "code",
   "execution_count": null,
   "metadata": {
    "collapsed": false
   },
   "outputs": [],
   "source": [
    "logbook_data['Lat3'][valid_locations]"
   ]
  },
  {
   "cell_type": "code",
   "execution_count": null,
   "metadata": {
    "collapsed": false
   },
   "outputs": [],
   "source": [
    "# setup Lambert Conformal basemap.\n",
    "#m = Basemap(width=12000000,height=9000000,projection='lcc',\n",
    "#            resolution='c',lat_1=45.,lat_2=55,lat_0=50,lon_0=-107.)\n",
    "m = Basemap(llcrnrlon=0,llcrnrlat=-80,urcrnrlon=360,urcrnrlat=80,projection='mill')\n",
    "# draw a boundary around the map, fill the background.\n",
    "# this background will end up being the ocean color, since\n",
    "# the continents will be drawn on top.\n",
    "m.drawmapboundary(fill_color='aqua')\n",
    "# fill continents, set lake color same as ocean color.\n",
    "m.fillcontinents(color='coral',lake_color='aqua')\n",
    "# draw parallels and meridians.\n",
    "# label parallels on right and top\n",
    "# meridians on bottom and left\n",
    "parallels = np.arange(0.,81,10.)\n",
    "# labels = [left,right,top,bottom]\n",
    "m.drawparallels(parallels,labels=[False,True,True,False])\n",
    "meridians = np.arange(10.,351.,20.)\n",
    "m.drawmeridians(meridians,labels=[True,False,False,True])\n",
    "# plot blue dot on Boulder, colorado and label it as such.\n",
    "#lon, lat = -104.237, 40.125 # Location of Boulder\n",
    "#logbook_data['Lon3'][logbook_data['LongitudeUnits'] == '180 degrees'] = logbook_data['Lon3'][logbook_data['LongitudeUnits'] == '180 degrees'] + 180\n",
    "lon = np.array(logbook_data['Lon3'][valid_locations])\n",
    "lat = np.array(logbook_data['Lat3'][valid_locations])\n",
    "# convert to map projection coords.\n",
    "# Note that lon,lat can be scalars, lists or numpy arrays.\n",
    "xpt,ypt = m(lon,lat)\n",
    "m.plot(xpt,ypt,'bo')  # plot a blue dot there\n",
    "plt.show()\n"
   ]
  },
  {
   "cell_type": "code",
   "execution_count": null,
   "metadata": {
    "collapsed": false
   },
   "outputs": [],
   "source": [
    "file= '/Users/Fluids/Documents/Classes/CSE 599 Software Engineering for Data Scientists/exploring-ship-logbooks/data/logs-with-slave-mentions.csv'"
   ]
  },
  {
   "cell_type": "code",
   "execution_count": null,
   "metadata": {
    "collapsed": false
   },
   "outputs": [],
   "source": [
    "pd.read_csv(file)"
   ]
  },
  {
   "cell_type": "code",
   "execution_count": null,
   "metadata": {
    "collapsed": true
   },
   "outputs": [],
   "source": []
  }
 ],
 "metadata": {
  "kernelspec": {
   "display_name": "Python 3",
   "language": "python",
   "name": "python3"
  },
  "language_info": {
   "codemirror_mode": {
    "name": "ipython",
    "version": 3
   },
   "file_extension": ".py",
   "mimetype": "text/x-python",
   "name": "python",
   "nbconvert_exporter": "python",
   "pygments_lexer": "ipython3",
   "version": "3.5.1"
  }
 },
 "nbformat": 4,
 "nbformat_minor": 0
}
