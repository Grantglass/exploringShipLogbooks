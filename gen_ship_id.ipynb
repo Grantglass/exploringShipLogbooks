{
 "cells": [
  {
   "cell_type": "code",
   "execution_count": 11,
   "metadata": {
    "collapsed": false
   },
   "outputs": [
    {
     "name": "stderr",
     "output_type": "stream",
     "text": [
      "C:\\Anaconda3\\lib\\site-packages\\IPython\\core\\interactiveshell.py:3006: DtypeWarning: Columns (5,6,7,8,11,13,18,19,23,24,25,26,28,29,30,34,35,38,43,44,46,73,77,81,82,84,85,87,88,94,96,97,98,99,111,114,116,119,120,122,124,125,127,129,131,133,135,137,140) have mixed types. Specify dtype option on import or set low_memory=False.\n",
      "  if self.run_code(code, result):\n",
      "C:\\Anaconda3\\lib\\site-packages\\pandas\\core\\frame.py:1997: UserWarning: Boolean Series key will be reindexed to match DataFrame index.\n",
      "  \"DataFrame index.\", UserWarning)\n"
     ]
    },
    {
     "name": "stdout",
     "output_type": "stream",
     "text": [
      "C:\\Users\\Administrator\\data\\data\\CLIWOC15.csv already exist\n"
     ]
    }
   ],
   "source": [
    "import sys\n",
    "import os\n",
    "import pandas as pd\n",
    "import numpy as np\n",
    "\n",
    "\"\"\"\n",
    "If data is not ready, we need download the raw data and unzip the files in the same route\n",
    "If data is ready, return the DataFrame\n",
    "\"\"\"\n",
    "def if_data_ready(filename):\n",
    "    if os.path.exists(filename):\n",
    "        print (filename+\" already exist\")\n",
    "        return pd.read_csv(filename)\n",
    "    else:\n",
    "        print (filename+\" does not exist, please check the file\")\n",
    "        sys.exit()\n",
    "\n",
    "def is_new_trip(position,trip_id):\n",
    "    index = 0\n",
    "    trip = [0]*len(position['Date'])\n",
    "    trip [0] = trip_id\n",
    "    while index < len(position['Date'])-1:\n",
    "        index += 1\n",
    "        if index ==len(position['Date'])-1:\n",
    "            if (position.iat[index,8] - position.iat[index-1,8] == 8870) or (position.iat[index,8] - position.iat[index-1,8]<100 and position.iat[index,3] == position.iat[index-1,3] and position.iat[index,4] == position.iat[index-1,4]):\n",
    "                num_data = trip.count(trip_id)\n",
    "                if trip.count(trip_id) < 5:\n",
    "                    for i in range(index-1, index-num_data-1, -1):\n",
    "                        trip[i]=0\n",
    "                    continue\n",
    "                else:\n",
    "                    trip[index] = trip_id\n",
    "                    trip_id += 1\n",
    "                    continue        \n",
    "        if (position.iat[index,8] - position.iat[index-1,8] == 8870) or (position.iat[index,8] - position.iat[index-1,8]<100 and position.iat[index,3] == position.iat[index-1,3] and position.iat[index,4] == position.iat[index-1,4]):\n",
    "            trip[index] = trip_id\n",
    "        else:\n",
    "            ##delete trips that is too short\n",
    "            num_data = trip.count(trip_id)\n",
    "            if trip.count(trip_id) < 5:\n",
    "                for i in range(index-1, index-num_data-1, -1):\n",
    "                    trip[i]=0  ## the data point would be marked 0\n",
    "            else:\n",
    "                trip_id += 1\n",
    "                trip[index] = trip_id\n",
    "    position.insert(9, \"Trip\", trip)\n",
    "    return trip_id\n",
    "def split_trip():\n",
    "    #shipname = pd.value_counts(raw_data[\"ShipName\"]).head(10).keys()\n",
    "    shipname = list(pd.value_counts(raw_data[\"ShipName\"]).keys()) #949 shipnames\n",
    "    shipname = [x for x in shipname if 'SAN CARLOS' not in x]\n",
    "    shipname = [x for x in shipname if 'LA SUERTE' not in x] \n",
    "    shipname = [x for x in shipname if 'LABORDE' not in x]\n",
    "    shipname = [x for x in shipname if 'CONOCIDO-26' not in x]\n",
    "    shipname = [x for x in shipname if 'NaSa DEL ROSARIO,STMA TRINIDAD' not in x]\n",
    "    shipname = [x for x in shipname if 'Vrouwe Margaretha Maria' not in x]\n",
    "    shipname = [x for x in shipname if 'EL MARLLORQUÍN' not in x] \n",
    "    shipname = [x for x in shipname if 'LA ORBE' not in x]\n",
    "    shipname = [x for x in shipname if 'LA JUNO' not in x]\n",
    "    shipname = [x for x in shipname if 'DESCONOCIDO-01' not in x]\n",
    "    shipname = [x for x in shipname if 'DESCONOCIDO-08' not in x]\n",
    "    shipname = [x for x in shipname if 'DESCONOCIDO-21' not in x]\n",
    "    shipname = [x for x in shipname if 'DESCONOCIDO-11' not in x]   #Some ships could cause error and need to be removed manually\n",
    "    position_all = []\n",
    "    trip_id = 1\n",
    "    for ship in shipname:\n",
    "        position = raw_data[raw_data[\"ShipName\"]==ship][pd.notnull(raw_data[\"Lat3\"])][pd.notnull(raw_data[\"Lon3\"])][[\"Lat3\",\"Lon3\",\"VoyageFrom\",\"VoyageTo\",\"Year\",\"Month\",\"Day\",\"UTC\",\"Nationality\",\"RecID\"]]\n",
    "        position = position.sort_values(by='UTC', ascending=True)\n",
    "        position.insert(8, \"Date\", position['UTC'])\n",
    "        position['Date'] = position['Date'] // 100\n",
    "        #print(ship, end=\" \")   ##For testing which ship got errer message\n",
    "        trip_id = is_new_trip(position,trip_id)\n",
    "        position_each_ship = list(zip([ship]*len(position[\"Lat3\"]),position[\"Nationality\"],position[\"VoyageFrom\"],position[\"VoyageTo\"],position[\"Year\"],position[\"Date\"],position[\"Lat3\"],position[\"Lon3\"],position[\"RecID\"],position[\"Trip\"]))\n",
    "        position_all += position_each_ship\n",
    "    return position_all\n",
    "if __name__ == \"__main__\":\n",
    "    file_path =\"C:\\\\Users\\\\Administrator\\\\data\\\\data\\\\CLIWOC15.csv\"\n",
    "    raw_data = if_data_ready(file_path) ##just read the data frame\n",
    "    df = pd.DataFrame(split_trip(), columns=['ShipName',\"Nationality\",\"VoyageFrom\",\"VoyageTo\",\"Year\",\"Date\",'Latitude', 'Longtitude', \"RecID\",'Trip'])\n",
    "#    df.to_excel('Trip_Data_new.xlsx',index=False)\n",
    "\n",
    "\n",
    "            "
   ]
  },
  {
   "cell_type": "code",
   "execution_count": null,
   "metadata": {
    "collapsed": false
   },
   "outputs": [],
   "source": [
    "#raw_data.insert(141, \"Trip_ID\",0)\n",
    "#trip_id = [0]*len(raw_data[\"Trip_ID\"])\n",
    "trip_id = [0]*len(raw_data[\"RecID\"]) #Set a new column for trip_id\n",
    "for i in range(len(raw_data[\"RecID\"])):\n",
    "    try: #if raw_data's RecID macth RecID in df, then return the trip_id for that line\n",
    "        trip_id[i]=df.loc[df[df[\"RecID\"]==raw_data.iat[i,0]][\"Trip\"].keys()[0],\"Trip\"] \n",
    "    except:\n",
    "        pass\n",
    "\n",
    "#print(trip_id[-50:])\n",
    "\n"
   ]
  },
  {
   "cell_type": "code",
   "execution_count": 35,
   "metadata": {
    "collapsed": false
   },
   "outputs": [
    {
     "name": "stdout",
     "output_type": "stream",
     "text": [
      "199168    3470\n",
      "Name: Trip, dtype: int64\n"
     ]
    }
   ],
   "source": [
    "print(df[df[\"RecID\"]==548][\"Trip\"])   #Test for datatype of this sentence, not necessary for main function"
   ]
  },
  {
   "cell_type": "code",
   "execution_count": null,
   "metadata": {
    "collapsed": false
   },
   "outputs": [],
   "source": [
    "raw_data.insert(141, \"Trip_ID\", trip) ##add the trip id colunmn to the end of raw data"
   ]
  }
 ],
 "metadata": {
  "kernelspec": {
   "display_name": "Python 3",
   "language": "python",
   "name": "python3"
  },
  "language_info": {
   "codemirror_mode": {
    "name": "ipython",
    "version": 3
   },
   "file_extension": ".py",
   "mimetype": "text/x-python",
   "name": "python",
   "nbconvert_exporter": "python",
   "pygments_lexer": "ipython3",
   "version": "3.5.1"
  }
 },
 "nbformat": 4,
 "nbformat_minor": 0
}
