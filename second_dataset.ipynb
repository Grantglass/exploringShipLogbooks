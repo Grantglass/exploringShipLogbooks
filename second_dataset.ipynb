{
 "cells": [
  {
   "cell_type": "markdown",
   "metadata": {},
   "source": [
    "# Second dataset - http://www.slavevoyages.org\n",
    "\n",
    "- http://www.slavevoyages.org/documents/download/Codebook2013_5-3_final.pdf"
   ]
  },
  {
   "cell_type": "markdown",
   "metadata": {},
   "source": [
    "## Import necessary packages"
   ]
  },
  {
   "cell_type": "code",
   "execution_count": 1,
   "metadata": {
    "collapsed": false
   },
   "outputs": [],
   "source": [
    "import zipfile\n",
    "\n",
    "import ipywidgets as widgets\n",
    "import matplotlib.pyplot as plt\n",
    "import numpy as np\n",
    "import pandas as pd\n",
    "import exploringShipLogbooks.wordCount as wc\n",
    "\n",
    "from exploringShipLogbooks.basic_utils import clean_data\n",
    "from exploringShipLogbooks.basic_utils import create_widget\n",
    "from exploringShipLogbooks.basic_utils import extract_logbook_data\n",
    "from exploringShipLogbooks.basic_utils import remove_undesired_columns"
   ]
  },
  {
   "cell_type": "markdown",
   "metadata": {},
   "source": [
    "## Import packages related to R"
   ]
  },
  {
   "cell_type": "code",
   "execution_count": 2,
   "metadata": {
    "collapsed": true
   },
   "outputs": [],
   "source": [
    "import rpy2\n",
    "from rpy2.robjects import pandas2ri\n",
    "pandas2ri.activate()"
   ]
  },
  {
   "cell_type": "markdown",
   "metadata": {},
   "source": [
    "## Importing data using R"
   ]
  },
  {
   "cell_type": "code",
   "execution_count": 3,
   "metadata": {
    "collapsed": false
   },
   "outputs": [
    {
     "name": "stderr",
     "output_type": "stream",
     "text": [
      "/Applications/miniconda3/lib/python3.5/site-packages/rpy2/robjects/functions.py:106: UserWarning: re-encoding from latin1\n",
      "\n",
      "  res = super(Function, self).__call__(*new_args, **new_kwargs)\n"
     ]
    }
   ],
   "source": [
    "filename = './exploringShipLogbooks/data/tastdb-exp-2010.sav'\n",
    "data = rpy2.robjects.r('foreign::read.spss(\"%s\", to.data.frame=TRUE)' % filename)"
   ]
  },
  {
   "cell_type": "code",
   "execution_count": null,
   "metadata": {
    "collapsed": false
   },
   "outputs": [],
   "source": [
    "data.head()"
   ]
  },
  {
   "cell_type": "code",
   "execution_count": null,
   "metadata": {
    "collapsed": false
   },
   "outputs": [],
   "source": [
    "data.columns.values"
   ]
  },
  {
   "cell_type": "code",
   "execution_count": 4,
   "metadata": {
    "collapsed": true
   },
   "outputs": [],
   "source": [
    "def clean_data(df):\n",
    "    df['VoyageFrom'] = df['VoyageFrom'].astype(str).map(lambda x: x.lower().rstrip())\n",
    "    df['VoyageTo'] = df['VoyageTo'].astype(str).map(lambda x: x.lower().rstrip())\n",
    "    df['ShipName'] = df['ShipName'].astype(str).map(lambda x: x.lower().rstrip())\n",
    "    df['ShipType'] = df['ShipType'].astype(str).map(lambda x: x.lower().rstrip())\n",
    "    df['Nationality'] = df['Nationality'].astype(str).map(lambda x: x.lower().rstrip())\n",
    "    data['Year'][data['Year'].notnull()].astype(int)\n",
    "    df['Year'] = df['Year'].astype(str).map(lambda x: x.lower().rstrip())\n",
    "    return df"
   ]
  },
  {
   "cell_type": "code",
   "execution_count": 5,
   "metadata": {
    "collapsed": false
   },
   "outputs": [],
   "source": [
    "desired_columns=['portdep', 'portret', 'shipname', 'rig', 'national', 'yeardep']\n",
    "undesired_columns = remove_undesired_columns(data, desired_columns)\n",
    "data = data.drop(undesired_columns, axis=1)\n",
    "\n",
    "data.columns = ['ShipName', 'Nationality', 'ShipType', 'VoyageFrom', 'VoyageTo', 'Year']\n",
    "     \n",
    "logbook_data = clean_data(data)"
   ]
  },
  {
   "cell_type": "code",
   "execution_count": 7,
   "metadata": {
    "collapsed": false
   },
   "outputs": [
    {
     "data": {
      "text/html": [
       "<div>\n",
       "<table border=\"1\" class=\"dataframe\">\n",
       "  <thead>\n",
       "    <tr style=\"text-align: right;\">\n",
       "      <th></th>\n",
       "      <th>ShipName</th>\n",
       "      <th>Nationality</th>\n",
       "      <th>ShipType</th>\n",
       "      <th>VoyageFrom</th>\n",
       "      <th>VoyageTo</th>\n",
       "      <th>Year</th>\n",
       "    </tr>\n",
       "  </thead>\n",
       "  <tbody>\n",
       "    <tr>\n",
       "      <th>1</th>\n",
       "      <td>pastora de lima</td>\n",
       "      <td>portugal</td>\n",
       "      <td>bergantim</td>\n",
       "      <td>rio de janeiro</td>\n",
       "      <td>alicante</td>\n",
       "      <td>1816.0</td>\n",
       "    </tr>\n",
       "    <tr>\n",
       "      <th>2</th>\n",
       "      <td>tibério</td>\n",
       "      <td>spain</td>\n",
       "      <td>bergantim</td>\n",
       "      <td>bahia, port unspecified</td>\n",
       "      <td>alicante</td>\n",
       "      <td>1816.0</td>\n",
       "    </tr>\n",
       "    <tr>\n",
       "      <th>3</th>\n",
       "      <td>paquete real</td>\n",
       "      <td>spain</td>\n",
       "      <td>bergantim</td>\n",
       "      <td>bahia, port unspecified</td>\n",
       "      <td>alicante</td>\n",
       "      <td>1816.0</td>\n",
       "    </tr>\n",
       "    <tr>\n",
       "      <th>4</th>\n",
       "      <td>bom caminho</td>\n",
       "      <td>spain</td>\n",
       "      <td>bergantim</td>\n",
       "      <td>bahia, port unspecified</td>\n",
       "      <td>alicante</td>\n",
       "      <td>1816.0</td>\n",
       "    </tr>\n",
       "    <tr>\n",
       "      <th>5</th>\n",
       "      <td>benigretta</td>\n",
       "      <td>spain</td>\n",
       "      <td>galera</td>\n",
       "      <td>alicante</td>\n",
       "      <td>alicante</td>\n",
       "      <td>1817.0</td>\n",
       "    </tr>\n",
       "  </tbody>\n",
       "</table>\n",
       "</div>"
      ],
      "text/plain": [
       "          ShipName Nationality   ShipType               VoyageFrom  VoyageTo  \\\n",
       "1  pastora de lima    portugal  bergantim           rio de janeiro  alicante   \n",
       "2          tibério       spain  bergantim  bahia, port unspecified  alicante   \n",
       "3     paquete real       spain  bergantim  bahia, port unspecified  alicante   \n",
       "4      bom caminho       spain  bergantim  bahia, port unspecified  alicante   \n",
       "5       benigretta       spain     galera                 alicante  alicante   \n",
       "\n",
       "     Year  \n",
       "1  1816.0  \n",
       "2  1816.0  \n",
       "3  1816.0  \n",
       "4  1816.0  \n",
       "5  1817.0  "
      ]
     },
     "execution_count": 7,
     "metadata": {},
     "output_type": "execute_result"
    }
   ],
   "source": [
    "logbook_data.head()"
   ]
  },
  {
   "cell_type": "markdown",
   "metadata": {},
   "source": [
    "# One hot encoding"
   ]
  },
  {
   "cell_type": "code",
   "execution_count": 8,
   "metadata": {
    "collapsed": true
   },
   "outputs": [],
   "source": [
    "from exploringShipLogbooks.basic_utils import encode_data_df"
   ]
  },
  {
   "cell_type": "code",
   "execution_count": 9,
   "metadata": {
    "collapsed": true
   },
   "outputs": [],
   "source": [
    "encoded_data_df = encode_data_df(logbook_data)"
   ]
  },
  {
   "cell_type": "code",
   "execution_count": 10,
   "metadata": {
    "collapsed": true
   },
   "outputs": [],
   "source": [
    "classification_array = np.array(encoded_data_df)"
   ]
  },
  {
   "cell_type": "code",
   "execution_count": 11,
   "metadata": {
    "collapsed": false
   },
   "outputs": [
    {
     "data": {
      "text/html": [
       "<div>\n",
       "<table border=\"1\" class=\"dataframe\">\n",
       "  <thead>\n",
       "    <tr style=\"text-align: right;\">\n",
       "      <th></th>\n",
       "      <th></th>\n",
       "      <th>'s-graveland</th>\n",
       "      <th>.</th>\n",
       "      <th>aaron frigate</th>\n",
       "      <th>aartshertogin maria christina</th>\n",
       "      <th>abbott devereux</th>\n",
       "      <th>abby</th>\n",
       "      <th>abecerraje</th>\n",
       "      <th>abeille</th>\n",
       "      <th>abencerrage</th>\n",
       "      <th>...</th>\n",
       "      <th>1858.0</th>\n",
       "      <th>1859.0</th>\n",
       "      <th>1860.0</th>\n",
       "      <th>1861.0</th>\n",
       "      <th>1862.0</th>\n",
       "      <th>1863.0</th>\n",
       "      <th>1864.0</th>\n",
       "      <th>1865.0</th>\n",
       "      <th>1866.0</th>\n",
       "      <th>nan</th>\n",
       "    </tr>\n",
       "  </thead>\n",
       "  <tbody>\n",
       "    <tr>\n",
       "      <th>0</th>\n",
       "      <td>0</td>\n",
       "      <td>0</td>\n",
       "      <td>0</td>\n",
       "      <td>0</td>\n",
       "      <td>0</td>\n",
       "      <td>0</td>\n",
       "      <td>0</td>\n",
       "      <td>0</td>\n",
       "      <td>0</td>\n",
       "      <td>0</td>\n",
       "      <td>...</td>\n",
       "      <td>0</td>\n",
       "      <td>0</td>\n",
       "      <td>0</td>\n",
       "      <td>0</td>\n",
       "      <td>0</td>\n",
       "      <td>0</td>\n",
       "      <td>0</td>\n",
       "      <td>0</td>\n",
       "      <td>0</td>\n",
       "      <td>0</td>\n",
       "    </tr>\n",
       "    <tr>\n",
       "      <th>1</th>\n",
       "      <td>0</td>\n",
       "      <td>0</td>\n",
       "      <td>0</td>\n",
       "      <td>0</td>\n",
       "      <td>0</td>\n",
       "      <td>0</td>\n",
       "      <td>0</td>\n",
       "      <td>0</td>\n",
       "      <td>0</td>\n",
       "      <td>0</td>\n",
       "      <td>...</td>\n",
       "      <td>0</td>\n",
       "      <td>0</td>\n",
       "      <td>0</td>\n",
       "      <td>0</td>\n",
       "      <td>0</td>\n",
       "      <td>0</td>\n",
       "      <td>0</td>\n",
       "      <td>0</td>\n",
       "      <td>0</td>\n",
       "      <td>0</td>\n",
       "    </tr>\n",
       "    <tr>\n",
       "      <th>2</th>\n",
       "      <td>0</td>\n",
       "      <td>0</td>\n",
       "      <td>0</td>\n",
       "      <td>0</td>\n",
       "      <td>0</td>\n",
       "      <td>0</td>\n",
       "      <td>0</td>\n",
       "      <td>0</td>\n",
       "      <td>0</td>\n",
       "      <td>0</td>\n",
       "      <td>...</td>\n",
       "      <td>0</td>\n",
       "      <td>0</td>\n",
       "      <td>0</td>\n",
       "      <td>0</td>\n",
       "      <td>0</td>\n",
       "      <td>0</td>\n",
       "      <td>0</td>\n",
       "      <td>0</td>\n",
       "      <td>0</td>\n",
       "      <td>0</td>\n",
       "    </tr>\n",
       "    <tr>\n",
       "      <th>3</th>\n",
       "      <td>0</td>\n",
       "      <td>0</td>\n",
       "      <td>0</td>\n",
       "      <td>0</td>\n",
       "      <td>0</td>\n",
       "      <td>0</td>\n",
       "      <td>0</td>\n",
       "      <td>0</td>\n",
       "      <td>0</td>\n",
       "      <td>0</td>\n",
       "      <td>...</td>\n",
       "      <td>0</td>\n",
       "      <td>0</td>\n",
       "      <td>0</td>\n",
       "      <td>0</td>\n",
       "      <td>0</td>\n",
       "      <td>0</td>\n",
       "      <td>0</td>\n",
       "      <td>0</td>\n",
       "      <td>0</td>\n",
       "      <td>0</td>\n",
       "    </tr>\n",
       "    <tr>\n",
       "      <th>4</th>\n",
       "      <td>0</td>\n",
       "      <td>0</td>\n",
       "      <td>0</td>\n",
       "      <td>0</td>\n",
       "      <td>0</td>\n",
       "      <td>0</td>\n",
       "      <td>0</td>\n",
       "      <td>0</td>\n",
       "      <td>0</td>\n",
       "      <td>0</td>\n",
       "      <td>...</td>\n",
       "      <td>0</td>\n",
       "      <td>0</td>\n",
       "      <td>0</td>\n",
       "      <td>0</td>\n",
       "      <td>0</td>\n",
       "      <td>0</td>\n",
       "      <td>0</td>\n",
       "      <td>0</td>\n",
       "      <td>0</td>\n",
       "      <td>0</td>\n",
       "    </tr>\n",
       "  </tbody>\n",
       "</table>\n",
       "<p>5 rows × 9864 columns</p>\n",
       "</div>"
      ],
      "text/plain": [
       "      's-graveland  .  aaron frigate  aartshertogin maria christina  \\\n",
       "0  0             0  0              0                              0   \n",
       "1  0             0  0              0                              0   \n",
       "2  0             0  0              0                              0   \n",
       "3  0             0  0              0                              0   \n",
       "4  0             0  0              0                              0   \n",
       "\n",
       "   abbott devereux  abby  abecerraje  abeille  abencerrage ...   1858.0  \\\n",
       "0                0     0           0        0            0 ...        0   \n",
       "1                0     0           0        0            0 ...        0   \n",
       "2                0     0           0        0            0 ...        0   \n",
       "3                0     0           0        0            0 ...        0   \n",
       "4                0     0           0        0            0 ...        0   \n",
       "\n",
       "   1859.0  1860.0  1861.0  1862.0  1863.0  1864.0  1865.0  1866.0  nan  \n",
       "0       0       0       0       0       0       0       0       0    0  \n",
       "1       0       0       0       0       0       0       0       0    0  \n",
       "2       0       0       0       0       0       0       0       0    0  \n",
       "3       0       0       0       0       0       0       0       0    0  \n",
       "4       0       0       0       0       0       0       0       0    0  \n",
       "\n",
       "[5 rows x 9864 columns]"
      ]
     },
     "execution_count": 11,
     "metadata": {},
     "output_type": "execute_result"
    }
   ],
   "source": [
    "encoded_data_df.head()"
   ]
  },
  {
   "cell_type": "code",
   "execution_count": null,
   "metadata": {
    "collapsed": true
   },
   "outputs": [],
   "source": []
  }
 ],
 "metadata": {
  "kernelspec": {
   "display_name": "Python 3",
   "language": "python",
   "name": "python3"
  },
  "language_info": {
   "codemirror_mode": {
    "name": "ipython",
    "version": 3
   },
   "file_extension": ".py",
   "mimetype": "text/x-python",
   "name": "python",
   "nbconvert_exporter": "python",
   "pygments_lexer": "ipython3",
   "version": "3.5.1"
  }
 },
 "nbformat": 4,
 "nbformat_minor": 0
}
