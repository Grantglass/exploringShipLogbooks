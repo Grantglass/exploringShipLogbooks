{
 "cells": [
  {
   "cell_type": "code",
   "execution_count": 1,
   "metadata": {
    "collapsed": true
   },
   "outputs": [],
   "source": [
    "import pandas as pd\n",
    "import numpy as np\n",
    "from sklearn import preprocessing\n",
    "from sklearn.naive_bayes import MultinomialNB\n",
    "\n",
    "import exploringShipLogbooks.wordCount as wc\n",
    "from exploringShipLogbooks.basic_utils import extract_logbook_data\n",
    "from exploringShipLogbooks.basic_utils import isolate_columns\n",
    "from exploringShipLogbooks.basic_utils import isolate_training_data\n",
    "\n",
    "from exploringShipLogbooks.config import *"
   ]
  },
  {
   "cell_type": "markdown",
   "metadata": {},
   "source": [
    "# code that has been tested\n",
    "- this should all run :) the rest of the functions still need to be made"
   ]
  },
  {
   "cell_type": "code",
   "execution_count": 2,
   "metadata": {
    "collapsed": true
   },
   "outputs": [],
   "source": [
    "from exploringShipLogbooks.classification import LogbookClassifier\n",
    "cl = LogbookClassifier()\n",
    "cl.load_data(['cliwoc','slave_voyages'])\n",
    "cl.encode_ship_names()\n",
    "cl.find_logs_that_mention_slaves()\n",
    "cl.find_training_data({'ShipName': non_slave_ships})\n",
    "cl.join_data()\n",
    "cl.encode_data()\n"
   ]
  },
  {
   "cell_type": "code",
   "execution_count": null,
   "metadata": {
    "collapsed": true
   },
   "outputs": [],
   "source": []
  },
  {
   "cell_type": "markdown",
   "metadata": {},
   "source": [
    "# example of how to access data from outside of the classifier, if you want it"
   ]
  },
  {
   "cell_type": "code",
   "execution_count": 7,
   "metadata": {
    "collapsed": false
   },
   "outputs": [
    {
     "data": {
      "text/html": [
       "<div>\n",
       "<table border=\"1\" class=\"dataframe\">\n",
       "  <thead>\n",
       "    <tr style=\"text-align: right;\">\n",
       "      <th></th>\n",
       "      <th>VoyageFrom</th>\n",
       "      <th>VoyageTo</th>\n",
       "      <th>ShipType</th>\n",
       "      <th>Nationality</th>\n",
       "      <th>Year</th>\n",
       "      <th>slave_logs</th>\n",
       "    </tr>\n",
       "    <tr>\n",
       "      <th>LogbookIdent</th>\n",
       "      <th></th>\n",
       "      <th></th>\n",
       "      <th></th>\n",
       "      <th></th>\n",
       "      <th></th>\n",
       "      <th></th>\n",
       "    </tr>\n",
       "  </thead>\n",
       "  <tbody>\n",
       "    <tr>\n",
       "      <th>0</th>\n",
       "      <td>Fishing grounds</td>\n",
       "      <td>NaN</td>\n",
       "      <td>NaN</td>\n",
       "      <td>Dutch</td>\n",
       "      <td>1785</td>\n",
       "      <td>0</td>\n",
       "    </tr>\n",
       "    <tr>\n",
       "      <th>1</th>\n",
       "      <td>Fishing Grounds</td>\n",
       "      <td>NaN</td>\n",
       "      <td>NaN</td>\n",
       "      <td>Dutch</td>\n",
       "      <td>1789</td>\n",
       "      <td>0</td>\n",
       "    </tr>\n",
       "    <tr>\n",
       "      <th>2</th>\n",
       "      <td>BARCELONA</td>\n",
       "      <td>CARTAGENA</td>\n",
       "      <td>FALUCHO</td>\n",
       "      <td>Spanish</td>\n",
       "      <td>1847</td>\n",
       "      <td>0</td>\n",
       "    </tr>\n",
       "    <tr>\n",
       "      <th>3</th>\n",
       "      <td>CADIZ</td>\n",
       "      <td>MELILLA</td>\n",
       "      <td>MISTICO</td>\n",
       "      <td>Spanish</td>\n",
       "      <td>1849</td>\n",
       "      <td>0</td>\n",
       "    </tr>\n",
       "    <tr>\n",
       "      <th>4</th>\n",
       "      <td>BARCELONA</td>\n",
       "      <td>MARAÑÓN</td>\n",
       "      <td>BERGANTÍN</td>\n",
       "      <td>Spanish</td>\n",
       "      <td>1848</td>\n",
       "      <td>0</td>\n",
       "    </tr>\n",
       "  </tbody>\n",
       "</table>\n",
       "</div>"
      ],
      "text/plain": [
       "                   VoyageFrom   VoyageTo   ShipType Nationality  Year  \\\n",
       "LogbookIdent                                                            \n",
       "0             Fishing grounds        NaN        NaN       Dutch  1785   \n",
       "1             Fishing Grounds        NaN        NaN       Dutch  1789   \n",
       "2                   BARCELONA  CARTAGENA    FALUCHO     Spanish  1847   \n",
       "3                       CADIZ    MELILLA    MISTICO     Spanish  1849   \n",
       "4                   BARCELONA    MARAÑÓN  BERGANTÍN     Spanish  1848   \n",
       "\n",
       "              slave_logs  \n",
       "LogbookIdent              \n",
       "0                      0  \n",
       "1                      0  \n",
       "2                      0  \n",
       "3                      0  \n",
       "4                      0  "
      ]
     },
     "execution_count": 7,
     "metadata": {},
     "output_type": "execute_result"
    }
   ],
   "source": [
    "cl.cliwoc_data.head()"
   ]
  },
  {
   "cell_type": "code",
   "execution_count": 8,
   "metadata": {
    "collapsed": false
   },
   "outputs": [
    {
     "data": {
      "text/html": [
       "<div>\n",
       "<table border=\"1\" class=\"dataframe\">\n",
       "  <thead>\n",
       "    <tr style=\"text-align: right;\">\n",
       "      <th></th>\n",
       "      <th>Nationality</th>\n",
       "      <th>ShipType</th>\n",
       "      <th>VoyageFrom</th>\n",
       "      <th>VoyageTo</th>\n",
       "      <th>Year</th>\n",
       "      <th>slave_logs</th>\n",
       "    </tr>\n",
       "  </thead>\n",
       "  <tbody>\n",
       "    <tr>\n",
       "      <th>1651</th>\n",
       "      <td>Portugal</td>\n",
       "      <td>Bergantim</td>\n",
       "      <td>Rio de Janeiro</td>\n",
       "      <td>Alicante</td>\n",
       "      <td>1816</td>\n",
       "      <td>3</td>\n",
       "    </tr>\n",
       "    <tr>\n",
       "      <th>1652</th>\n",
       "      <td>Spain</td>\n",
       "      <td>Bergantim</td>\n",
       "      <td>Bahia, port unspecified</td>\n",
       "      <td>Alicante</td>\n",
       "      <td>1816</td>\n",
       "      <td>3</td>\n",
       "    </tr>\n",
       "    <tr>\n",
       "      <th>1653</th>\n",
       "      <td>Spain</td>\n",
       "      <td>Bergantim</td>\n",
       "      <td>Bahia, port unspecified</td>\n",
       "      <td>Alicante</td>\n",
       "      <td>1816</td>\n",
       "      <td>3</td>\n",
       "    </tr>\n",
       "    <tr>\n",
       "      <th>1654</th>\n",
       "      <td>Spain</td>\n",
       "      <td>Bergantim</td>\n",
       "      <td>Bahia, port unspecified</td>\n",
       "      <td>Alicante</td>\n",
       "      <td>1816</td>\n",
       "      <td>3</td>\n",
       "    </tr>\n",
       "    <tr>\n",
       "      <th>1655</th>\n",
       "      <td>Spain</td>\n",
       "      <td>Galera</td>\n",
       "      <td>Alicante</td>\n",
       "      <td>Alicante</td>\n",
       "      <td>1817</td>\n",
       "      <td>3</td>\n",
       "    </tr>\n",
       "  </tbody>\n",
       "</table>\n",
       "</div>"
      ],
      "text/plain": [
       "     Nationality   ShipType               VoyageFrom  VoyageTo  Year  \\\n",
       "1651    Portugal  Bergantim           Rio de Janeiro  Alicante  1816   \n",
       "1652       Spain  Bergantim  Bahia, port unspecified  Alicante  1816   \n",
       "1653       Spain  Bergantim  Bahia, port unspecified  Alicante  1816   \n",
       "1654       Spain  Bergantim  Bahia, port unspecified  Alicante  1816   \n",
       "1655       Spain     Galera                 Alicante  Alicante  1817   \n",
       "\n",
       "      slave_logs  \n",
       "1651           3  \n",
       "1652           3  \n",
       "1653           3  \n",
       "1654           3  \n",
       "1655           3  "
      ]
     },
     "execution_count": 8,
     "metadata": {},
     "output_type": "execute_result"
    }
   ],
   "source": [
    "cl.slave_voyage_logs.head()"
   ]
  },
  {
   "cell_type": "code",
   "execution_count": 9,
   "metadata": {
    "collapsed": false
   },
   "outputs": [
    {
     "data": {
      "text/html": [
       "<div>\n",
       "<table border=\"1\" class=\"dataframe\">\n",
       "  <thead>\n",
       "    <tr style=\"text-align: right;\">\n",
       "      <th></th>\n",
       "      <th>Nationality</th>\n",
       "      <th>ShipType</th>\n",
       "      <th>VoyageFrom</th>\n",
       "      <th>VoyageTo</th>\n",
       "      <th>Year</th>\n",
       "      <th>slave_logs</th>\n",
       "    </tr>\n",
       "  </thead>\n",
       "  <tbody>\n",
       "    <tr>\n",
       "      <th>0</th>\n",
       "      <td>dutch</td>\n",
       "      <td>nan</td>\n",
       "      <td>fishing grounds</td>\n",
       "      <td>nan</td>\n",
       "      <td>1785</td>\n",
       "      <td>0</td>\n",
       "    </tr>\n",
       "    <tr>\n",
       "      <th>1</th>\n",
       "      <td>dutch</td>\n",
       "      <td>nan</td>\n",
       "      <td>fishing grounds</td>\n",
       "      <td>nan</td>\n",
       "      <td>1789</td>\n",
       "      <td>0</td>\n",
       "    </tr>\n",
       "    <tr>\n",
       "      <th>2</th>\n",
       "      <td>spanish</td>\n",
       "      <td>falucho</td>\n",
       "      <td>barcelona</td>\n",
       "      <td>cartagena</td>\n",
       "      <td>1847</td>\n",
       "      <td>0</td>\n",
       "    </tr>\n",
       "    <tr>\n",
       "      <th>3</th>\n",
       "      <td>spanish</td>\n",
       "      <td>mistico</td>\n",
       "      <td>cadiz</td>\n",
       "      <td>melilla</td>\n",
       "      <td>1849</td>\n",
       "      <td>0</td>\n",
       "    </tr>\n",
       "    <tr>\n",
       "      <th>4</th>\n",
       "      <td>spanish</td>\n",
       "      <td>bergantín</td>\n",
       "      <td>barcelona</td>\n",
       "      <td>marañón</td>\n",
       "      <td>1848</td>\n",
       "      <td>0</td>\n",
       "    </tr>\n",
       "  </tbody>\n",
       "</table>\n",
       "</div>"
      ],
      "text/plain": [
       "  Nationality   ShipType       VoyageFrom   VoyageTo  Year  slave_logs\n",
       "0       dutch        nan  fishing grounds        nan  1785           0\n",
       "1       dutch        nan  fishing grounds        nan  1789           0\n",
       "2     spanish    falucho        barcelona  cartagena  1847           0\n",
       "3     spanish    mistico            cadiz    melilla  1849           0\n",
       "4     spanish  bergantín        barcelona    marañón  1848           0"
      ]
     },
     "execution_count": 9,
     "metadata": {},
     "output_type": "execute_result"
    }
   ],
   "source": [
    "cl.all_data.head()"
   ]
  },
  {
   "cell_type": "code",
   "execution_count": 10,
   "metadata": {
    "collapsed": false
   },
   "outputs": [
    {
     "data": {
      "text/html": [
       "<div>\n",
       "<table border=\"1\" class=\"dataframe\">\n",
       "  <thead>\n",
       "    <tr style=\"text-align: right;\">\n",
       "      <th></th>\n",
       "      <th>Nationality</th>\n",
       "      <th>ShipType</th>\n",
       "      <th>VoyageFrom</th>\n",
       "      <th>VoyageTo</th>\n",
       "      <th>Year</th>\n",
       "      <th>slave_logs</th>\n",
       "    </tr>\n",
       "  </thead>\n",
       "  <tbody>\n",
       "    <tr>\n",
       "      <th>34401</th>\n",
       "      <td>portugal</td>\n",
       "      <td>brig</td>\n",
       "      <td>alicante</td>\n",
       "      <td>alicante</td>\n",
       "      <td>1849</td>\n",
       "      <td>3</td>\n",
       "    </tr>\n",
       "    <tr>\n",
       "      <th>34402</th>\n",
       "      <td>france</td>\n",
       "      <td>brig</td>\n",
       "      <td>alicante</td>\n",
       "      <td>alicante</td>\n",
       "      <td>1850</td>\n",
       "      <td>3</td>\n",
       "    </tr>\n",
       "    <tr>\n",
       "      <th>34403</th>\n",
       "      <td>spain</td>\n",
       "      <td>brig</td>\n",
       "      <td>havana</td>\n",
       "      <td>alicante</td>\n",
       "      <td>1851</td>\n",
       "      <td>3</td>\n",
       "    </tr>\n",
       "    <tr>\n",
       "      <th>34404</th>\n",
       "      <td>portugal</td>\n",
       "      <td>patacho</td>\n",
       "      <td>alicante</td>\n",
       "      <td>alicante</td>\n",
       "      <td>1851</td>\n",
       "      <td>3</td>\n",
       "    </tr>\n",
       "    <tr>\n",
       "      <th>34405</th>\n",
       "      <td>spain</td>\n",
       "      <td>brig</td>\n",
       "      <td>alicante</td>\n",
       "      <td>alicante</td>\n",
       "      <td>1851</td>\n",
       "      <td>3</td>\n",
       "    </tr>\n",
       "  </tbody>\n",
       "</table>\n",
       "</div>"
      ],
      "text/plain": [
       "      Nationality ShipType VoyageFrom  VoyageTo  Year  slave_logs\n",
       "34401    portugal     brig   alicante  alicante  1849           3\n",
       "34402      france     brig   alicante  alicante  1850           3\n",
       "34403       spain     brig     havana  alicante  1851           3\n",
       "34404    portugal  patacho   alicante  alicante  1851           3\n",
       "34405       spain     brig   alicante  alicante  1851           3"
      ]
     },
     "execution_count": 10,
     "metadata": {},
     "output_type": "execute_result"
    }
   ],
   "source": [
    "cl.all_data.tail()"
   ]
  },
  {
   "cell_type": "code",
   "execution_count": null,
   "metadata": {
    "collapsed": true
   },
   "outputs": [],
   "source": []
  }
 ],
 "metadata": {
  "kernelspec": {
   "display_name": "Python 3",
   "language": "python",
   "name": "python3"
  },
  "language_info": {
   "codemirror_mode": {
    "name": "ipython",
    "version": 3
   },
   "file_extension": ".py",
   "mimetype": "text/x-python",
   "name": "python",
   "nbconvert_exporter": "python",
   "pygments_lexer": "ipython3",
   "version": "3.5.1"
  }
 },
 "nbformat": 4,
 "nbformat_minor": 0
}
