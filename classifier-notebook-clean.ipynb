{
 "cells": [
  {
   "cell_type": "code",
   "execution_count": 1,
   "metadata": {
    "collapsed": true
   },
   "outputs": [],
   "source": [
    "import pandas as pd\n",
    "import numpy as np\n",
    "from sklearn import preprocessing\n",
    "from sklearn.naive_bayes import MultinomialNB\n",
    "\n",
    "import exploringShipLogbooks.wordCount as wc\n",
    "from exploringShipLogbooks.basic_utils import extract_logbook_data\n",
    "from exploringShipLogbooks.basic_utils import isolate_columns\n",
    "from exploringShipLogbooks.basic_utils import isolate_training_data\n",
    "\n",
    "from exploringShipLogbooks.config import *"
   ]
  },
  {
   "cell_type": "code",
   "execution_count": 2,
   "metadata": {
    "collapsed": false
   },
   "outputs": [],
   "source": [
    "class LogbookClassifier:\n",
    "\n",
    "    def __init__(self):\n",
    "        self.classifier = MultinomialNB(alpha=1.0,\n",
    "                                        class_prior=None,\n",
    "                                        fit_prior=True)\n",
    "\n",
    "    def load_data(self, data_sets):\n",
    "\n",
    "        if 'slave_voyages' in data_sets:\n",
    "            file_name = './exploringShipLogbooks/data/tastdb-exp-2010'\n",
    "            self.slave_voyage_logs = pd.read_pickle(file_name)\n",
    "\n",
    "        if 'cliwoc' in data_sets:\n",
    "            self.cliwoc_data = extract_logbook_data('CLIWOC15.csv')\n",
    "\n",
    "        if 'slave_voyages' not in data_sets and 'cliwoc' not in data_sets:\n",
    "            print('Warning: no data loaded. Currently data extraction is',\n",
    "                  ' only implemented for cliwoc15 data (cliwoc) and slave',\n",
    "                  'voyages logs (slave_voyages).')\n",
    "\n",
    "    def find_logs_that_mention_slaves(self):\n",
    "        slave_mask = wc.count_key_words(self.cliwoc_data, text_columns, slave_words)\n",
    "\n",
    "    def find_training_data(criteria):\n",
    "        \"\"\"\n",
    "\n",
    "        \"\"\"\n",
    "        mask = isolate_training_data(cliwoc_data, criteria)\n",
    "\n",
    "        return mask\n",
    "\n",
    "    def join_data(self):\n",
    "\n",
    "        # isolate desired columns from cliwoc data\n",
    "        self.cliwoc_data = isolate_columns(cliwoc_data, desired_columns)\n",
    "\n",
    "        # drop slave_voyage_logs with empty year column\n",
    "        year_ind = ~(self.slave_voyage_logs['yeardep'].isnull())\n",
    "        self.slave_voyage_logs = self.slave_voyage_logs[year_ind]\n",
    "\n",
    "        # drop slave_voyage data from before beginning of cliwoc data\n",
    "        ind = (self.slave_voyage_logs['yeardep'] > self.cliwoc_data['Year'].min()) \\\n",
    "            & (self.slave_voyage_logs['yeardep'] < self.cliwoc_data['Year'].max())\n",
    "        self.slave_voyage_logs = self.slave_voyage_logs[ind]\n",
    "\n",
    "        # clean slave_voyage logs to have columns that match cliwoc\n",
    "        slave_voyage_desired_cols = list(slave_voyage_conversions.keys())\n",
    "        slave_voyage_logs = isolate_columns(self.slave_voyage_logs,\n",
    "                                            slave_voyage_desired_cols)\n",
    "\n",
    "        slave_voyage_logs.rename(columns=slave_voyage_conversions,\n",
    "                                 inplace=True)\n",
    "\n",
    "        cliwoc_data_indices = pd.Series(self.cliwoc_data.index)\n",
    "\n",
    "        slave_data_indices = pd.Series((range(len(self.slave_voyage_logs))\n",
    "                                        + (self.cliwoc_data.tail(1).index[0]+1)))\n",
    "\n",
    "        self.all_data = all_data = pd.concat([cliwoc_data, slave_voyage_logs],\n",
    "                                             ignore_index=True)\n",
    "\n",
    "        return cliwoc_indices, slave_voyages_indices"
   ]
  },
  {
   "cell_type": "code",
   "execution_count": 3,
   "metadata": {
    "collapsed": false
   },
   "outputs": [
    {
     "name": "stderr",
     "output_type": "stream",
     "text": [
      "C:\\Users\\Emma\\Anaconda3\\lib\\site-packages\\IPython\\core\\interactiveshell.py:3066: DtypeWarning: Columns (5,6,7,8,11,13,18,19,23,24,25,26,28,29,30,34,35,38,43,44,46,73,77,81,82,84,85,87,88,94,96,97,98,99,111,114,116,119,120,122,124,125,127,129,131,133,135,137,140) have mixed types. Specify dtype option on import or set low_memory=False.\n",
      "  exec(code_obj, self.user_global_ns, self.user_ns)\n"
     ]
    }
   ],
   "source": [
    "cl = LogbookClassifier()\n",
    "cl.load_data(['cliwoc','slave_voyages'])"
   ]
  },
  {
   "cell_type": "code",
   "execution_count": null,
   "metadata": {
    "collapsed": false
   },
   "outputs": [],
   "source": [
    "slave_mask = cl.find_logs_that_mention_slaves()\n",
    "training_mask_neg = cl.find_training_data(self, {'ShipName': non_slave_ships})\n",
    "\n",
    "cl.join_data()"
   ]
  },
  {
   "cell_type": "code",
   "execution_count": null,
   "metadata": {
    "collapsed": true
   },
   "outputs": [],
   "source": []
  }
 ],
 "metadata": {
  "kernelspec": {
   "display_name": "Python 3",
   "language": "python",
   "name": "python3"
  },
  "language_info": {
   "codemirror_mode": {
    "name": "ipython",
    "version": 3
   },
   "file_extension": ".py",
   "mimetype": "text/x-python",
   "name": "python",
   "nbconvert_exporter": "python",
   "pygments_lexer": "ipython3",
   "version": "3.5.1"
  }
 },
 "nbformat": 4,
 "nbformat_minor": 0
}
