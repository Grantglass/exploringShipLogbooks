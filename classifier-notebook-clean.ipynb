{
 "cells": [
  {
   "cell_type": "code",
   "execution_count": 1,
   "metadata": {
    "collapsed": true
   },
   "outputs": [],
   "source": [
    "import pandas as pd\n",
    "import numpy as np\n",
    "from sklearn import preprocessing\n",
    "from sklearn.naive_bayes import MultinomialNB\n",
    "\n",
    "import exploringShipLogbooks.wordCount as wc\n",
    "from exploringShipLogbooks.basic_utils import extract_logbook_data\n",
    "from exploringShipLogbooks.basic_utils import isolate_columns\n",
    "from exploringShipLogbooks.basic_utils import isolate_training_data\n",
    "\n",
    "from exploringShipLogbooks.config import *"
   ]
  },
  {
   "cell_type": "markdown",
   "metadata": {},
   "source": [
    "# code that has been tested\n",
    "- this should all run :) the rest of the functions still need to be made"
   ]
  },
  {
   "cell_type": "code",
   "execution_count": 8,
   "metadata": {
    "collapsed": true
   },
   "outputs": [],
   "source": [
    "from exploringShipLogbooks.classification import LogbookClassifier\n"
   ]
  },
  {
   "cell_type": "code",
   "execution_count": 9,
   "metadata": {
    "collapsed": false
   },
   "outputs": [
    {
     "name": "stderr",
     "output_type": "stream",
     "text": [
      "C:\\Users\\Emma\\Anaconda3\\lib\\site-packages\\IPython\\core\\interactiveshell.py:3066: DtypeWarning: Columns (5,6,7,8,11,13,18,19,23,24,25,26,28,29,30,34,35,38,43,44,46,73,77,81,82,84,85,87,88,94,96,97,98,99,111,114,116,119,120,122,124,125,127,129,131,133,135,137,140) have mixed types. Specify dtype option on import or set low_memory=False.\n",
      "  exec(code_obj, self.user_global_ns, self.user_ns)\n"
     ]
    }
   ],
   "source": [
    "cl = LogbookClassifier()\n",
    "cl.load_data(['cliwoc','slave_voyages'])\n",
    "\n",
    "#slave_mask = cl.find_logs_that_mention_slaves()\n",
    "training_mask_neg = cl.find_training_data({'ShipName': non_slave_ships})\n",
    "\n",
    "cliwoc_indices, slave_voyage_indices = cl.join_data()"
   ]
  },
  {
   "cell_type": "markdown",
   "metadata": {},
   "source": [
    "# example of how to access data from outside of the classifier, if you want it"
   ]
  },
  {
   "cell_type": "code",
   "execution_count": 10,
   "metadata": {
    "collapsed": false
   },
   "outputs": [
    {
     "data": {
      "text/html": [
       "<div>\n",
       "<table border=\"1\" class=\"dataframe\">\n",
       "  <thead>\n",
       "    <tr style=\"text-align: right;\">\n",
       "      <th></th>\n",
       "      <th>VoyageFrom</th>\n",
       "      <th>VoyageTo</th>\n",
       "      <th>ShipType</th>\n",
       "      <th>Nationality</th>\n",
       "      <th>Year</th>\n",
       "    </tr>\n",
       "  </thead>\n",
       "  <tbody>\n",
       "    <tr>\n",
       "      <th>0</th>\n",
       "      <td>ISLA DE ALBIMOR EN LAS GALAPAGOS</td>\n",
       "      <td>PACOCHA</td>\n",
       "      <td>FRAGATA</td>\n",
       "      <td>Spanish</td>\n",
       "      <td>1800</td>\n",
       "    </tr>\n",
       "    <tr>\n",
       "      <th>1</th>\n",
       "      <td>DESCONOCIDO (CREO QUE ACAPULCO)</td>\n",
       "      <td>SAN BLAS</td>\n",
       "      <td>PAQUEBOTE</td>\n",
       "      <td>Spanish</td>\n",
       "      <td>1790</td>\n",
       "    </tr>\n",
       "    <tr>\n",
       "      <th>2</th>\n",
       "      <td>DESCONOCIDO (CREO QUE ACAPULCO)</td>\n",
       "      <td>SAN BLAS</td>\n",
       "      <td>PAQUEBOTE</td>\n",
       "      <td>Spanish</td>\n",
       "      <td>1790</td>\n",
       "    </tr>\n",
       "    <tr>\n",
       "      <th>3</th>\n",
       "      <td>DESCONOCIDO (CREO QUE ACAPULCO)</td>\n",
       "      <td>SAN BLAS</td>\n",
       "      <td>PAQUEBOTE</td>\n",
       "      <td>Spanish</td>\n",
       "      <td>1790</td>\n",
       "    </tr>\n",
       "    <tr>\n",
       "      <th>4</th>\n",
       "      <td>DESCONOCIDO (CREO QUE ACAPULCO)</td>\n",
       "      <td>SAN BLAS</td>\n",
       "      <td>PAQUEBOTE</td>\n",
       "      <td>Spanish</td>\n",
       "      <td>1790</td>\n",
       "    </tr>\n",
       "  </tbody>\n",
       "</table>\n",
       "</div>"
      ],
      "text/plain": [
       "                         VoyageFrom  VoyageTo   ShipType Nationality  Year\n",
       "0  ISLA DE ALBIMOR EN LAS GALAPAGOS   PACOCHA    FRAGATA     Spanish  1800\n",
       "1   DESCONOCIDO (CREO QUE ACAPULCO)  SAN BLAS  PAQUEBOTE     Spanish  1790\n",
       "2   DESCONOCIDO (CREO QUE ACAPULCO)  SAN BLAS  PAQUEBOTE     Spanish  1790\n",
       "3   DESCONOCIDO (CREO QUE ACAPULCO)  SAN BLAS  PAQUEBOTE     Spanish  1790\n",
       "4   DESCONOCIDO (CREO QUE ACAPULCO)  SAN BLAS  PAQUEBOTE     Spanish  1790"
      ]
     },
     "execution_count": 10,
     "metadata": {},
     "output_type": "execute_result"
    }
   ],
   "source": [
    "cl.cliwoc_data.head()"
   ]
  },
  {
   "cell_type": "code",
   "execution_count": 11,
   "metadata": {
    "collapsed": false
   },
   "outputs": [
    {
     "data": {
      "text/html": [
       "<div>\n",
       "<table border=\"1\" class=\"dataframe\">\n",
       "  <thead>\n",
       "    <tr style=\"text-align: right;\">\n",
       "      <th></th>\n",
       "      <th>voyageid</th>\n",
       "      <th>evgreen</th>\n",
       "      <th>shipname</th>\n",
       "      <th>placcons</th>\n",
       "      <th>constreg</th>\n",
       "      <th>yrcons</th>\n",
       "      <th>placreg</th>\n",
       "      <th>regisreg</th>\n",
       "      <th>yrreg</th>\n",
       "      <th>national</th>\n",
       "      <th>...</th>\n",
       "      <th>adlt2imp</th>\n",
       "      <th>chil2imp</th>\n",
       "      <th>male2imp</th>\n",
       "      <th>feml2imp</th>\n",
       "      <th>filter_.</th>\n",
       "      <th>ncartot</th>\n",
       "      <th>pctemb</th>\n",
       "      <th>slastot</th>\n",
       "      <th>pctdis</th>\n",
       "      <th>datepl</th>\n",
       "    </tr>\n",
       "  </thead>\n",
       "  <tbody>\n",
       "    <tr>\n",
       "      <th>1</th>\n",
       "      <td>1</td>\n",
       "      <td>1</td>\n",
       "      <td>Pastora de Lima                               ...</td>\n",
       "      <td>Alicante</td>\n",
       "      <td>Spain</td>\n",
       "      <td>NaN</td>\n",
       "      <td>Alicante</td>\n",
       "      <td>Spain</td>\n",
       "      <td>NaN</td>\n",
       "      <td>Portugal</td>\n",
       "      <td>...</td>\n",
       "      <td>NaN</td>\n",
       "      <td>NaN</td>\n",
       "      <td>NaN</td>\n",
       "      <td>NaN</td>\n",
       "      <td>Selected</td>\n",
       "      <td>NaN</td>\n",
       "      <td>NaN</td>\n",
       "      <td>NaN</td>\n",
       "      <td>NaN</td>\n",
       "      <td>Invoice date at port of departure</td>\n",
       "    </tr>\n",
       "    <tr>\n",
       "      <th>2</th>\n",
       "      <td>2</td>\n",
       "      <td>1</td>\n",
       "      <td>Tibério                                       ...</td>\n",
       "      <td>Alicante</td>\n",
       "      <td>Spain</td>\n",
       "      <td>NaN</td>\n",
       "      <td>Alicante</td>\n",
       "      <td>Spain</td>\n",
       "      <td>NaN</td>\n",
       "      <td>Spain</td>\n",
       "      <td>...</td>\n",
       "      <td>NaN</td>\n",
       "      <td>NaN</td>\n",
       "      <td>NaN</td>\n",
       "      <td>NaN</td>\n",
       "      <td>Not Selected</td>\n",
       "      <td>NaN</td>\n",
       "      <td>NaN</td>\n",
       "      <td>NaN</td>\n",
       "      <td>NaN</td>\n",
       "      <td>Invoice date at port of departure</td>\n",
       "    </tr>\n",
       "    <tr>\n",
       "      <th>3</th>\n",
       "      <td>3</td>\n",
       "      <td>1</td>\n",
       "      <td>Paquete Real                                  ...</td>\n",
       "      <td>Alicante</td>\n",
       "      <td>Spain</td>\n",
       "      <td>NaN</td>\n",
       "      <td>Alicante</td>\n",
       "      <td>Spain</td>\n",
       "      <td>NaN</td>\n",
       "      <td>Spain</td>\n",
       "      <td>...</td>\n",
       "      <td>NaN</td>\n",
       "      <td>NaN</td>\n",
       "      <td>NaN</td>\n",
       "      <td>NaN</td>\n",
       "      <td>Selected</td>\n",
       "      <td>NaN</td>\n",
       "      <td>NaN</td>\n",
       "      <td>NaN</td>\n",
       "      <td>NaN</td>\n",
       "      <td>Guia de despacho (added)</td>\n",
       "    </tr>\n",
       "    <tr>\n",
       "      <th>4</th>\n",
       "      <td>4</td>\n",
       "      <td>1</td>\n",
       "      <td>Bom Caminho                                   ...</td>\n",
       "      <td>Alicante</td>\n",
       "      <td>Spain</td>\n",
       "      <td>NaN</td>\n",
       "      <td>Alicante</td>\n",
       "      <td>Spain</td>\n",
       "      <td>NaN</td>\n",
       "      <td>Spain</td>\n",
       "      <td>...</td>\n",
       "      <td>NaN</td>\n",
       "      <td>NaN</td>\n",
       "      <td>NaN</td>\n",
       "      <td>NaN</td>\n",
       "      <td>Selected</td>\n",
       "      <td>NaN</td>\n",
       "      <td>NaN</td>\n",
       "      <td>NaN</td>\n",
       "      <td>NaN</td>\n",
       "      <td>Invoice date at port of departure</td>\n",
       "    </tr>\n",
       "    <tr>\n",
       "      <th>5</th>\n",
       "      <td>5</td>\n",
       "      <td>1</td>\n",
       "      <td>Benigretta                                    ...</td>\n",
       "      <td>Alicante</td>\n",
       "      <td>Spain</td>\n",
       "      <td>NaN</td>\n",
       "      <td>Alicante</td>\n",
       "      <td>Spain</td>\n",
       "      <td>NaN</td>\n",
       "      <td>Spain</td>\n",
       "      <td>...</td>\n",
       "      <td>NaN</td>\n",
       "      <td>NaN</td>\n",
       "      <td>NaN</td>\n",
       "      <td>NaN</td>\n",
       "      <td>Not Selected</td>\n",
       "      <td>NaN</td>\n",
       "      <td>NaN</td>\n",
       "      <td>NaN</td>\n",
       "      <td>NaN</td>\n",
       "      <td>Invoice date at port of departure</td>\n",
       "    </tr>\n",
       "  </tbody>\n",
       "</table>\n",
       "<p>5 rows × 279 columns</p>\n",
       "</div>"
      ],
      "text/plain": [
       "   voyageid  evgreen                                           shipname  \\\n",
       "1         1        1  Pastora de Lima                               ...   \n",
       "2         2        1  Tibério                                       ...   \n",
       "3         3        1  Paquete Real                                  ...   \n",
       "4         4        1  Bom Caminho                                   ...   \n",
       "5         5        1  Benigretta                                    ...   \n",
       "\n",
       "   placcons constreg  yrcons   placreg regisreg  yrreg  national  \\\n",
       "1  Alicante    Spain     NaN  Alicante    Spain    NaN  Portugal   \n",
       "2  Alicante    Spain     NaN  Alicante    Spain    NaN     Spain   \n",
       "3  Alicante    Spain     NaN  Alicante    Spain    NaN     Spain   \n",
       "4  Alicante    Spain     NaN  Alicante    Spain    NaN     Spain   \n",
       "5  Alicante    Spain     NaN  Alicante    Spain    NaN     Spain   \n",
       "\n",
       "                 ...                 adlt2imp  chil2imp male2imp  feml2imp  \\\n",
       "1                ...                      NaN       NaN      NaN       NaN   \n",
       "2                ...                      NaN       NaN      NaN       NaN   \n",
       "3                ...                      NaN       NaN      NaN       NaN   \n",
       "4                ...                      NaN       NaN      NaN       NaN   \n",
       "5                ...                      NaN       NaN      NaN       NaN   \n",
       "\n",
       "       filter_. ncartot pctemb slastot pctdis  \\\n",
       "1      Selected     NaN    NaN     NaN    NaN   \n",
       "2  Not Selected     NaN    NaN     NaN    NaN   \n",
       "3      Selected     NaN    NaN     NaN    NaN   \n",
       "4      Selected     NaN    NaN     NaN    NaN   \n",
       "5  Not Selected     NaN    NaN     NaN    NaN   \n",
       "\n",
       "                              datepl  \n",
       "1  Invoice date at port of departure  \n",
       "2  Invoice date at port of departure  \n",
       "3           Guia de despacho (added)  \n",
       "4  Invoice date at port of departure  \n",
       "5  Invoice date at port of departure  \n",
       "\n",
       "[5 rows x 279 columns]"
      ]
     },
     "execution_count": 11,
     "metadata": {},
     "output_type": "execute_result"
    }
   ],
   "source": [
    "cl.slave_voyage_logs.head()"
   ]
  },
  {
   "cell_type": "code",
   "execution_count": 7,
   "metadata": {
    "collapsed": false
   },
   "outputs": [
    {
     "data": {
      "text/html": [
       "<div>\n",
       "<table border=\"1\" class=\"dataframe\">\n",
       "  <thead>\n",
       "    <tr style=\"text-align: right;\">\n",
       "      <th></th>\n",
       "      <th>Nationality</th>\n",
       "      <th>ShipType</th>\n",
       "      <th>VoyageFrom</th>\n",
       "      <th>VoyageTo</th>\n",
       "      <th>Year</th>\n",
       "    </tr>\n",
       "  </thead>\n",
       "  <tbody>\n",
       "    <tr>\n",
       "      <th>0</th>\n",
       "      <td>Spanish</td>\n",
       "      <td>FRAGATA</td>\n",
       "      <td>ISLA DE ALBIMOR EN LAS GALAPAGOS</td>\n",
       "      <td>PACOCHA</td>\n",
       "      <td>1800</td>\n",
       "    </tr>\n",
       "    <tr>\n",
       "      <th>1</th>\n",
       "      <td>Spanish</td>\n",
       "      <td>PAQUEBOTE</td>\n",
       "      <td>DESCONOCIDO (CREO QUE ACAPULCO)</td>\n",
       "      <td>SAN BLAS</td>\n",
       "      <td>1790</td>\n",
       "    </tr>\n",
       "    <tr>\n",
       "      <th>2</th>\n",
       "      <td>Spanish</td>\n",
       "      <td>PAQUEBOTE</td>\n",
       "      <td>DESCONOCIDO (CREO QUE ACAPULCO)</td>\n",
       "      <td>SAN BLAS</td>\n",
       "      <td>1790</td>\n",
       "    </tr>\n",
       "    <tr>\n",
       "      <th>3</th>\n",
       "      <td>Spanish</td>\n",
       "      <td>PAQUEBOTE</td>\n",
       "      <td>DESCONOCIDO (CREO QUE ACAPULCO)</td>\n",
       "      <td>SAN BLAS</td>\n",
       "      <td>1790</td>\n",
       "    </tr>\n",
       "    <tr>\n",
       "      <th>4</th>\n",
       "      <td>Spanish</td>\n",
       "      <td>PAQUEBOTE</td>\n",
       "      <td>DESCONOCIDO (CREO QUE ACAPULCO)</td>\n",
       "      <td>SAN BLAS</td>\n",
       "      <td>1790</td>\n",
       "    </tr>\n",
       "  </tbody>\n",
       "</table>\n",
       "</div>"
      ],
      "text/plain": [
       "  Nationality   ShipType                        VoyageFrom  VoyageTo  Year\n",
       "0     Spanish    FRAGATA  ISLA DE ALBIMOR EN LAS GALAPAGOS   PACOCHA  1800\n",
       "1     Spanish  PAQUEBOTE   DESCONOCIDO (CREO QUE ACAPULCO)  SAN BLAS  1790\n",
       "2     Spanish  PAQUEBOTE   DESCONOCIDO (CREO QUE ACAPULCO)  SAN BLAS  1790\n",
       "3     Spanish  PAQUEBOTE   DESCONOCIDO (CREO QUE ACAPULCO)  SAN BLAS  1790\n",
       "4     Spanish  PAQUEBOTE   DESCONOCIDO (CREO QUE ACAPULCO)  SAN BLAS  1790"
      ]
     },
     "execution_count": 7,
     "metadata": {},
     "output_type": "execute_result"
    }
   ],
   "source": [
    "cl.all_data.head()"
   ]
  },
  {
   "cell_type": "code",
   "execution_count": null,
   "metadata": {
    "collapsed": true
   },
   "outputs": [],
   "source": []
  }
 ],
 "metadata": {
  "kernelspec": {
   "display_name": "Python 3",
   "language": "python",
   "name": "python3"
  },
  "language_info": {
   "codemirror_mode": {
    "name": "ipython",
    "version": 3
   },
   "file_extension": ".py",
   "mimetype": "text/x-python",
   "name": "python",
   "nbconvert_exporter": "python",
   "pygments_lexer": "ipython3",
   "version": "3.5.1"
  }
 },
 "nbformat": 4,
 "nbformat_minor": 0
}
