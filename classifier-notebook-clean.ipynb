{
 "cells": [
  {
   "cell_type": "code",
   "execution_count": 1,
   "metadata": {
    "collapsed": true
   },
   "outputs": [],
   "source": [
    "import pandas as pd\n",
    "import numpy as np\n",
    "from sklearn import preprocessing\n",
    "from sklearn.naive_bayes import MultinomialNB\n",
    "\n",
    "import exploringShipLogbooks.wordCount as wc\n",
    "from exploringShipLogbooks.basic_utils import extract_logbook_data\n",
    "from exploringShipLogbooks.basic_utils import isolate_columns\n",
    "from exploringShipLogbooks.basic_utils import isolate_training_data\n",
    "\n",
    "from exploringShipLogbooks.config import *"
   ]
  },
  {
   "cell_type": "markdown",
   "metadata": {},
   "source": [
    "# code that has been tested\n",
    "- this should all run :) the rest of the functions still need to be made"
   ]
  },
  {
   "cell_type": "code",
   "execution_count": 2,
   "metadata": {
    "collapsed": true
   },
   "outputs": [],
   "source": [
    "from exploringShipLogbooks.classification import LogbookClassifier"
   ]
  },
  {
   "cell_type": "code",
   "execution_count": 3,
   "metadata": {
    "collapsed": false
   },
   "outputs": [
    {
     "name": "stderr",
     "output_type": "stream",
     "text": [
      "C:\\Users\\Emma\\Anaconda3\\lib\\site-packages\\IPython\\core\\interactiveshell.py:3066: DtypeWarning: Columns (5,6,7,8,11,13,18,19,23,24,25,26,28,29,30,34,35,38,43,44,46,73,77,81,82,84,85,87,88,94,96,97,98,99,111,114,116,119,120,122,124,125,127,129,131,133,135,137,140) have mixed types. Specify dtype option on import or set low_memory=False.\n",
      "  exec(code_obj, self.user_global_ns, self.user_ns)\n"
     ]
    },
    {
     "ename": "KeyError",
     "evalue": "('slave_logs', ' is not a column in the dataframe')",
     "output_type": "error",
     "traceback": [
      "\u001b[1;31m---------------------------------------------------------------------------\u001b[0m",
      "\u001b[1;31mValueError\u001b[0m                                Traceback (most recent call last)",
      "\u001b[1;32mC:\\Users\\Emma\\Documents\\Classes\\winter 16\\exploring-ship-logbooks\\exploringShipLogbooks\\basic_utils.py\u001b[0m in \u001b[0;36mremove_undesired_columns\u001b[1;34m(df, desired_columns)\u001b[0m\n\u001b[0;32m     70\u001b[0m         \u001b[1;32mtry\u001b[0m\u001b[1;33m:\u001b[0m\u001b[1;33m\u001b[0m\u001b[0m\n\u001b[1;32m---> 71\u001b[1;33m             \u001b[0mundesired_columns\u001b[0m\u001b[1;33m.\u001b[0m\u001b[0mremove\u001b[0m\u001b[1;33m(\u001b[0m\u001b[0mvalue\u001b[0m\u001b[1;33m)\u001b[0m\u001b[1;33m\u001b[0m\u001b[0m\n\u001b[0m\u001b[0;32m     72\u001b[0m         \u001b[1;32mexcept\u001b[0m\u001b[1;33m:\u001b[0m\u001b[1;33m\u001b[0m\u001b[0m\n",
      "\u001b[1;31mValueError\u001b[0m: list.remove(x): x not in list",
      "\nDuring handling of the above exception, another exception occurred:\n",
      "\u001b[1;31mKeyError\u001b[0m                                  Traceback (most recent call last)",
      "\u001b[1;32m<ipython-input-3-f1d40969acf5>\u001b[0m in \u001b[0;36m<module>\u001b[1;34m()\u001b[0m\n\u001b[0;32m      5\u001b[0m \u001b[0mtraining_mask_neg\u001b[0m \u001b[1;33m=\u001b[0m \u001b[0mcl\u001b[0m\u001b[1;33m.\u001b[0m\u001b[0mfind_training_data\u001b[0m\u001b[1;33m(\u001b[0m\u001b[1;33m{\u001b[0m\u001b[1;34m'ShipName'\u001b[0m\u001b[1;33m:\u001b[0m \u001b[0mnon_slave_ships\u001b[0m\u001b[1;33m}\u001b[0m\u001b[1;33m)\u001b[0m\u001b[1;33m\u001b[0m\u001b[0m\n\u001b[0;32m      6\u001b[0m \u001b[1;33m\u001b[0m\u001b[0m\n\u001b[1;32m----> 7\u001b[1;33m \u001b[0mcliwoc_indices\u001b[0m\u001b[1;33m,\u001b[0m \u001b[0mslave_voyage_indices\u001b[0m \u001b[1;33m=\u001b[0m \u001b[0mcl\u001b[0m\u001b[1;33m.\u001b[0m\u001b[0mjoin_data\u001b[0m\u001b[1;33m(\u001b[0m\u001b[1;33m)\u001b[0m\u001b[1;33m\u001b[0m\u001b[0m\n\u001b[0m",
      "\u001b[1;32mC:\\Users\\Emma\\Documents\\Classes\\winter 16\\exploring-ship-logbooks\\exploringShipLogbooks\\classification.py\u001b[0m in \u001b[0;36mjoin_data\u001b[1;34m(self)\u001b[0m\n\u001b[0;32m     47\u001b[0m \u001b[1;33m\u001b[0m\u001b[0m\n\u001b[0;32m     48\u001b[0m         \u001b[1;31m# isolate desired columns from cliwoc data\u001b[0m\u001b[1;33m\u001b[0m\u001b[1;33m\u001b[0m\u001b[0m\n\u001b[1;32m---> 49\u001b[1;33m         \u001b[0mself\u001b[0m\u001b[1;33m.\u001b[0m\u001b[0mcliwoc_data\u001b[0m \u001b[1;33m=\u001b[0m \u001b[0misolate_columns\u001b[0m\u001b[1;33m(\u001b[0m\u001b[0mself\u001b[0m\u001b[1;33m.\u001b[0m\u001b[0mcliwoc_data\u001b[0m\u001b[1;33m,\u001b[0m \u001b[0mdesired_columns\u001b[0m\u001b[1;33m)\u001b[0m\u001b[1;33m\u001b[0m\u001b[0m\n\u001b[0m\u001b[0;32m     50\u001b[0m \u001b[1;33m\u001b[0m\u001b[0m\n\u001b[0;32m     51\u001b[0m         \u001b[1;31m# drop slave_voyage_logs with empty year column\u001b[0m\u001b[1;33m\u001b[0m\u001b[1;33m\u001b[0m\u001b[0m\n",
      "\u001b[1;32mC:\\Users\\Emma\\Documents\\Classes\\winter 16\\exploring-ship-logbooks\\exploringShipLogbooks\\basic_utils.py\u001b[0m in \u001b[0;36misolate_columns\u001b[1;34m(df, desired_columns)\u001b[0m\n\u001b[0;32m     44\u001b[0m     \u001b[1;31m# from the list\u001b[0m\u001b[1;33m\u001b[0m\u001b[1;33m\u001b[0m\u001b[0m\n\u001b[0;32m     45\u001b[0m \u001b[1;33m\u001b[0m\u001b[0m\n\u001b[1;32m---> 46\u001b[1;33m     \u001b[0mundesired_columns\u001b[0m \u001b[1;33m=\u001b[0m \u001b[0mremove_undesired_columns\u001b[0m\u001b[1;33m(\u001b[0m\u001b[0mdf\u001b[0m\u001b[1;33m,\u001b[0m \u001b[0mdesired_columns\u001b[0m\u001b[1;33m)\u001b[0m\u001b[1;33m\u001b[0m\u001b[0m\n\u001b[0m\u001b[0;32m     47\u001b[0m \u001b[1;33m\u001b[0m\u001b[0m\n\u001b[0;32m     48\u001b[0m     \u001b[0mdf\u001b[0m \u001b[1;33m=\u001b[0m \u001b[0mdf\u001b[0m\u001b[1;33m.\u001b[0m\u001b[0mdrop\u001b[0m\u001b[1;33m(\u001b[0m\u001b[0mundesired_columns\u001b[0m\u001b[1;33m,\u001b[0m \u001b[0maxis\u001b[0m\u001b[1;33m=\u001b[0m\u001b[1;36m1\u001b[0m\u001b[1;33m)\u001b[0m\u001b[1;33m\u001b[0m\u001b[0m\n",
      "\u001b[1;32mC:\\Users\\Emma\\Documents\\Classes\\winter 16\\exploring-ship-logbooks\\exploringShipLogbooks\\basic_utils.py\u001b[0m in \u001b[0;36mremove_undesired_columns\u001b[1;34m(df, desired_columns)\u001b[0m\n\u001b[0;32m     71\u001b[0m             \u001b[0mundesired_columns\u001b[0m\u001b[1;33m.\u001b[0m\u001b[0mremove\u001b[0m\u001b[1;33m(\u001b[0m\u001b[0mvalue\u001b[0m\u001b[1;33m)\u001b[0m\u001b[1;33m\u001b[0m\u001b[0m\n\u001b[0;32m     72\u001b[0m         \u001b[1;32mexcept\u001b[0m\u001b[1;33m:\u001b[0m\u001b[1;33m\u001b[0m\u001b[0m\n\u001b[1;32m---> 73\u001b[1;33m             \u001b[1;32mraise\u001b[0m \u001b[0mKeyError\u001b[0m\u001b[1;33m(\u001b[0m\u001b[0mvalue\u001b[0m\u001b[1;33m,\u001b[0m \u001b[1;34m\" is not a column in the dataframe\"\u001b[0m\u001b[1;33m)\u001b[0m\u001b[1;33m\u001b[0m\u001b[0m\n\u001b[0m\u001b[0;32m     74\u001b[0m \u001b[1;33m\u001b[0m\u001b[0m\n\u001b[0;32m     75\u001b[0m     \u001b[1;32mreturn\u001b[0m \u001b[0mundesired_columns\u001b[0m\u001b[1;33m\u001b[0m\u001b[0m\n",
      "\u001b[1;31mKeyError\u001b[0m: ('slave_logs', ' is not a column in the dataframe')"
     ]
    }
   ],
   "source": [
    "cl = LogbookClassifier()\n",
    "cl.load_data(['cliwoc','slave_voyages'])\n",
    "\n",
    "#slave_mask = cl.find_logs_that_mention_slaves()\n",
    "training_mask_neg = cl.find_training_data({'ShipName': non_slave_ships})\n",
    "\n",
    "cliwoc_indices, slave_voyage_indices = cl.join_data()"
   ]
  },
  {
   "cell_type": "markdown",
   "metadata": {},
   "source": [
    "# example of how to access data from outside of the classifier, if you want it"
   ]
  },
  {
   "cell_type": "code",
   "execution_count": 4,
   "metadata": {
    "collapsed": false
   },
   "outputs": [
    {
     "data": {
      "text/html": [
       "<div>\n",
       "<table border=\"1\" class=\"dataframe\">\n",
       "  <thead>\n",
       "    <tr style=\"text-align: right;\">\n",
       "      <th></th>\n",
       "      <th>VoyageFrom</th>\n",
       "      <th>VoyageTo</th>\n",
       "      <th>ShipType</th>\n",
       "      <th>Nationality</th>\n",
       "      <th>Year</th>\n",
       "    </tr>\n",
       "  </thead>\n",
       "  <tbody>\n",
       "    <tr>\n",
       "      <th>0</th>\n",
       "      <td>ISLA DE ALBIMOR EN LAS GALAPAGOS</td>\n",
       "      <td>PACOCHA</td>\n",
       "      <td>FRAGATA</td>\n",
       "      <td>Spanish</td>\n",
       "      <td>1800</td>\n",
       "    </tr>\n",
       "    <tr>\n",
       "      <th>1</th>\n",
       "      <td>DESCONOCIDO (CREO QUE ACAPULCO)</td>\n",
       "      <td>SAN BLAS</td>\n",
       "      <td>PAQUEBOTE</td>\n",
       "      <td>Spanish</td>\n",
       "      <td>1790</td>\n",
       "    </tr>\n",
       "    <tr>\n",
       "      <th>2</th>\n",
       "      <td>DESCONOCIDO (CREO QUE ACAPULCO)</td>\n",
       "      <td>SAN BLAS</td>\n",
       "      <td>PAQUEBOTE</td>\n",
       "      <td>Spanish</td>\n",
       "      <td>1790</td>\n",
       "    </tr>\n",
       "    <tr>\n",
       "      <th>3</th>\n",
       "      <td>DESCONOCIDO (CREO QUE ACAPULCO)</td>\n",
       "      <td>SAN BLAS</td>\n",
       "      <td>PAQUEBOTE</td>\n",
       "      <td>Spanish</td>\n",
       "      <td>1790</td>\n",
       "    </tr>\n",
       "    <tr>\n",
       "      <th>4</th>\n",
       "      <td>DESCONOCIDO (CREO QUE ACAPULCO)</td>\n",
       "      <td>SAN BLAS</td>\n",
       "      <td>PAQUEBOTE</td>\n",
       "      <td>Spanish</td>\n",
       "      <td>1790</td>\n",
       "    </tr>\n",
       "  </tbody>\n",
       "</table>\n",
       "</div>"
      ],
      "text/plain": [
       "                         VoyageFrom  VoyageTo   ShipType Nationality  Year\n",
       "0  ISLA DE ALBIMOR EN LAS GALAPAGOS   PACOCHA    FRAGATA     Spanish  1800\n",
       "1   DESCONOCIDO (CREO QUE ACAPULCO)  SAN BLAS  PAQUEBOTE     Spanish  1790\n",
       "2   DESCONOCIDO (CREO QUE ACAPULCO)  SAN BLAS  PAQUEBOTE     Spanish  1790\n",
       "3   DESCONOCIDO (CREO QUE ACAPULCO)  SAN BLAS  PAQUEBOTE     Spanish  1790\n",
       "4   DESCONOCIDO (CREO QUE ACAPULCO)  SAN BLAS  PAQUEBOTE     Spanish  1790"
      ]
     },
     "execution_count": 4,
     "metadata": {},
     "output_type": "execute_result"
    }
   ],
   "source": [
    "cl.cliwoc_data.head()"
   ]
  },
  {
   "cell_type": "code",
   "execution_count": 5,
   "metadata": {
    "collapsed": false
   },
   "outputs": [
    {
     "data": {
      "text/html": [
       "<div>\n",
       "<table border=\"1\" class=\"dataframe\">\n",
       "  <thead>\n",
       "    <tr style=\"text-align: right;\">\n",
       "      <th></th>\n",
       "      <th>Nationality</th>\n",
       "      <th>ShipType</th>\n",
       "      <th>VoyageFrom</th>\n",
       "      <th>VoyageTo</th>\n",
       "      <th>Year</th>\n",
       "    </tr>\n",
       "  </thead>\n",
       "  <tbody>\n",
       "    <tr>\n",
       "      <th>1</th>\n",
       "      <td>Portugal</td>\n",
       "      <td>Bergantim</td>\n",
       "      <td>Rio de Janeiro</td>\n",
       "      <td>Alicante</td>\n",
       "      <td>1816</td>\n",
       "    </tr>\n",
       "    <tr>\n",
       "      <th>2</th>\n",
       "      <td>Spain</td>\n",
       "      <td>Bergantim</td>\n",
       "      <td>Bahia, port unspecified</td>\n",
       "      <td>Alicante</td>\n",
       "      <td>1816</td>\n",
       "    </tr>\n",
       "    <tr>\n",
       "      <th>3</th>\n",
       "      <td>Spain</td>\n",
       "      <td>Bergantim</td>\n",
       "      <td>Bahia, port unspecified</td>\n",
       "      <td>Alicante</td>\n",
       "      <td>1816</td>\n",
       "    </tr>\n",
       "    <tr>\n",
       "      <th>4</th>\n",
       "      <td>Spain</td>\n",
       "      <td>Bergantim</td>\n",
       "      <td>Bahia, port unspecified</td>\n",
       "      <td>Alicante</td>\n",
       "      <td>1816</td>\n",
       "    </tr>\n",
       "    <tr>\n",
       "      <th>5</th>\n",
       "      <td>Spain</td>\n",
       "      <td>Galera</td>\n",
       "      <td>Alicante</td>\n",
       "      <td>Alicante</td>\n",
       "      <td>1817</td>\n",
       "    </tr>\n",
       "  </tbody>\n",
       "</table>\n",
       "</div>"
      ],
      "text/plain": [
       "  Nationality   ShipType               VoyageFrom  VoyageTo  Year\n",
       "1    Portugal  Bergantim           Rio de Janeiro  Alicante  1816\n",
       "2       Spain  Bergantim  Bahia, port unspecified  Alicante  1816\n",
       "3       Spain  Bergantim  Bahia, port unspecified  Alicante  1816\n",
       "4       Spain  Bergantim  Bahia, port unspecified  Alicante  1816\n",
       "5       Spain     Galera                 Alicante  Alicante  1817"
      ]
     },
     "execution_count": 5,
     "metadata": {},
     "output_type": "execute_result"
    }
   ],
   "source": [
    "cl.slave_voyage_logs.head()"
   ]
  },
  {
   "cell_type": "code",
   "execution_count": 6,
   "metadata": {
    "collapsed": false
   },
   "outputs": [
    {
     "data": {
      "text/html": [
       "<div>\n",
       "<table border=\"1\" class=\"dataframe\">\n",
       "  <thead>\n",
       "    <tr style=\"text-align: right;\">\n",
       "      <th></th>\n",
       "      <th>Nationality</th>\n",
       "      <th>ShipType</th>\n",
       "      <th>VoyageFrom</th>\n",
       "      <th>VoyageTo</th>\n",
       "      <th>Year</th>\n",
       "    </tr>\n",
       "  </thead>\n",
       "  <tbody>\n",
       "    <tr>\n",
       "      <th>0</th>\n",
       "      <td>Spanish</td>\n",
       "      <td>FRAGATA</td>\n",
       "      <td>ISLA DE ALBIMOR EN LAS GALAPAGOS</td>\n",
       "      <td>PACOCHA</td>\n",
       "      <td>1800</td>\n",
       "    </tr>\n",
       "    <tr>\n",
       "      <th>1</th>\n",
       "      <td>Spanish</td>\n",
       "      <td>PAQUEBOTE</td>\n",
       "      <td>DESCONOCIDO (CREO QUE ACAPULCO)</td>\n",
       "      <td>SAN BLAS</td>\n",
       "      <td>1790</td>\n",
       "    </tr>\n",
       "    <tr>\n",
       "      <th>2</th>\n",
       "      <td>Spanish</td>\n",
       "      <td>PAQUEBOTE</td>\n",
       "      <td>DESCONOCIDO (CREO QUE ACAPULCO)</td>\n",
       "      <td>SAN BLAS</td>\n",
       "      <td>1790</td>\n",
       "    </tr>\n",
       "    <tr>\n",
       "      <th>3</th>\n",
       "      <td>Spanish</td>\n",
       "      <td>PAQUEBOTE</td>\n",
       "      <td>DESCONOCIDO (CREO QUE ACAPULCO)</td>\n",
       "      <td>SAN BLAS</td>\n",
       "      <td>1790</td>\n",
       "    </tr>\n",
       "    <tr>\n",
       "      <th>4</th>\n",
       "      <td>Spanish</td>\n",
       "      <td>PAQUEBOTE</td>\n",
       "      <td>DESCONOCIDO (CREO QUE ACAPULCO)</td>\n",
       "      <td>SAN BLAS</td>\n",
       "      <td>1790</td>\n",
       "    </tr>\n",
       "  </tbody>\n",
       "</table>\n",
       "</div>"
      ],
      "text/plain": [
       "  Nationality   ShipType                        VoyageFrom  VoyageTo  Year\n",
       "0     Spanish    FRAGATA  ISLA DE ALBIMOR EN LAS GALAPAGOS   PACOCHA  1800\n",
       "1     Spanish  PAQUEBOTE   DESCONOCIDO (CREO QUE ACAPULCO)  SAN BLAS  1790\n",
       "2     Spanish  PAQUEBOTE   DESCONOCIDO (CREO QUE ACAPULCO)  SAN BLAS  1790\n",
       "3     Spanish  PAQUEBOTE   DESCONOCIDO (CREO QUE ACAPULCO)  SAN BLAS  1790\n",
       "4     Spanish  PAQUEBOTE   DESCONOCIDO (CREO QUE ACAPULCO)  SAN BLAS  1790"
      ]
     },
     "execution_count": 6,
     "metadata": {},
     "output_type": "execute_result"
    }
   ],
   "source": [
    "cl.all_data.head()"
   ]
  },
  {
   "cell_type": "code",
   "execution_count": 7,
   "metadata": {
    "collapsed": false
   },
   "outputs": [
    {
     "data": {
      "text/html": [
       "<div>\n",
       "<table border=\"1\" class=\"dataframe\">\n",
       "  <thead>\n",
       "    <tr style=\"text-align: right;\">\n",
       "      <th></th>\n",
       "      <th>Nationality</th>\n",
       "      <th>ShipType</th>\n",
       "      <th>VoyageFrom</th>\n",
       "      <th>VoyageTo</th>\n",
       "      <th>Year</th>\n",
       "    </tr>\n",
       "  </thead>\n",
       "  <tbody>\n",
       "    <tr>\n",
       "      <th>313062</th>\n",
       "      <td>Portugal</td>\n",
       "      <td>Brig</td>\n",
       "      <td>Alicante</td>\n",
       "      <td>Alicante</td>\n",
       "      <td>1849</td>\n",
       "    </tr>\n",
       "    <tr>\n",
       "      <th>313063</th>\n",
       "      <td>France</td>\n",
       "      <td>Brig</td>\n",
       "      <td>Alicante</td>\n",
       "      <td>Alicante</td>\n",
       "      <td>1850</td>\n",
       "    </tr>\n",
       "    <tr>\n",
       "      <th>313064</th>\n",
       "      <td>Spain</td>\n",
       "      <td>Brig</td>\n",
       "      <td>Havana</td>\n",
       "      <td>Alicante</td>\n",
       "      <td>1851</td>\n",
       "    </tr>\n",
       "    <tr>\n",
       "      <th>313065</th>\n",
       "      <td>Portugal</td>\n",
       "      <td>Patacho</td>\n",
       "      <td>Alicante</td>\n",
       "      <td>Alicante</td>\n",
       "      <td>1851</td>\n",
       "    </tr>\n",
       "    <tr>\n",
       "      <th>313066</th>\n",
       "      <td>Spain</td>\n",
       "      <td>Brig</td>\n",
       "      <td>Alicante</td>\n",
       "      <td>Alicante</td>\n",
       "      <td>1851</td>\n",
       "    </tr>\n",
       "  </tbody>\n",
       "</table>\n",
       "</div>"
      ],
      "text/plain": [
       "       Nationality ShipType VoyageFrom  VoyageTo  Year\n",
       "313062    Portugal     Brig   Alicante  Alicante  1849\n",
       "313063      France     Brig   Alicante  Alicante  1850\n",
       "313064       Spain     Brig     Havana  Alicante  1851\n",
       "313065    Portugal  Patacho   Alicante  Alicante  1851\n",
       "313066       Spain     Brig   Alicante  Alicante  1851"
      ]
     },
     "execution_count": 7,
     "metadata": {},
     "output_type": "execute_result"
    }
   ],
   "source": [
    "cl.all_data.tail()"
   ]
  },
  {
   "cell_type": "code",
   "execution_count": null,
   "metadata": {
    "collapsed": true
   },
   "outputs": [],
   "source": []
  }
 ],
 "metadata": {
  "kernelspec": {
   "display_name": "Python 3",
   "language": "python",
   "name": "python3"
  },
  "language_info": {
   "codemirror_mode": {
    "name": "ipython",
    "version": 3
   },
   "file_extension": ".py",
   "mimetype": "text/x-python",
   "name": "python",
   "nbconvert_exporter": "python",
   "pygments_lexer": "ipython3",
   "version": "3.5.1"
  }
 },
 "nbformat": 4,
 "nbformat_minor": 0
}
